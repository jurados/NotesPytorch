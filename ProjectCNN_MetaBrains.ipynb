{
 "cells": [
  {
   "cell_type": "code",
   "execution_count": 1,
   "metadata": {},
   "outputs": [],
   "source": [
    "import numpy as np\n",
    "import pandas as pd\n",
    "import matplotlib.pyplot as plt\n",
    "\n",
    "import torch\n",
    "from torch import nn\n",
    "import torch.nn.functional as F\n",
    "from torchvision import datasets, transforms\n",
    "from torch.utils.data import DataLoader\n",
    "\n",
    "from tqdm.auto import tqdm"
   ]
  },
  {
   "cell_type": "code",
   "execution_count": 2,
   "metadata": {},
   "outputs": [],
   "source": [
    "train_dataset = datasets.MNIST(root='./data', train=True, download=True, transform=transforms.Compose([transforms.ToTensor()]))\n",
    "test_dataset = datasets.MNIST(root='./data', train=False, download=True, transform=transforms.Compose([transforms.ToTensor()]))"
   ]
  },
  {
   "cell_type": "code",
   "execution_count": null,
   "metadata": {},
   "outputs": [],
   "source": [
    "# Las filas son el número de datos por banda y luego por "
   ]
  },
  {
   "cell_type": "code",
   "execution_count": 14,
   "metadata": {},
   "outputs": [],
   "source": [
    "X_train, y_train = train_dataset.data, train_dataset.targets\n",
    "X_test, y_test = test_dataset.data, test_dataset.targets\n",
    "\n",
    "X_train = X_train.unsqueeze(dim=1)\n",
    "X_test = X_test.unsqueeze(dim=1)"
   ]
  },
  {
   "cell_type": "code",
   "execution_count": 15,
   "metadata": {},
   "outputs": [
    {
     "name": "stdout",
     "output_type": "stream",
     "text": [
      "torch.Size([60000, 1, 28, 28]) tensor([5, 0, 4,  ..., 5, 6, 8])\n",
      "torch.Size([10000, 1, 28, 28]) tensor([7, 2, 1,  ..., 4, 5, 6])\n",
      "torch.Size([60000, 1, 28, 28]) tensor([5, 0, 4,  ..., 5, 6, 8])\n",
      "torch.Size([10000, 1, 28, 28]) tensor([7, 2, 1,  ..., 4, 5, 6])\n"
     ]
    }
   ],
   "source": [
    "print(X_train.shape, y_train)\n",
    "print(X_test.shape, y_test)"
   ]
  },
  {
   "cell_type": "code",
   "execution_count": 30,
   "metadata": {},
   "outputs": [
    {
     "name": "stdout",
     "output_type": "stream",
     "text": [
      "torch.Size([32, 28, 28, 1]) tensor([6, 6, 8, 6, 5, 2, 9, 7, 2, 6, 3, 8, 1, 2, 5, 9, 6, 9, 0, 2, 2, 5, 9, 0, 8, 6, 4, 1, 9, 4, 1, 7])\n",
      "torch.Size([10000, 28, 28, 1]) tensor([7, 2, 1,  ..., 4, 5, 6])\n",
      "torch.Size([32, 28, 28, 1]) tensor([6, 6, 8, 6, 5, 2, 9, 7, 2, 6, 3, 8, 1, 2, 5, 9, 6, 9, 0, 2, 2, 5, 9, 0, 8, 6, 4, 1, 9, 4, 1, 7])\n",
      "torch.Size([10000, 28, 28, 1]) tensor([7, 2, 1,  ..., 4, 5, 6])\n"
     ]
    }
   ],
   "source": [
    "X_train = X_train.permute(0,2,3,1)\n",
    "X_test = X_test.permute(0,2,3,1)\n",
    "print(X_train.shape, y_train)\n",
    "print(X_test.shape, y_test)"
   ]
  },
  {
   "cell_type": "code",
   "execution_count": 31,
   "metadata": {},
   "outputs": [],
   "source": [
    "X_train = X_train / 255\n",
    "X_test  = X_test  / 255 "
   ]
  },
  {
   "cell_type": "code",
   "execution_count": 32,
   "metadata": {},
   "outputs": [],
   "source": [
    "class ClassifierCNN(nn.Module):\n",
    "    \n",
    "    def __init__(self):\n",
    "        super().__init__()\n",
    "        self.conv2d_1 = nn.Conv2d(in_channels=1, out_channels=32, kernel_size=3)\n",
    "        self.maxpool2d_1 = nn.MaxPool2d(kernel_size=2)\n",
    "        self.linear_1 = nn.Linear(in_features = 32 * 13 * 13, out_features=100)\n",
    "        self.linear_2 = nn.Linear(in_features = 100, out_features=10)\n",
    "        \n",
    "    def forward(self, x):\n",
    "        x = F.relu(self.conv2d_1(x))\n",
    "        x = torch.flatten(self.maxpool2d_1(x))\n",
    "        x = F.relu(self.linear_1(x))\n",
    "        x = F.softmax(self.linear_2(x))\n",
    "        return x"
   ]
  },
  {
   "cell_type": "code",
   "execution_count": 33,
   "metadata": {},
   "outputs": [],
   "source": [
    "model = ClassifierCNN()\n",
    "loss_function = nn.CrossEntropyLoss()\n",
    "optimizer = torch.optim.Adam(model.parameters(),lr=1e-4)"
   ]
  },
  {
   "cell_type": "code",
   "execution_count": 34,
   "metadata": {},
   "outputs": [],
   "source": [
    "# Setup the batch size hyperparmeter\n",
    "BATCH_SIZE = 32\n",
    "\n",
    "# Turn datasets into iterables (batches)\n",
    "train_dataloader = DataLoader(dataset=train_dataset,\n",
    "                              batch_size = BATCH_SIZE,\n",
    "                              shuffle=True)\n",
    "test_loader = DataLoader(dataset=test_dataset,\n",
    "                              batch_size = BATCH_SIZE,\n",
    "                              shuffle=True)"
   ]
  },
  {
   "cell_type": "code",
   "execution_count": 3,
   "metadata": {},
   "outputs": [
    {
     "name": "stderr",
     "output_type": "stream",
     "text": [
      "\r  0%|          | 0/100 [00:00<?, ?it/s]"
     ]
    },
    {
     "name": "stderr",
     "output_type": "stream",
     "text": [
      "\r  0%|          | 0/100 [00:00<?, ?it/s]"
     ]
    },
    {
     "name": "stderr",
     "output_type": "stream",
     "text": [
      "\n"
     ]
    },
    {
     "ename": "NameError",
     "evalue": "name 'train_dataloader' is not defined",
     "output_type": "error",
     "traceback": [
      "\u001b[0;31m---------------------------------------------------------------------------\u001b[0m\n",
      "\u001b[0;31mNameError\u001b[0m                                 Traceback (most recent call last)\n",
      "Cell \u001b[0;32mIn[3], line 3\u001b[0m\n",
      "\u001b[1;32m      1\u001b[0m num_epochs \u001b[38;5;241m=\u001b[39m \u001b[38;5;241m100\u001b[39m\n",
      "\u001b[1;32m      2\u001b[0m \u001b[38;5;28;01mfor\u001b[39;00m epoch \u001b[38;5;129;01min\u001b[39;00m tqdm(\u001b[38;5;28mrange\u001b[39m(num_epochs)):\n",
      "\u001b[0;32m----> 3\u001b[0m     \u001b[38;5;28;01mfor\u001b[39;00m batch, (X_train,y_train) \u001b[38;5;129;01min\u001b[39;00m \u001b[38;5;28menumerate\u001b[39m(\u001b[43mtrain_dataloader\u001b[49m):\n",
      "\u001b[1;32m      4\u001b[0m         model\u001b[38;5;241m.\u001b[39mtrain()\n",
      "\u001b[1;32m      5\u001b[0m         \u001b[38;5;28mprint\u001b[39m(X_train\u001b[38;5;241m.\u001b[39mshape)\n",
      "\n",
      "\u001b[0;31mNameError\u001b[0m: name 'train_dataloader' is not defined"
     ]
    }
   ],
   "source": [
    "num_epochs = 100\n",
    "for epoch in tqdm(range(num_epochs)):\n",
    "    for batch, (X_train,y_train) in enumerate(train_dataloader):\n",
    "        model.train()\n",
    "        print(X_train.shape)\n",
    "        # Forward\n",
    "        y_pred = model(X_train)\n",
    "        \n",
    "        # Calculate the loss\n",
    "        loss = loss_function(outputs, labels)  # Compute loss\n",
    "\n",
    "        # Optimizer\n",
    "        optimizer.zero_grad() \n",
    "        \n",
    "        # Backward\n",
    "        loss.backward() \n",
    "        optimizer.step()"
   ]
  },
  {
   "cell_type": "code",
   "execution_count": null,
   "metadata": {},
   "outputs": [],
   "source": []
  }
 ],
 "metadata": {
  "language_info": {
   "name": "python"
  }
 },
 "nbformat": 4,
 "nbformat_minor": 2
}
