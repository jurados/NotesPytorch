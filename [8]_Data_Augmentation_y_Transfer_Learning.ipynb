{
  "cells": [
    {
      "cell_type": "markdown",
      "metadata": {
        "id": "view-in-github",
        "colab_type": "text"
      },
      "source": [
        "<a href=\"https://colab.research.google.com/github/jurados/NotesPytorch/blob/main/%5B8%5D_Data_Augmentation_y_Transfer_Learning.ipynb\" target=\"_parent\"><img src=\"https://colab.research.google.com/assets/colab-badge.svg\" alt=\"Open In Colab\"/></a>"
      ]
    },
    {
      "cell_type": "code",
      "execution_count": null,
      "metadata": {
        "id": "pExV9tXpDb2_"
      },
      "outputs": [],
      "source": [
        "import numpy as np\n",
        "import matplotlib.pyplot as plt\n",
        "\n",
        "import tensorflow as tf\n",
        "\n",
        "\n",
        "sasasa\n",
        "from tensorflow import keras"
      ]
    },
    {
      "cell_type": "markdown",
      "source": [
        "# Data Augmentation y Transfer Learning"
      ],
      "metadata": {
        "id": "SgffNChFZRha"
      }
    },
    {
      "cell_type": "markdown",
      "source": [
        "*Data Augmentation* adopta el enfoque de generar más datos de entrenamiento a partir de nuestros datos disponibles."
      ],
      "metadata": {
        "id": "lKa0cR9RZW5A"
      }
    },
    {
      "cell_type": "markdown",
      "source": [
        "**Transfer Learning:** En lugar de necesitar entrenar una red neuronal desde cero, se hace desde una red preentrenada.\n",
        "\n",
        "- **Feature Extraction:** Consiste en utilizar los parámetros aprendidos por una red preentrenada para extraer características (_features_) interesantes de nuevos datos. Estas características obtenidas de los nuevos datos se preocesan a través de un nuevo clasificador, que se entrena desde cero.\n",
        "\n",
        "- **Fine-Tuning:** Consiste en hacer un ajuste más fino y entrenar también algunas de las apas finales de la base convolucional del modelo usado para extracción de características, y entrenar conjuntamente tanto la parte agregada del clasificador como estas capas."
      ],
      "metadata": {
        "id": "ifg2FCV0saoU"
      }
    }
  ],
  "metadata": {
    "colab": {
      "collapsed_sections": [
        "SgffNChFZRha"
      ],
      "provenance": [],
      "include_colab_link": true
    },
    "kernelspec": {
      "display_name": "Python 3",
      "name": "python3"
    },
    "language_info": {
      "codemirror_mode": {
        "name": "ipython",
        "version": 3
      },
      "file_extension": ".py",
      "mimetype": "text/x-python",
      "name": "python",
      "nbconvert_exporter": "python",
      "pygments_lexer": "ipython3",
      "version": "3.10.12"
    }
  },
  "nbformat": 4,
  "nbformat_minor": 0
}