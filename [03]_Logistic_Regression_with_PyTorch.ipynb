{
  "nbformat": 4,
  "nbformat_minor": 0,
  "metadata": {
    "colab": {
      "provenance": [],
      "collapsed_sections": [
        "pSkzYrnuKOyd"
      ],
      "authorship_tag": "ABX9TyMhfck/EIdNRyMNMwIMFSUt",
      "include_colab_link": true
    },
    "kernelspec": {
      "name": "python3",
      "display_name": "Python 3"
    },
    "language_info": {
      "name": "python"
    },
    "widgets": {
      "application/vnd.jupyter.widget-state+json": {
        "061b506d4b68431990b4369789b3c14a": {
          "model_module": "@jupyter-widgets/controls",
          "model_name": "HBoxModel",
          "model_module_version": "1.5.0",
          "state": {
            "_dom_classes": [],
            "_model_module": "@jupyter-widgets/controls",
            "_model_module_version": "1.5.0",
            "_model_name": "HBoxModel",
            "_view_count": null,
            "_view_module": "@jupyter-widgets/controls",
            "_view_module_version": "1.5.0",
            "_view_name": "HBoxView",
            "box_style": "",
            "children": [
              "IPY_MODEL_72573995526f48409cc65caad3e00b59",
              "IPY_MODEL_6773c770854d4588b1c205279a587770",
              "IPY_MODEL_59edeb029c0546b69ab2bacddd2a2f46"
            ],
            "layout": "IPY_MODEL_3cd0cbead72946b7855de01e50e76046"
          }
        },
        "72573995526f48409cc65caad3e00b59": {
          "model_module": "@jupyter-widgets/controls",
          "model_name": "HTMLModel",
          "model_module_version": "1.5.0",
          "state": {
            "_dom_classes": [],
            "_model_module": "@jupyter-widgets/controls",
            "_model_module_version": "1.5.0",
            "_model_name": "HTMLModel",
            "_view_count": null,
            "_view_module": "@jupyter-widgets/controls",
            "_view_module_version": "1.5.0",
            "_view_name": "HTMLView",
            "description": "",
            "description_tooltip": null,
            "layout": "IPY_MODEL_94eb4c1140ef4a838f2da0b450595de4",
            "placeholder": "​",
            "style": "IPY_MODEL_4a2d0045dd424c2c81ee10b3a57458e6",
            "value": "  0%"
          }
        },
        "6773c770854d4588b1c205279a587770": {
          "model_module": "@jupyter-widgets/controls",
          "model_name": "FloatProgressModel",
          "model_module_version": "1.5.0",
          "state": {
            "_dom_classes": [],
            "_model_module": "@jupyter-widgets/controls",
            "_model_module_version": "1.5.0",
            "_model_name": "FloatProgressModel",
            "_view_count": null,
            "_view_module": "@jupyter-widgets/controls",
            "_view_module_version": "1.5.0",
            "_view_name": "ProgressView",
            "bar_style": "danger",
            "description": "",
            "description_tooltip": null,
            "layout": "IPY_MODEL_b4fea0e4b144467d943aba4d09c55b78",
            "max": 5,
            "min": 0,
            "orientation": "horizontal",
            "style": "IPY_MODEL_7b60379a8aae408ba44eea6722ad81c1",
            "value": 0
          }
        },
        "59edeb029c0546b69ab2bacddd2a2f46": {
          "model_module": "@jupyter-widgets/controls",
          "model_name": "HTMLModel",
          "model_module_version": "1.5.0",
          "state": {
            "_dom_classes": [],
            "_model_module": "@jupyter-widgets/controls",
            "_model_module_version": "1.5.0",
            "_model_name": "HTMLModel",
            "_view_count": null,
            "_view_module": "@jupyter-widgets/controls",
            "_view_module_version": "1.5.0",
            "_view_name": "HTMLView",
            "description": "",
            "description_tooltip": null,
            "layout": "IPY_MODEL_af258428a24d4b44929b8c24d3c847c6",
            "placeholder": "​",
            "style": "IPY_MODEL_b5c26b26dd9443ecab6bfec97b845675",
            "value": " 0/5 [00:00&lt;?, ?it/s]"
          }
        },
        "3cd0cbead72946b7855de01e50e76046": {
          "model_module": "@jupyter-widgets/base",
          "model_name": "LayoutModel",
          "model_module_version": "1.2.0",
          "state": {
            "_model_module": "@jupyter-widgets/base",
            "_model_module_version": "1.2.0",
            "_model_name": "LayoutModel",
            "_view_count": null,
            "_view_module": "@jupyter-widgets/base",
            "_view_module_version": "1.2.0",
            "_view_name": "LayoutView",
            "align_content": null,
            "align_items": null,
            "align_self": null,
            "border": null,
            "bottom": null,
            "display": null,
            "flex": null,
            "flex_flow": null,
            "grid_area": null,
            "grid_auto_columns": null,
            "grid_auto_flow": null,
            "grid_auto_rows": null,
            "grid_column": null,
            "grid_gap": null,
            "grid_row": null,
            "grid_template_areas": null,
            "grid_template_columns": null,
            "grid_template_rows": null,
            "height": null,
            "justify_content": null,
            "justify_items": null,
            "left": null,
            "margin": null,
            "max_height": null,
            "max_width": null,
            "min_height": null,
            "min_width": null,
            "object_fit": null,
            "object_position": null,
            "order": null,
            "overflow": null,
            "overflow_x": null,
            "overflow_y": null,
            "padding": null,
            "right": null,
            "top": null,
            "visibility": null,
            "width": null
          }
        },
        "94eb4c1140ef4a838f2da0b450595de4": {
          "model_module": "@jupyter-widgets/base",
          "model_name": "LayoutModel",
          "model_module_version": "1.2.0",
          "state": {
            "_model_module": "@jupyter-widgets/base",
            "_model_module_version": "1.2.0",
            "_model_name": "LayoutModel",
            "_view_count": null,
            "_view_module": "@jupyter-widgets/base",
            "_view_module_version": "1.2.0",
            "_view_name": "LayoutView",
            "align_content": null,
            "align_items": null,
            "align_self": null,
            "border": null,
            "bottom": null,
            "display": null,
            "flex": null,
            "flex_flow": null,
            "grid_area": null,
            "grid_auto_columns": null,
            "grid_auto_flow": null,
            "grid_auto_rows": null,
            "grid_column": null,
            "grid_gap": null,
            "grid_row": null,
            "grid_template_areas": null,
            "grid_template_columns": null,
            "grid_template_rows": null,
            "height": null,
            "justify_content": null,
            "justify_items": null,
            "left": null,
            "margin": null,
            "max_height": null,
            "max_width": null,
            "min_height": null,
            "min_width": null,
            "object_fit": null,
            "object_position": null,
            "order": null,
            "overflow": null,
            "overflow_x": null,
            "overflow_y": null,
            "padding": null,
            "right": null,
            "top": null,
            "visibility": null,
            "width": null
          }
        },
        "4a2d0045dd424c2c81ee10b3a57458e6": {
          "model_module": "@jupyter-widgets/controls",
          "model_name": "DescriptionStyleModel",
          "model_module_version": "1.5.0",
          "state": {
            "_model_module": "@jupyter-widgets/controls",
            "_model_module_version": "1.5.0",
            "_model_name": "DescriptionStyleModel",
            "_view_count": null,
            "_view_module": "@jupyter-widgets/base",
            "_view_module_version": "1.2.0",
            "_view_name": "StyleView",
            "description_width": ""
          }
        },
        "b4fea0e4b144467d943aba4d09c55b78": {
          "model_module": "@jupyter-widgets/base",
          "model_name": "LayoutModel",
          "model_module_version": "1.2.0",
          "state": {
            "_model_module": "@jupyter-widgets/base",
            "_model_module_version": "1.2.0",
            "_model_name": "LayoutModel",
            "_view_count": null,
            "_view_module": "@jupyter-widgets/base",
            "_view_module_version": "1.2.0",
            "_view_name": "LayoutView",
            "align_content": null,
            "align_items": null,
            "align_self": null,
            "border": null,
            "bottom": null,
            "display": null,
            "flex": null,
            "flex_flow": null,
            "grid_area": null,
            "grid_auto_columns": null,
            "grid_auto_flow": null,
            "grid_auto_rows": null,
            "grid_column": null,
            "grid_gap": null,
            "grid_row": null,
            "grid_template_areas": null,
            "grid_template_columns": null,
            "grid_template_rows": null,
            "height": null,
            "justify_content": null,
            "justify_items": null,
            "left": null,
            "margin": null,
            "max_height": null,
            "max_width": null,
            "min_height": null,
            "min_width": null,
            "object_fit": null,
            "object_position": null,
            "order": null,
            "overflow": null,
            "overflow_x": null,
            "overflow_y": null,
            "padding": null,
            "right": null,
            "top": null,
            "visibility": null,
            "width": null
          }
        },
        "7b60379a8aae408ba44eea6722ad81c1": {
          "model_module": "@jupyter-widgets/controls",
          "model_name": "ProgressStyleModel",
          "model_module_version": "1.5.0",
          "state": {
            "_model_module": "@jupyter-widgets/controls",
            "_model_module_version": "1.5.0",
            "_model_name": "ProgressStyleModel",
            "_view_count": null,
            "_view_module": "@jupyter-widgets/base",
            "_view_module_version": "1.2.0",
            "_view_name": "StyleView",
            "bar_color": null,
            "description_width": ""
          }
        },
        "af258428a24d4b44929b8c24d3c847c6": {
          "model_module": "@jupyter-widgets/base",
          "model_name": "LayoutModel",
          "model_module_version": "1.2.0",
          "state": {
            "_model_module": "@jupyter-widgets/base",
            "_model_module_version": "1.2.0",
            "_model_name": "LayoutModel",
            "_view_count": null,
            "_view_module": "@jupyter-widgets/base",
            "_view_module_version": "1.2.0",
            "_view_name": "LayoutView",
            "align_content": null,
            "align_items": null,
            "align_self": null,
            "border": null,
            "bottom": null,
            "display": null,
            "flex": null,
            "flex_flow": null,
            "grid_area": null,
            "grid_auto_columns": null,
            "grid_auto_flow": null,
            "grid_auto_rows": null,
            "grid_column": null,
            "grid_gap": null,
            "grid_row": null,
            "grid_template_areas": null,
            "grid_template_columns": null,
            "grid_template_rows": null,
            "height": null,
            "justify_content": null,
            "justify_items": null,
            "left": null,
            "margin": null,
            "max_height": null,
            "max_width": null,
            "min_height": null,
            "min_width": null,
            "object_fit": null,
            "object_position": null,
            "order": null,
            "overflow": null,
            "overflow_x": null,
            "overflow_y": null,
            "padding": null,
            "right": null,
            "top": null,
            "visibility": null,
            "width": null
          }
        },
        "b5c26b26dd9443ecab6bfec97b845675": {
          "model_module": "@jupyter-widgets/controls",
          "model_name": "DescriptionStyleModel",
          "model_module_version": "1.5.0",
          "state": {
            "_model_module": "@jupyter-widgets/controls",
            "_model_module_version": "1.5.0",
            "_model_name": "DescriptionStyleModel",
            "_view_count": null,
            "_view_module": "@jupyter-widgets/base",
            "_view_module_version": "1.2.0",
            "_view_name": "StyleView",
            "description_width": ""
          }
        },
        "dd26b9b8127249d3a3ca9896a06d4fdb": {
          "model_module": "@jupyter-widgets/controls",
          "model_name": "HBoxModel",
          "model_module_version": "1.5.0",
          "state": {
            "_dom_classes": [],
            "_model_module": "@jupyter-widgets/controls",
            "_model_module_version": "1.5.0",
            "_model_name": "HBoxModel",
            "_view_count": null,
            "_view_module": "@jupyter-widgets/controls",
            "_view_module_version": "1.5.0",
            "_view_name": "HBoxView",
            "box_style": "",
            "children": [
              "IPY_MODEL_bec6e0d63a834a7ab1dcc5e270507da0",
              "IPY_MODEL_cddb164b270b4272bf2766c3865ef66f",
              "IPY_MODEL_4aa7f86bacdf4c15b052fe3fdbd4fc55"
            ],
            "layout": "IPY_MODEL_d820ab8f9125459c864155ce131a73c8"
          }
        },
        "bec6e0d63a834a7ab1dcc5e270507da0": {
          "model_module": "@jupyter-widgets/controls",
          "model_name": "HTMLModel",
          "model_module_version": "1.5.0",
          "state": {
            "_dom_classes": [],
            "_model_module": "@jupyter-widgets/controls",
            "_model_module_version": "1.5.0",
            "_model_name": "HTMLModel",
            "_view_count": null,
            "_view_module": "@jupyter-widgets/controls",
            "_view_module_version": "1.5.0",
            "_view_name": "HTMLView",
            "description": "",
            "description_tooltip": null,
            "layout": "IPY_MODEL_f4af57d04242448797d7c737767dcdc4",
            "placeholder": "​",
            "style": "IPY_MODEL_6ea5b19e05404d55a4ca534a8562c5eb",
            "value": "  0%"
          }
        },
        "cddb164b270b4272bf2766c3865ef66f": {
          "model_module": "@jupyter-widgets/controls",
          "model_name": "FloatProgressModel",
          "model_module_version": "1.5.0",
          "state": {
            "_dom_classes": [],
            "_model_module": "@jupyter-widgets/controls",
            "_model_module_version": "1.5.0",
            "_model_name": "FloatProgressModel",
            "_view_count": null,
            "_view_module": "@jupyter-widgets/controls",
            "_view_module_version": "1.5.0",
            "_view_name": "ProgressView",
            "bar_style": "danger",
            "description": "",
            "description_tooltip": null,
            "layout": "IPY_MODEL_e37dc5e00a214b3abf37dab11d275586",
            "max": 5,
            "min": 0,
            "orientation": "horizontal",
            "style": "IPY_MODEL_35c78f0e0ee240d2961ad027ae556d66",
            "value": 0
          }
        },
        "4aa7f86bacdf4c15b052fe3fdbd4fc55": {
          "model_module": "@jupyter-widgets/controls",
          "model_name": "HTMLModel",
          "model_module_version": "1.5.0",
          "state": {
            "_dom_classes": [],
            "_model_module": "@jupyter-widgets/controls",
            "_model_module_version": "1.5.0",
            "_model_name": "HTMLModel",
            "_view_count": null,
            "_view_module": "@jupyter-widgets/controls",
            "_view_module_version": "1.5.0",
            "_view_name": "HTMLView",
            "description": "",
            "description_tooltip": null,
            "layout": "IPY_MODEL_86d84beb5c544287b50e4a748de40231",
            "placeholder": "​",
            "style": "IPY_MODEL_e0e880e12bfe46edb271c28a6ed37740",
            "value": " 0/5 [00:00&lt;?, ?it/s]"
          }
        },
        "d820ab8f9125459c864155ce131a73c8": {
          "model_module": "@jupyter-widgets/base",
          "model_name": "LayoutModel",
          "model_module_version": "1.2.0",
          "state": {
            "_model_module": "@jupyter-widgets/base",
            "_model_module_version": "1.2.0",
            "_model_name": "LayoutModel",
            "_view_count": null,
            "_view_module": "@jupyter-widgets/base",
            "_view_module_version": "1.2.0",
            "_view_name": "LayoutView",
            "align_content": null,
            "align_items": null,
            "align_self": null,
            "border": null,
            "bottom": null,
            "display": null,
            "flex": null,
            "flex_flow": null,
            "grid_area": null,
            "grid_auto_columns": null,
            "grid_auto_flow": null,
            "grid_auto_rows": null,
            "grid_column": null,
            "grid_gap": null,
            "grid_row": null,
            "grid_template_areas": null,
            "grid_template_columns": null,
            "grid_template_rows": null,
            "height": null,
            "justify_content": null,
            "justify_items": null,
            "left": null,
            "margin": null,
            "max_height": null,
            "max_width": null,
            "min_height": null,
            "min_width": null,
            "object_fit": null,
            "object_position": null,
            "order": null,
            "overflow": null,
            "overflow_x": null,
            "overflow_y": null,
            "padding": null,
            "right": null,
            "top": null,
            "visibility": null,
            "width": null
          }
        },
        "f4af57d04242448797d7c737767dcdc4": {
          "model_module": "@jupyter-widgets/base",
          "model_name": "LayoutModel",
          "model_module_version": "1.2.0",
          "state": {
            "_model_module": "@jupyter-widgets/base",
            "_model_module_version": "1.2.0",
            "_model_name": "LayoutModel",
            "_view_count": null,
            "_view_module": "@jupyter-widgets/base",
            "_view_module_version": "1.2.0",
            "_view_name": "LayoutView",
            "align_content": null,
            "align_items": null,
            "align_self": null,
            "border": null,
            "bottom": null,
            "display": null,
            "flex": null,
            "flex_flow": null,
            "grid_area": null,
            "grid_auto_columns": null,
            "grid_auto_flow": null,
            "grid_auto_rows": null,
            "grid_column": null,
            "grid_gap": null,
            "grid_row": null,
            "grid_template_areas": null,
            "grid_template_columns": null,
            "grid_template_rows": null,
            "height": null,
            "justify_content": null,
            "justify_items": null,
            "left": null,
            "margin": null,
            "max_height": null,
            "max_width": null,
            "min_height": null,
            "min_width": null,
            "object_fit": null,
            "object_position": null,
            "order": null,
            "overflow": null,
            "overflow_x": null,
            "overflow_y": null,
            "padding": null,
            "right": null,
            "top": null,
            "visibility": null,
            "width": null
          }
        },
        "6ea5b19e05404d55a4ca534a8562c5eb": {
          "model_module": "@jupyter-widgets/controls",
          "model_name": "DescriptionStyleModel",
          "model_module_version": "1.5.0",
          "state": {
            "_model_module": "@jupyter-widgets/controls",
            "_model_module_version": "1.5.0",
            "_model_name": "DescriptionStyleModel",
            "_view_count": null,
            "_view_module": "@jupyter-widgets/base",
            "_view_module_version": "1.2.0",
            "_view_name": "StyleView",
            "description_width": ""
          }
        },
        "e37dc5e00a214b3abf37dab11d275586": {
          "model_module": "@jupyter-widgets/base",
          "model_name": "LayoutModel",
          "model_module_version": "1.2.0",
          "state": {
            "_model_module": "@jupyter-widgets/base",
            "_model_module_version": "1.2.0",
            "_model_name": "LayoutModel",
            "_view_count": null,
            "_view_module": "@jupyter-widgets/base",
            "_view_module_version": "1.2.0",
            "_view_name": "LayoutView",
            "align_content": null,
            "align_items": null,
            "align_self": null,
            "border": null,
            "bottom": null,
            "display": null,
            "flex": null,
            "flex_flow": null,
            "grid_area": null,
            "grid_auto_columns": null,
            "grid_auto_flow": null,
            "grid_auto_rows": null,
            "grid_column": null,
            "grid_gap": null,
            "grid_row": null,
            "grid_template_areas": null,
            "grid_template_columns": null,
            "grid_template_rows": null,
            "height": null,
            "justify_content": null,
            "justify_items": null,
            "left": null,
            "margin": null,
            "max_height": null,
            "max_width": null,
            "min_height": null,
            "min_width": null,
            "object_fit": null,
            "object_position": null,
            "order": null,
            "overflow": null,
            "overflow_x": null,
            "overflow_y": null,
            "padding": null,
            "right": null,
            "top": null,
            "visibility": null,
            "width": null
          }
        },
        "35c78f0e0ee240d2961ad027ae556d66": {
          "model_module": "@jupyter-widgets/controls",
          "model_name": "ProgressStyleModel",
          "model_module_version": "1.5.0",
          "state": {
            "_model_module": "@jupyter-widgets/controls",
            "_model_module_version": "1.5.0",
            "_model_name": "ProgressStyleModel",
            "_view_count": null,
            "_view_module": "@jupyter-widgets/base",
            "_view_module_version": "1.2.0",
            "_view_name": "StyleView",
            "bar_color": null,
            "description_width": ""
          }
        },
        "86d84beb5c544287b50e4a748de40231": {
          "model_module": "@jupyter-widgets/base",
          "model_name": "LayoutModel",
          "model_module_version": "1.2.0",
          "state": {
            "_model_module": "@jupyter-widgets/base",
            "_model_module_version": "1.2.0",
            "_model_name": "LayoutModel",
            "_view_count": null,
            "_view_module": "@jupyter-widgets/base",
            "_view_module_version": "1.2.0",
            "_view_name": "LayoutView",
            "align_content": null,
            "align_items": null,
            "align_self": null,
            "border": null,
            "bottom": null,
            "display": null,
            "flex": null,
            "flex_flow": null,
            "grid_area": null,
            "grid_auto_columns": null,
            "grid_auto_flow": null,
            "grid_auto_rows": null,
            "grid_column": null,
            "grid_gap": null,
            "grid_row": null,
            "grid_template_areas": null,
            "grid_template_columns": null,
            "grid_template_rows": null,
            "height": null,
            "justify_content": null,
            "justify_items": null,
            "left": null,
            "margin": null,
            "max_height": null,
            "max_width": null,
            "min_height": null,
            "min_width": null,
            "object_fit": null,
            "object_position": null,
            "order": null,
            "overflow": null,
            "overflow_x": null,
            "overflow_y": null,
            "padding": null,
            "right": null,
            "top": null,
            "visibility": null,
            "width": null
          }
        },
        "e0e880e12bfe46edb271c28a6ed37740": {
          "model_module": "@jupyter-widgets/controls",
          "model_name": "DescriptionStyleModel",
          "model_module_version": "1.5.0",
          "state": {
            "_model_module": "@jupyter-widgets/controls",
            "_model_module_version": "1.5.0",
            "_model_name": "DescriptionStyleModel",
            "_view_count": null,
            "_view_module": "@jupyter-widgets/base",
            "_view_module_version": "1.2.0",
            "_view_name": "StyleView",
            "description_width": ""
          }
        },
        "1cf7567a5ebe44108e0d8c7bbd64350a": {
          "model_module": "@jupyter-widgets/controls",
          "model_name": "HBoxModel",
          "model_module_version": "1.5.0",
          "state": {
            "_dom_classes": [],
            "_model_module": "@jupyter-widgets/controls",
            "_model_module_version": "1.5.0",
            "_model_name": "HBoxModel",
            "_view_count": null,
            "_view_module": "@jupyter-widgets/controls",
            "_view_module_version": "1.5.0",
            "_view_name": "HBoxView",
            "box_style": "",
            "children": [
              "IPY_MODEL_ba6022e2345d462dbec4ee8b6c2181a4",
              "IPY_MODEL_ac1d8d6282154a38a3bf938d87dd20ba",
              "IPY_MODEL_d6c72371c72246b5bfca55fc7c5d8eab"
            ],
            "layout": "IPY_MODEL_86ec17929c3241d0ba56b90aafac9dd6"
          }
        },
        "ba6022e2345d462dbec4ee8b6c2181a4": {
          "model_module": "@jupyter-widgets/controls",
          "model_name": "HTMLModel",
          "model_module_version": "1.5.0",
          "state": {
            "_dom_classes": [],
            "_model_module": "@jupyter-widgets/controls",
            "_model_module_version": "1.5.0",
            "_model_name": "HTMLModel",
            "_view_count": null,
            "_view_module": "@jupyter-widgets/controls",
            "_view_module_version": "1.5.0",
            "_view_name": "HTMLView",
            "description": "",
            "description_tooltip": null,
            "layout": "IPY_MODEL_7b386b1a017d426290599b61cd5225d8",
            "placeholder": "​",
            "style": "IPY_MODEL_db4f313b37fb492d904c2e2ec6a26e39",
            "value": "  0%"
          }
        },
        "ac1d8d6282154a38a3bf938d87dd20ba": {
          "model_module": "@jupyter-widgets/controls",
          "model_name": "FloatProgressModel",
          "model_module_version": "1.5.0",
          "state": {
            "_dom_classes": [],
            "_model_module": "@jupyter-widgets/controls",
            "_model_module_version": "1.5.0",
            "_model_name": "FloatProgressModel",
            "_view_count": null,
            "_view_module": "@jupyter-widgets/controls",
            "_view_module_version": "1.5.0",
            "_view_name": "ProgressView",
            "bar_style": "danger",
            "description": "",
            "description_tooltip": null,
            "layout": "IPY_MODEL_5661061b3a574fc389d556bb37f52a5d",
            "max": 5,
            "min": 0,
            "orientation": "horizontal",
            "style": "IPY_MODEL_d6759db72349420f8eedae7a94e8aa71",
            "value": 0
          }
        },
        "d6c72371c72246b5bfca55fc7c5d8eab": {
          "model_module": "@jupyter-widgets/controls",
          "model_name": "HTMLModel",
          "model_module_version": "1.5.0",
          "state": {
            "_dom_classes": [],
            "_model_module": "@jupyter-widgets/controls",
            "_model_module_version": "1.5.0",
            "_model_name": "HTMLModel",
            "_view_count": null,
            "_view_module": "@jupyter-widgets/controls",
            "_view_module_version": "1.5.0",
            "_view_name": "HTMLView",
            "description": "",
            "description_tooltip": null,
            "layout": "IPY_MODEL_229ed4aa01e14e90a55a7d96cc43a1d3",
            "placeholder": "​",
            "style": "IPY_MODEL_da8eff761e3446a687005c833613062c",
            "value": " 0/5 [00:00&lt;?, ?it/s]"
          }
        },
        "86ec17929c3241d0ba56b90aafac9dd6": {
          "model_module": "@jupyter-widgets/base",
          "model_name": "LayoutModel",
          "model_module_version": "1.2.0",
          "state": {
            "_model_module": "@jupyter-widgets/base",
            "_model_module_version": "1.2.0",
            "_model_name": "LayoutModel",
            "_view_count": null,
            "_view_module": "@jupyter-widgets/base",
            "_view_module_version": "1.2.0",
            "_view_name": "LayoutView",
            "align_content": null,
            "align_items": null,
            "align_self": null,
            "border": null,
            "bottom": null,
            "display": null,
            "flex": null,
            "flex_flow": null,
            "grid_area": null,
            "grid_auto_columns": null,
            "grid_auto_flow": null,
            "grid_auto_rows": null,
            "grid_column": null,
            "grid_gap": null,
            "grid_row": null,
            "grid_template_areas": null,
            "grid_template_columns": null,
            "grid_template_rows": null,
            "height": null,
            "justify_content": null,
            "justify_items": null,
            "left": null,
            "margin": null,
            "max_height": null,
            "max_width": null,
            "min_height": null,
            "min_width": null,
            "object_fit": null,
            "object_position": null,
            "order": null,
            "overflow": null,
            "overflow_x": null,
            "overflow_y": null,
            "padding": null,
            "right": null,
            "top": null,
            "visibility": null,
            "width": null
          }
        },
        "7b386b1a017d426290599b61cd5225d8": {
          "model_module": "@jupyter-widgets/base",
          "model_name": "LayoutModel",
          "model_module_version": "1.2.0",
          "state": {
            "_model_module": "@jupyter-widgets/base",
            "_model_module_version": "1.2.0",
            "_model_name": "LayoutModel",
            "_view_count": null,
            "_view_module": "@jupyter-widgets/base",
            "_view_module_version": "1.2.0",
            "_view_name": "LayoutView",
            "align_content": null,
            "align_items": null,
            "align_self": null,
            "border": null,
            "bottom": null,
            "display": null,
            "flex": null,
            "flex_flow": null,
            "grid_area": null,
            "grid_auto_columns": null,
            "grid_auto_flow": null,
            "grid_auto_rows": null,
            "grid_column": null,
            "grid_gap": null,
            "grid_row": null,
            "grid_template_areas": null,
            "grid_template_columns": null,
            "grid_template_rows": null,
            "height": null,
            "justify_content": null,
            "justify_items": null,
            "left": null,
            "margin": null,
            "max_height": null,
            "max_width": null,
            "min_height": null,
            "min_width": null,
            "object_fit": null,
            "object_position": null,
            "order": null,
            "overflow": null,
            "overflow_x": null,
            "overflow_y": null,
            "padding": null,
            "right": null,
            "top": null,
            "visibility": null,
            "width": null
          }
        },
        "db4f313b37fb492d904c2e2ec6a26e39": {
          "model_module": "@jupyter-widgets/controls",
          "model_name": "DescriptionStyleModel",
          "model_module_version": "1.5.0",
          "state": {
            "_model_module": "@jupyter-widgets/controls",
            "_model_module_version": "1.5.0",
            "_model_name": "DescriptionStyleModel",
            "_view_count": null,
            "_view_module": "@jupyter-widgets/base",
            "_view_module_version": "1.2.0",
            "_view_name": "StyleView",
            "description_width": ""
          }
        },
        "5661061b3a574fc389d556bb37f52a5d": {
          "model_module": "@jupyter-widgets/base",
          "model_name": "LayoutModel",
          "model_module_version": "1.2.0",
          "state": {
            "_model_module": "@jupyter-widgets/base",
            "_model_module_version": "1.2.0",
            "_model_name": "LayoutModel",
            "_view_count": null,
            "_view_module": "@jupyter-widgets/base",
            "_view_module_version": "1.2.0",
            "_view_name": "LayoutView",
            "align_content": null,
            "align_items": null,
            "align_self": null,
            "border": null,
            "bottom": null,
            "display": null,
            "flex": null,
            "flex_flow": null,
            "grid_area": null,
            "grid_auto_columns": null,
            "grid_auto_flow": null,
            "grid_auto_rows": null,
            "grid_column": null,
            "grid_gap": null,
            "grid_row": null,
            "grid_template_areas": null,
            "grid_template_columns": null,
            "grid_template_rows": null,
            "height": null,
            "justify_content": null,
            "justify_items": null,
            "left": null,
            "margin": null,
            "max_height": null,
            "max_width": null,
            "min_height": null,
            "min_width": null,
            "object_fit": null,
            "object_position": null,
            "order": null,
            "overflow": null,
            "overflow_x": null,
            "overflow_y": null,
            "padding": null,
            "right": null,
            "top": null,
            "visibility": null,
            "width": null
          }
        },
        "d6759db72349420f8eedae7a94e8aa71": {
          "model_module": "@jupyter-widgets/controls",
          "model_name": "ProgressStyleModel",
          "model_module_version": "1.5.0",
          "state": {
            "_model_module": "@jupyter-widgets/controls",
            "_model_module_version": "1.5.0",
            "_model_name": "ProgressStyleModel",
            "_view_count": null,
            "_view_module": "@jupyter-widgets/base",
            "_view_module_version": "1.2.0",
            "_view_name": "StyleView",
            "bar_color": null,
            "description_width": ""
          }
        },
        "229ed4aa01e14e90a55a7d96cc43a1d3": {
          "model_module": "@jupyter-widgets/base",
          "model_name": "LayoutModel",
          "model_module_version": "1.2.0",
          "state": {
            "_model_module": "@jupyter-widgets/base",
            "_model_module_version": "1.2.0",
            "_model_name": "LayoutModel",
            "_view_count": null,
            "_view_module": "@jupyter-widgets/base",
            "_view_module_version": "1.2.0",
            "_view_name": "LayoutView",
            "align_content": null,
            "align_items": null,
            "align_self": null,
            "border": null,
            "bottom": null,
            "display": null,
            "flex": null,
            "flex_flow": null,
            "grid_area": null,
            "grid_auto_columns": null,
            "grid_auto_flow": null,
            "grid_auto_rows": null,
            "grid_column": null,
            "grid_gap": null,
            "grid_row": null,
            "grid_template_areas": null,
            "grid_template_columns": null,
            "grid_template_rows": null,
            "height": null,
            "justify_content": null,
            "justify_items": null,
            "left": null,
            "margin": null,
            "max_height": null,
            "max_width": null,
            "min_height": null,
            "min_width": null,
            "object_fit": null,
            "object_position": null,
            "order": null,
            "overflow": null,
            "overflow_x": null,
            "overflow_y": null,
            "padding": null,
            "right": null,
            "top": null,
            "visibility": null,
            "width": null
          }
        },
        "da8eff761e3446a687005c833613062c": {
          "model_module": "@jupyter-widgets/controls",
          "model_name": "DescriptionStyleModel",
          "model_module_version": "1.5.0",
          "state": {
            "_model_module": "@jupyter-widgets/controls",
            "_model_module_version": "1.5.0",
            "_model_name": "DescriptionStyleModel",
            "_view_count": null,
            "_view_module": "@jupyter-widgets/base",
            "_view_module_version": "1.2.0",
            "_view_name": "StyleView",
            "description_width": ""
          }
        },
        "3c167882e4b943fcbe6119089fc3c9ea": {
          "model_module": "@jupyter-widgets/controls",
          "model_name": "HBoxModel",
          "model_module_version": "1.5.0",
          "state": {
            "_dom_classes": [],
            "_model_module": "@jupyter-widgets/controls",
            "_model_module_version": "1.5.0",
            "_model_name": "HBoxModel",
            "_view_count": null,
            "_view_module": "@jupyter-widgets/controls",
            "_view_module_version": "1.5.0",
            "_view_name": "HBoxView",
            "box_style": "",
            "children": [
              "IPY_MODEL_6d977ab856d84ce58290adc13aa2757a",
              "IPY_MODEL_2d65dca38e894345ac23cfae117c0f2e",
              "IPY_MODEL_5ec24cc17dbc417f93030203e214dad7"
            ],
            "layout": "IPY_MODEL_07e69858c3fc416e86f134cfb5f8db6e"
          }
        },
        "6d977ab856d84ce58290adc13aa2757a": {
          "model_module": "@jupyter-widgets/controls",
          "model_name": "HTMLModel",
          "model_module_version": "1.5.0",
          "state": {
            "_dom_classes": [],
            "_model_module": "@jupyter-widgets/controls",
            "_model_module_version": "1.5.0",
            "_model_name": "HTMLModel",
            "_view_count": null,
            "_view_module": "@jupyter-widgets/controls",
            "_view_module_version": "1.5.0",
            "_view_name": "HTMLView",
            "description": "",
            "description_tooltip": null,
            "layout": "IPY_MODEL_14ca132f3166453b81472d56f33aee7a",
            "placeholder": "​",
            "style": "IPY_MODEL_1975f7645cb047c19a69fcb2df14fb9b",
            "value": "  0%"
          }
        },
        "2d65dca38e894345ac23cfae117c0f2e": {
          "model_module": "@jupyter-widgets/controls",
          "model_name": "FloatProgressModel",
          "model_module_version": "1.5.0",
          "state": {
            "_dom_classes": [],
            "_model_module": "@jupyter-widgets/controls",
            "_model_module_version": "1.5.0",
            "_model_name": "FloatProgressModel",
            "_view_count": null,
            "_view_module": "@jupyter-widgets/controls",
            "_view_module_version": "1.5.0",
            "_view_name": "ProgressView",
            "bar_style": "danger",
            "description": "",
            "description_tooltip": null,
            "layout": "IPY_MODEL_4d1ff5986586451fae4bd3403bdf4992",
            "max": 5,
            "min": 0,
            "orientation": "horizontal",
            "style": "IPY_MODEL_96e82829455945509181e9958bc89b92",
            "value": 0
          }
        },
        "5ec24cc17dbc417f93030203e214dad7": {
          "model_module": "@jupyter-widgets/controls",
          "model_name": "HTMLModel",
          "model_module_version": "1.5.0",
          "state": {
            "_dom_classes": [],
            "_model_module": "@jupyter-widgets/controls",
            "_model_module_version": "1.5.0",
            "_model_name": "HTMLModel",
            "_view_count": null,
            "_view_module": "@jupyter-widgets/controls",
            "_view_module_version": "1.5.0",
            "_view_name": "HTMLView",
            "description": "",
            "description_tooltip": null,
            "layout": "IPY_MODEL_8571f54e270344dba7a9b9f3d7026647",
            "placeholder": "​",
            "style": "IPY_MODEL_1c06c7995d1b4d8eb8826a0d3bd418ad",
            "value": " 0/5 [00:00&lt;?, ?it/s]"
          }
        },
        "07e69858c3fc416e86f134cfb5f8db6e": {
          "model_module": "@jupyter-widgets/base",
          "model_name": "LayoutModel",
          "model_module_version": "1.2.0",
          "state": {
            "_model_module": "@jupyter-widgets/base",
            "_model_module_version": "1.2.0",
            "_model_name": "LayoutModel",
            "_view_count": null,
            "_view_module": "@jupyter-widgets/base",
            "_view_module_version": "1.2.0",
            "_view_name": "LayoutView",
            "align_content": null,
            "align_items": null,
            "align_self": null,
            "border": null,
            "bottom": null,
            "display": null,
            "flex": null,
            "flex_flow": null,
            "grid_area": null,
            "grid_auto_columns": null,
            "grid_auto_flow": null,
            "grid_auto_rows": null,
            "grid_column": null,
            "grid_gap": null,
            "grid_row": null,
            "grid_template_areas": null,
            "grid_template_columns": null,
            "grid_template_rows": null,
            "height": null,
            "justify_content": null,
            "justify_items": null,
            "left": null,
            "margin": null,
            "max_height": null,
            "max_width": null,
            "min_height": null,
            "min_width": null,
            "object_fit": null,
            "object_position": null,
            "order": null,
            "overflow": null,
            "overflow_x": null,
            "overflow_y": null,
            "padding": null,
            "right": null,
            "top": null,
            "visibility": null,
            "width": null
          }
        },
        "14ca132f3166453b81472d56f33aee7a": {
          "model_module": "@jupyter-widgets/base",
          "model_name": "LayoutModel",
          "model_module_version": "1.2.0",
          "state": {
            "_model_module": "@jupyter-widgets/base",
            "_model_module_version": "1.2.0",
            "_model_name": "LayoutModel",
            "_view_count": null,
            "_view_module": "@jupyter-widgets/base",
            "_view_module_version": "1.2.0",
            "_view_name": "LayoutView",
            "align_content": null,
            "align_items": null,
            "align_self": null,
            "border": null,
            "bottom": null,
            "display": null,
            "flex": null,
            "flex_flow": null,
            "grid_area": null,
            "grid_auto_columns": null,
            "grid_auto_flow": null,
            "grid_auto_rows": null,
            "grid_column": null,
            "grid_gap": null,
            "grid_row": null,
            "grid_template_areas": null,
            "grid_template_columns": null,
            "grid_template_rows": null,
            "height": null,
            "justify_content": null,
            "justify_items": null,
            "left": null,
            "margin": null,
            "max_height": null,
            "max_width": null,
            "min_height": null,
            "min_width": null,
            "object_fit": null,
            "object_position": null,
            "order": null,
            "overflow": null,
            "overflow_x": null,
            "overflow_y": null,
            "padding": null,
            "right": null,
            "top": null,
            "visibility": null,
            "width": null
          }
        },
        "1975f7645cb047c19a69fcb2df14fb9b": {
          "model_module": "@jupyter-widgets/controls",
          "model_name": "DescriptionStyleModel",
          "model_module_version": "1.5.0",
          "state": {
            "_model_module": "@jupyter-widgets/controls",
            "_model_module_version": "1.5.0",
            "_model_name": "DescriptionStyleModel",
            "_view_count": null,
            "_view_module": "@jupyter-widgets/base",
            "_view_module_version": "1.2.0",
            "_view_name": "StyleView",
            "description_width": ""
          }
        },
        "4d1ff5986586451fae4bd3403bdf4992": {
          "model_module": "@jupyter-widgets/base",
          "model_name": "LayoutModel",
          "model_module_version": "1.2.0",
          "state": {
            "_model_module": "@jupyter-widgets/base",
            "_model_module_version": "1.2.0",
            "_model_name": "LayoutModel",
            "_view_count": null,
            "_view_module": "@jupyter-widgets/base",
            "_view_module_version": "1.2.0",
            "_view_name": "LayoutView",
            "align_content": null,
            "align_items": null,
            "align_self": null,
            "border": null,
            "bottom": null,
            "display": null,
            "flex": null,
            "flex_flow": null,
            "grid_area": null,
            "grid_auto_columns": null,
            "grid_auto_flow": null,
            "grid_auto_rows": null,
            "grid_column": null,
            "grid_gap": null,
            "grid_row": null,
            "grid_template_areas": null,
            "grid_template_columns": null,
            "grid_template_rows": null,
            "height": null,
            "justify_content": null,
            "justify_items": null,
            "left": null,
            "margin": null,
            "max_height": null,
            "max_width": null,
            "min_height": null,
            "min_width": null,
            "object_fit": null,
            "object_position": null,
            "order": null,
            "overflow": null,
            "overflow_x": null,
            "overflow_y": null,
            "padding": null,
            "right": null,
            "top": null,
            "visibility": null,
            "width": null
          }
        },
        "96e82829455945509181e9958bc89b92": {
          "model_module": "@jupyter-widgets/controls",
          "model_name": "ProgressStyleModel",
          "model_module_version": "1.5.0",
          "state": {
            "_model_module": "@jupyter-widgets/controls",
            "_model_module_version": "1.5.0",
            "_model_name": "ProgressStyleModel",
            "_view_count": null,
            "_view_module": "@jupyter-widgets/base",
            "_view_module_version": "1.2.0",
            "_view_name": "StyleView",
            "bar_color": null,
            "description_width": ""
          }
        },
        "8571f54e270344dba7a9b9f3d7026647": {
          "model_module": "@jupyter-widgets/base",
          "model_name": "LayoutModel",
          "model_module_version": "1.2.0",
          "state": {
            "_model_module": "@jupyter-widgets/base",
            "_model_module_version": "1.2.0",
            "_model_name": "LayoutModel",
            "_view_count": null,
            "_view_module": "@jupyter-widgets/base",
            "_view_module_version": "1.2.0",
            "_view_name": "LayoutView",
            "align_content": null,
            "align_items": null,
            "align_self": null,
            "border": null,
            "bottom": null,
            "display": null,
            "flex": null,
            "flex_flow": null,
            "grid_area": null,
            "grid_auto_columns": null,
            "grid_auto_flow": null,
            "grid_auto_rows": null,
            "grid_column": null,
            "grid_gap": null,
            "grid_row": null,
            "grid_template_areas": null,
            "grid_template_columns": null,
            "grid_template_rows": null,
            "height": null,
            "justify_content": null,
            "justify_items": null,
            "left": null,
            "margin": null,
            "max_height": null,
            "max_width": null,
            "min_height": null,
            "min_width": null,
            "object_fit": null,
            "object_position": null,
            "order": null,
            "overflow": null,
            "overflow_x": null,
            "overflow_y": null,
            "padding": null,
            "right": null,
            "top": null,
            "visibility": null,
            "width": null
          }
        },
        "1c06c7995d1b4d8eb8826a0d3bd418ad": {
          "model_module": "@jupyter-widgets/controls",
          "model_name": "DescriptionStyleModel",
          "model_module_version": "1.5.0",
          "state": {
            "_model_module": "@jupyter-widgets/controls",
            "_model_module_version": "1.5.0",
            "_model_name": "DescriptionStyleModel",
            "_view_count": null,
            "_view_module": "@jupyter-widgets/base",
            "_view_module_version": "1.2.0",
            "_view_name": "StyleView",
            "description_width": ""
          }
        }
      }
    }
  },
  "cells": [
    {
      "cell_type": "markdown",
      "metadata": {
        "id": "view-in-github",
        "colab_type": "text"
      },
      "source": [
        "<a href=\"https://colab.research.google.com/github/jurados/NotesPytorch/blob/main/%5B03%5D_Logistic_Regression_with_PyTorch.ipynb\" target=\"_parent\"><img src=\"https://colab.research.google.com/assets/colab-badge.svg\" alt=\"Open In Colab\"/></a>"
      ]
    },
    {
      "cell_type": "markdown",
      "source": [
        "https://www.youtube.com/watch?v=vo_fUOk-IKk&list=PLWKjhJtqVAbm3T2Eq1_KgloC7ogdXxdRa"
      ],
      "metadata": {
        "id": "cUmih5QLDsyV"
      }
    },
    {
      "cell_type": "markdown",
      "source": [
        "# 03 Logistic Regression with PyTorch (TERMINAR)"
      ],
      "metadata": {
        "id": "pSkzYrnuKOyd"
      }
    },
    {
      "cell_type": "code",
      "source": [
        "# Imports\n",
        "import torch\n",
        "import torchvision\n",
        "from torchvision.datasets import MNIST"
      ],
      "metadata": {
        "id": "iRJhk1YPKRFq"
      },
      "execution_count": null,
      "outputs": []
    },
    {
      "cell_type": "code",
      "source": [
        "# Download training dataset\n",
        "train_dataset = MNIST(root='./', train=True, download=True)"
      ],
      "metadata": {
        "id": "PC83RVSOKsa2",
        "colab": {
          "base_uri": "https://localhost:8080/"
        },
        "outputId": "0a765e5e-c95c-4c4e-e60a-5d176f1e045e"
      },
      "execution_count": null,
      "outputs": [
        {
          "output_type": "stream",
          "name": "stdout",
          "text": [
            "Downloading http://yann.lecun.com/exdb/mnist/train-images-idx3-ubyte.gz\n",
            "Failed to download (trying next):\n",
            "HTTP Error 403: Forbidden\n",
            "\n",
            "Downloading https://ossci-datasets.s3.amazonaws.com/mnist/train-images-idx3-ubyte.gz\n",
            "Downloading https://ossci-datasets.s3.amazonaws.com/mnist/train-images-idx3-ubyte.gz to ./MNIST/raw/train-images-idx3-ubyte.gz\n"
          ]
        },
        {
          "output_type": "stream",
          "name": "stderr",
          "text": [
            "100%|██████████| 9912422/9912422 [00:02<00:00, 4909565.32it/s]\n"
          ]
        },
        {
          "output_type": "stream",
          "name": "stdout",
          "text": [
            "Extracting ./MNIST/raw/train-images-idx3-ubyte.gz to ./MNIST/raw\n",
            "\n",
            "Downloading http://yann.lecun.com/exdb/mnist/train-labels-idx1-ubyte.gz\n",
            "Failed to download (trying next):\n",
            "HTTP Error 403: Forbidden\n",
            "\n",
            "Downloading https://ossci-datasets.s3.amazonaws.com/mnist/train-labels-idx1-ubyte.gz\n",
            "Downloading https://ossci-datasets.s3.amazonaws.com/mnist/train-labels-idx1-ubyte.gz to ./MNIST/raw/train-labels-idx1-ubyte.gz\n"
          ]
        },
        {
          "output_type": "stream",
          "name": "stderr",
          "text": [
            "100%|██████████| 28881/28881 [00:00<00:00, 158697.28it/s]\n"
          ]
        },
        {
          "output_type": "stream",
          "name": "stdout",
          "text": [
            "Extracting ./MNIST/raw/train-labels-idx1-ubyte.gz to ./MNIST/raw\n",
            "\n",
            "Downloading http://yann.lecun.com/exdb/mnist/t10k-images-idx3-ubyte.gz\n",
            "Failed to download (trying next):\n",
            "HTTP Error 403: Forbidden\n",
            "\n",
            "Downloading https://ossci-datasets.s3.amazonaws.com/mnist/t10k-images-idx3-ubyte.gz\n",
            "Downloading https://ossci-datasets.s3.amazonaws.com/mnist/t10k-images-idx3-ubyte.gz to ./MNIST/raw/t10k-images-idx3-ubyte.gz\n"
          ]
        },
        {
          "output_type": "stream",
          "name": "stderr",
          "text": [
            "100%|██████████| 1648877/1648877 [00:01<00:00, 1494730.95it/s]\n"
          ]
        },
        {
          "output_type": "stream",
          "name": "stdout",
          "text": [
            "Extracting ./MNIST/raw/t10k-images-idx3-ubyte.gz to ./MNIST/raw\n",
            "\n",
            "Downloading http://yann.lecun.com/exdb/mnist/t10k-labels-idx1-ubyte.gz\n",
            "Failed to download (trying next):\n",
            "HTTP Error 403: Forbidden\n",
            "\n",
            "Downloading https://ossci-datasets.s3.amazonaws.com/mnist/t10k-labels-idx1-ubyte.gz\n",
            "Downloading https://ossci-datasets.s3.amazonaws.com/mnist/t10k-labels-idx1-ubyte.gz to ./MNIST/raw/t10k-labels-idx1-ubyte.gz\n"
          ]
        },
        {
          "output_type": "stream",
          "name": "stderr",
          "text": [
            "100%|██████████| 4542/4542 [00:00<00:00, 8856591.71it/s]\n"
          ]
        },
        {
          "output_type": "stream",
          "name": "stdout",
          "text": [
            "Extracting ./MNIST/raw/t10k-labels-idx1-ubyte.gz to ./MNIST/raw\n",
            "\n"
          ]
        }
      ]
    },
    {
      "cell_type": "code",
      "source": [
        "train_dataset"
      ],
      "metadata": {
        "colab": {
          "base_uri": "https://localhost:8080/"
        },
        "id": "mLDwJdlUK4GI",
        "outputId": "740a0e12-bf67-4b8a-f435-336ea1abe727"
      },
      "execution_count": null,
      "outputs": [
        {
          "output_type": "execute_result",
          "data": {
            "text/plain": [
              "Dataset MNIST\n",
              "    Number of datapoints: 60000\n",
              "    Root location: ./\n",
              "    Split: Train"
            ]
          },
          "metadata": {},
          "execution_count": 3
        }
      ]
    },
    {
      "cell_type": "code",
      "source": [
        "len(train_dataset)"
      ],
      "metadata": {
        "colab": {
          "base_uri": "https://localhost:8080/"
        },
        "id": "guf5IfDiKyzp",
        "outputId": "141d5474-37ad-48bd-e7c8-d4f4bd37825d"
      },
      "execution_count": null,
      "outputs": [
        {
          "output_type": "execute_result",
          "data": {
            "text/plain": [
              "60000"
            ]
          },
          "metadata": {},
          "execution_count": 4
        }
      ]
    },
    {
      "cell_type": "code",
      "source": [
        "# Download training dataset\n",
        "test_dataset = MNIST(root='./', train=False, download=True)\n",
        "test_dataset"
      ],
      "metadata": {
        "colab": {
          "base_uri": "https://localhost:8080/"
        },
        "id": "r0uixkTVK2X-",
        "outputId": "48a6b272-f4d6-412e-fd28-528049521ecc"
      },
      "execution_count": null,
      "outputs": [
        {
          "output_type": "execute_result",
          "data": {
            "text/plain": [
              "Dataset MNIST\n",
              "    Number of datapoints: 10000\n",
              "    Root location: ./\n",
              "    Split: Test"
            ]
          },
          "metadata": {},
          "execution_count": 5
        }
      ]
    },
    {
      "cell_type": "code",
      "source": [
        "len(test_dataset)"
      ],
      "metadata": {
        "colab": {
          "base_uri": "https://localhost:8080/"
        },
        "id": "23-R6W6BLkrI",
        "outputId": "d57f5948-1f0d-4e62-fda7-eeb10efb17c4"
      },
      "execution_count": null,
      "outputs": [
        {
          "output_type": "execute_result",
          "data": {
            "text/plain": [
              "10000"
            ]
          },
          "metadata": {},
          "execution_count": 6
        }
      ]
    },
    {
      "cell_type": "code",
      "source": [
        "import matplotlib.pyplot as plt"
      ],
      "metadata": {
        "id": "Wz-01M0zLoju"
      },
      "execution_count": null,
      "outputs": []
    },
    {
      "cell_type": "code",
      "source": [
        "img, label = train_dataset[0]\n",
        "plt.imshow(img, cmap='gray')\n",
        "plt.title(f'Label: {label}')\n",
        "plt.axis(False)"
      ],
      "metadata": {
        "colab": {
          "base_uri": "https://localhost:8080/",
          "height": 445
        },
        "id": "xm9hgJuSLyTe",
        "outputId": "2f16bb68-6f95-41c5-f512-60b70a962cb2"
      },
      "execution_count": null,
      "outputs": [
        {
          "output_type": "execute_result",
          "data": {
            "text/plain": [
              "(-0.5, 27.5, 27.5, -0.5)"
            ]
          },
          "metadata": {},
          "execution_count": 8
        },
        {
          "output_type": "display_data",
          "data": {
            "text/plain": [
              "<Figure size 640x480 with 1 Axes>"
            ],
            "image/png": "[encoded data removed]"
          },
          "metadata": {}
        }
      ]
    },
    {
      "cell_type": "code",
      "source": [
        "import torchvision.transforms as transform"
      ],
      "metadata": {
        "id": "bv85Ew3zMGxe"
      },
      "execution_count": null,
      "outputs": []
    },
    {
      "cell_type": "code",
      "source": [
        "# MNIST dataset (images and labels)\n",
        "train_dataset = MNIST(root='./', train=True, transform=transform.ToTensor())"
      ],
      "metadata": {
        "id": "Z78-IiIpMPRT"
      },
      "execution_count": null,
      "outputs": []
    },
    {
      "cell_type": "code",
      "source": [
        "img, label = train_dataset[0]\n",
        "img.shape, label"
      ],
      "metadata": {
        "colab": {
          "base_uri": "https://localhost:8080/"
        },
        "id": "RXmaF7oxMagV",
        "outputId": "d0a5d9ba-7744-4476-8481-1c27c7f7f41d"
      },
      "execution_count": null,
      "outputs": [
        {
          "output_type": "execute_result",
          "data": {
            "text/plain": [
              "(torch.Size([1, 28, 28]), 5)"
            ]
          },
          "metadata": {},
          "execution_count": 44
        }
      ]
    },
    {
      "cell_type": "code",
      "source": [
        "28*28*5"
      ],
      "metadata": {
        "colab": {
          "base_uri": "https://localhost:8080/"
        },
        "id": "2wzL0118OCbj",
        "outputId": "5be3135f-96e5-459c-ba63-389a7ece29a5"
      },
      "execution_count": null,
      "outputs": [
        {
          "output_type": "execute_result",
          "data": {
            "text/plain": [
              "3920"
            ]
          },
          "metadata": {},
          "execution_count": 45
        }
      ]
    },
    {
      "cell_type": "code",
      "source": [
        "print(img[:,10:15,10:15])\n",
        "print(torch.max(img), torch.min(img))"
      ],
      "metadata": {
        "colab": {
          "base_uri": "https://localhost:8080/"
        },
        "id": "zDa3UVgxM9fj",
        "outputId": "db4a1ebc-819b-4218-f408-c62f14c885ea"
      },
      "execution_count": null,
      "outputs": [
        {
          "output_type": "stream",
          "name": "stdout",
          "text": [
            "tensor([[[0.0039, 0.6039, 0.9922, 0.3529, 0.0000],\n",
            "         [0.0000, 0.5451, 0.9922, 0.7451, 0.0078],\n",
            "         [0.0000, 0.0431, 0.7451, 0.9922, 0.2745],\n",
            "         [0.0000, 0.0000, 0.1373, 0.9451, 0.8824],\n",
            "         [0.0000, 0.0000, 0.0000, 0.3176, 0.9412]]])\n",
            "tensor(1.) tensor(0.)\n"
          ]
        }
      ]
    },
    {
      "cell_type": "code",
      "source": [
        "plt.imshow(img[0,10:15,10:15],cmap='gray')\n",
        "plt.axis(False)"
      ],
      "metadata": {
        "id": "_LWqIxHyNKxD",
        "colab": {
          "base_uri": "https://localhost:8080/",
          "height": 423
        },
        "outputId": "c4d7bb68-4333-42fd-a22a-76212cddb4df"
      },
      "execution_count": null,
      "outputs": [
        {
          "output_type": "execute_result",
          "data": {
            "text/plain": [
              "(-0.5, 4.5, 4.5, -0.5)"
            ]
          },
          "metadata": {},
          "execution_count": 47
        },
        {
          "output_type": "display_data",
          "data": {
            "text/plain": [
              "<Figure size 640x480 with 1 Axes>"
            ],
            "image/png": "[encoded data removed]"
          },
          "metadata": {}
        }
      ]
    },
    {
      "cell_type": "markdown",
      "source": [
        "## 3.1 Training and validation datasets\n",
        "\n",
        "While building real world machine learning models, it is quite common to split the dataset into 3 parts:\n",
        "\n",
        "1. **Training set:** Used to train the model, i.e. compute the loss and adjust the weights of the model using gradient descent.\n",
        "2. **Valdation set:** Used to evaluate the model while training, adjust hyperparameters (leraning rate, etc.) and pick the best version of the model.\n",
        "3. **Test set:** Used to compare different models, or different types of medelling approaches, and report the final accuracy of the model.\n",
        "\n",
        "We can divide using `random_split` method in PyTorch."
      ],
      "metadata": {
        "id": "Rblmu3CZpNsp"
      }
    },
    {
      "cell_type": "code",
      "source": [
        "from torch.utils.data import random_split"
      ],
      "metadata": {
        "id": "GwsgZ4t9pCcC"
      },
      "execution_count": null,
      "outputs": []
    },
    {
      "cell_type": "code",
      "source": [
        "train_dataset, validation_dataset = random_split(dataset=train_dataset, lengths= [50_000,10_000])\n",
        "len(train_dataset), len(validation_dataset)"
      ],
      "metadata": {
        "colab": {
          "base_uri": "https://localhost:8080/"
        },
        "id": "l1I4ln4yqKXd",
        "outputId": "267524c5-3faa-40de-bf8e-d933873ee4e0"
      },
      "execution_count": null,
      "outputs": [
        {
          "output_type": "execute_result",
          "data": {
            "text/plain": [
              "(50000, 10000)"
            ]
          },
          "metadata": {},
          "execution_count": 49
        }
      ]
    },
    {
      "cell_type": "code",
      "source": [
        "# Create DataLoader usint batches\n",
        "from torch.utils.data import DataLoader\n",
        "\n",
        "batch_size = 128\n",
        "\n",
        "train_dataloader = DataLoader(dataset=train_dataset, batch_size=batch_size, shuffle=True)\n",
        "val_dataloader = DataLoader(dataset=validation_dataset,batch_size=batch_size)"
      ],
      "metadata": {
        "id": "kyURmHSxqhGW"
      },
      "execution_count": null,
      "outputs": []
    },
    {
      "cell_type": "markdown",
      "source": [
        "## 3.2 Model\n",
        "\n",
        "- Since `nn.Linear` expects the each training example to be a vector, each 1x28x28 image tensor needs to be flattened out into a vector of size 784 (28*28), before being passed into the model."
      ],
      "metadata": {
        "id": "EHuJy1wS4ba5"
      }
    },
    {
      "cell_type": "code",
      "source": [
        "import torch.nn as nn\n",
        "\n",
        "input_size = 28*28\n",
        "num_classes = 10\n",
        "\n",
        "# Logistic regression model\n",
        "model = nn.Linear(in_features = input_size, out_features = num_classes)"
      ],
      "metadata": {
        "id": "UuQCCgkq4SS1"
      },
      "execution_count": null,
      "outputs": []
    },
    {
      "cell_type": "code",
      "source": [
        "model.weight.shape, model.bias.shape"
      ],
      "metadata": {
        "colab": {
          "base_uri": "https://localhost:8080/"
        },
        "id": "9sbFEOw75LjC",
        "outputId": "c90e9755-8a8b-4789-f426-dbd85901f391"
      },
      "execution_count": null,
      "outputs": [
        {
          "output_type": "execute_result",
          "data": {
            "text/plain": [
              "(torch.Size([10, 784]), torch.Size([10]))"
            ]
          },
          "metadata": {},
          "execution_count": 52
        }
      ]
    },
    {
      "cell_type": "code",
      "source": [
        "for imgs, labels in train_dataloader:\n",
        "  print(labels)\n",
        "  print(imgs.shape)\n",
        "  outputs = model(imgs)"
      ],
      "metadata": {
        "colab": {
          "base_uri": "https://localhost:8080/",
          "height": 443
        },
        "id": "LAeNyIOW5m93",
        "outputId": "eb22e2b1-3504-4bf3-d33a-e1b5ac8e7601"
      },
      "execution_count": null,
      "outputs": [
        {
          "output_type": "stream",
          "name": "stdout",
          "text": [
            "tensor([6, 8, 9, 6, 2, 7, 9, 7, 0, 4, 2, 8, 6, 4, 8, 0, 9, 5, 1, 2, 7, 7, 0, 0,\n",
            "        5, 8, 3, 3, 2, 6, 9, 4, 7, 6, 0, 3, 7, 5, 4, 9, 0, 1, 8, 3, 7, 5, 9, 2,\n",
            "        2, 9, 3, 9, 9, 5, 4, 2, 6, 5, 3, 2, 2, 6, 7, 9, 9, 6, 2, 6, 0, 8, 0, 8,\n",
            "        1, 8, 9, 6, 9, 9, 5, 1, 2, 7, 5, 2, 0, 3, 9, 9, 7, 6, 4, 8, 0, 3, 7, 5,\n",
            "        8, 0, 7, 7, 3, 9, 0, 8, 4, 8, 4, 2, 8, 3, 3, 0, 7, 4, 2, 2, 3, 9, 7, 9,\n",
            "        1, 7, 7, 9, 9, 8, 7, 4])\n",
            "torch.Size([128, 1, 28, 28])\n"
          ]
        },
        {
          "output_type": "error",
          "ename": "RuntimeError",
          "evalue": "mat1 and mat2 shapes cannot be multiplied (3584x28 and 784x10)",
          "traceback": [
            "\u001b[0;31m---------------------------------------------------------------------------\u001b[0m",
            "\u001b[0;31mRuntimeError\u001b[0m                              Traceback (most recent call last)",
            "\u001b[0;32m<ipython-input-31-d80038f13427>\u001b[0m in \u001b[0;36m<cell line: 1>\u001b[0;34m()\u001b[0m\n\u001b[1;32m      2\u001b[0m   \u001b[0mprint\u001b[0m\u001b[0;34m(\u001b[0m\u001b[0mlabels\u001b[0m\u001b[0;34m)\u001b[0m\u001b[0;34m\u001b[0m\u001b[0;34m\u001b[0m\u001b[0m\n\u001b[1;32m      3\u001b[0m   \u001b[0mprint\u001b[0m\u001b[0;34m(\u001b[0m\u001b[0mimgs\u001b[0m\u001b[0;34m.\u001b[0m\u001b[0mshape\u001b[0m\u001b[0;34m)\u001b[0m\u001b[0;34m\u001b[0m\u001b[0;34m\u001b[0m\u001b[0m\n\u001b[0;32m----> 4\u001b[0;31m   \u001b[0moutputs\u001b[0m \u001b[0;34m=\u001b[0m \u001b[0mmodel\u001b[0m\u001b[0;34m(\u001b[0m\u001b[0mimgs\u001b[0m\u001b[0;34m)\u001b[0m\u001b[0;34m\u001b[0m\u001b[0;34m\u001b[0m\u001b[0m\n\u001b[0m",
            "\u001b[0;32m/usr/local/lib/python3.10/dist-packages/torch/nn/modules/module.py\u001b[0m in \u001b[0;36m_wrapped_call_impl\u001b[0;34m(self, *args, **kwargs)\u001b[0m\n\u001b[1;32m   1530\u001b[0m             \u001b[0;32mreturn\u001b[0m \u001b[0mself\u001b[0m\u001b[0;34m.\u001b[0m\u001b[0m_compiled_call_impl\u001b[0m\u001b[0;34m(\u001b[0m\u001b[0;34m*\u001b[0m\u001b[0margs\u001b[0m\u001b[0;34m,\u001b[0m \u001b[0;34m**\u001b[0m\u001b[0mkwargs\u001b[0m\u001b[0;34m)\u001b[0m  \u001b[0;31m# type: ignore[misc]\u001b[0m\u001b[0;34m\u001b[0m\u001b[0;34m\u001b[0m\u001b[0m\n\u001b[1;32m   1531\u001b[0m         \u001b[0;32melse\u001b[0m\u001b[0;34m:\u001b[0m\u001b[0;34m\u001b[0m\u001b[0;34m\u001b[0m\u001b[0m\n\u001b[0;32m-> 1532\u001b[0;31m             \u001b[0;32mreturn\u001b[0m \u001b[0mself\u001b[0m\u001b[0;34m.\u001b[0m\u001b[0m_call_impl\u001b[0m\u001b[0;34m(\u001b[0m\u001b[0;34m*\u001b[0m\u001b[0margs\u001b[0m\u001b[0;34m,\u001b[0m \u001b[0;34m**\u001b[0m\u001b[0mkwargs\u001b[0m\u001b[0;34m)\u001b[0m\u001b[0;34m\u001b[0m\u001b[0;34m\u001b[0m\u001b[0m\n\u001b[0m\u001b[1;32m   1533\u001b[0m \u001b[0;34m\u001b[0m\u001b[0m\n\u001b[1;32m   1534\u001b[0m     \u001b[0;32mdef\u001b[0m \u001b[0m_call_impl\u001b[0m\u001b[0;34m(\u001b[0m\u001b[0mself\u001b[0m\u001b[0;34m,\u001b[0m \u001b[0;34m*\u001b[0m\u001b[0margs\u001b[0m\u001b[0;34m,\u001b[0m \u001b[0;34m**\u001b[0m\u001b[0mkwargs\u001b[0m\u001b[0;34m)\u001b[0m\u001b[0;34m:\u001b[0m\u001b[0;34m\u001b[0m\u001b[0;34m\u001b[0m\u001b[0m\n",
            "\u001b[0;32m/usr/local/lib/python3.10/dist-packages/torch/nn/modules/module.py\u001b[0m in \u001b[0;36m_call_impl\u001b[0;34m(self, *args, **kwargs)\u001b[0m\n\u001b[1;32m   1539\u001b[0m                 \u001b[0;32mor\u001b[0m \u001b[0m_global_backward_pre_hooks\u001b[0m \u001b[0;32mor\u001b[0m \u001b[0m_global_backward_hooks\u001b[0m\u001b[0;34m\u001b[0m\u001b[0;34m\u001b[0m\u001b[0m\n\u001b[1;32m   1540\u001b[0m                 or _global_forward_hooks or _global_forward_pre_hooks):\n\u001b[0;32m-> 1541\u001b[0;31m             \u001b[0;32mreturn\u001b[0m \u001b[0mforward_call\u001b[0m\u001b[0;34m(\u001b[0m\u001b[0;34m*\u001b[0m\u001b[0margs\u001b[0m\u001b[0;34m,\u001b[0m \u001b[0;34m**\u001b[0m\u001b[0mkwargs\u001b[0m\u001b[0;34m)\u001b[0m\u001b[0;34m\u001b[0m\u001b[0;34m\u001b[0m\u001b[0m\n\u001b[0m\u001b[1;32m   1542\u001b[0m \u001b[0;34m\u001b[0m\u001b[0m\n\u001b[1;32m   1543\u001b[0m         \u001b[0;32mtry\u001b[0m\u001b[0;34m:\u001b[0m\u001b[0;34m\u001b[0m\u001b[0;34m\u001b[0m\u001b[0m\n",
            "\u001b[0;32m/usr/local/lib/python3.10/dist-packages/torch/nn/modules/linear.py\u001b[0m in \u001b[0;36mforward\u001b[0;34m(self, input)\u001b[0m\n\u001b[1;32m    114\u001b[0m \u001b[0;34m\u001b[0m\u001b[0m\n\u001b[1;32m    115\u001b[0m     \u001b[0;32mdef\u001b[0m \u001b[0mforward\u001b[0m\u001b[0;34m(\u001b[0m\u001b[0mself\u001b[0m\u001b[0;34m,\u001b[0m \u001b[0minput\u001b[0m\u001b[0;34m:\u001b[0m \u001b[0mTensor\u001b[0m\u001b[0;34m)\u001b[0m \u001b[0;34m->\u001b[0m \u001b[0mTensor\u001b[0m\u001b[0;34m:\u001b[0m\u001b[0;34m\u001b[0m\u001b[0;34m\u001b[0m\u001b[0m\n\u001b[0;32m--> 116\u001b[0;31m         \u001b[0;32mreturn\u001b[0m \u001b[0mF\u001b[0m\u001b[0;34m.\u001b[0m\u001b[0mlinear\u001b[0m\u001b[0;34m(\u001b[0m\u001b[0minput\u001b[0m\u001b[0;34m,\u001b[0m \u001b[0mself\u001b[0m\u001b[0;34m.\u001b[0m\u001b[0mweight\u001b[0m\u001b[0;34m,\u001b[0m \u001b[0mself\u001b[0m\u001b[0;34m.\u001b[0m\u001b[0mbias\u001b[0m\u001b[0;34m)\u001b[0m\u001b[0;34m\u001b[0m\u001b[0;34m\u001b[0m\u001b[0m\n\u001b[0m\u001b[1;32m    117\u001b[0m \u001b[0;34m\u001b[0m\u001b[0m\n\u001b[1;32m    118\u001b[0m     \u001b[0;32mdef\u001b[0m \u001b[0mextra_repr\u001b[0m\u001b[0;34m(\u001b[0m\u001b[0mself\u001b[0m\u001b[0;34m)\u001b[0m \u001b[0;34m->\u001b[0m \u001b[0mstr\u001b[0m\u001b[0;34m:\u001b[0m\u001b[0;34m\u001b[0m\u001b[0;34m\u001b[0m\u001b[0m\n",
            "\u001b[0;31mRuntimeError\u001b[0m: mat1 and mat2 shapes cannot be multiplied (3584x28 and 784x10)"
          ]
        }
      ]
    },
    {
      "cell_type": "code",
      "source": [
        "class MNISTModelV1(nn.Module):\n",
        "  def __init__(self):\n",
        "    super().__init__()\n",
        "    self.linear = nn.Linear(in_features = input_size, out_features = num_classes)\n",
        "\n",
        "  def forward(self,x):\n",
        "    x = x.reshape(-1,784)\n",
        "    out = self.linear(x)\n",
        "    return out\n",
        "\n",
        "model_v1 = MNISTModelV1()\n",
        "model_v1"
      ],
      "metadata": {
        "colab": {
          "base_uri": "https://localhost:8080/"
        },
        "id": "WFLLqaKn5zMr",
        "outputId": "7932069a-eb78-4e3d-970e-29a243ff2a8c"
      },
      "execution_count": null,
      "outputs": [
        {
          "output_type": "execute_result",
          "data": {
            "text/plain": [
              "MNISTModelV1(\n",
              "  (linear): Linear(in_features=784, out_features=10, bias=True)\n",
              ")"
            ]
          },
          "metadata": {},
          "execution_count": 54
        }
      ]
    },
    {
      "cell_type": "code",
      "source": [
        "list(model_v1.parameters())"
      ],
      "metadata": {
        "colab": {
          "base_uri": "https://localhost:8080/"
        },
        "id": "D4LFvniaQvO-",
        "outputId": "9061beb7-de3e-4eb5-9131-8b3e1bc45ff8"
      },
      "execution_count": null,
      "outputs": [
        {
          "output_type": "execute_result",
          "data": {
            "text/plain": [
              "[Parameter containing:\n",
              " tensor([[-0.0202, -0.0267,  0.0265,  ..., -0.0109,  0.0169, -0.0001],\n",
              "         [ 0.0178, -0.0002, -0.0117,  ...,  0.0253, -0.0178,  0.0301],\n",
              "         [ 0.0207, -0.0250,  0.0121,  ...,  0.0328,  0.0108,  0.0323],\n",
              "         ...,\n",
              "         [-0.0339, -0.0189,  0.0164,  ..., -0.0232, -0.0289, -0.0021],\n",
              "         [ 0.0023,  0.0068,  0.0157,  ...,  0.0144,  0.0167,  0.0058],\n",
              "         [-0.0054,  0.0141,  0.0014,  ..., -0.0307, -0.0017,  0.0263]],\n",
              "        requires_grad=True),\n",
              " Parameter containing:\n",
              " tensor([ 0.0321, -0.0130, -0.0211,  0.0242, -0.0194, -0.0256, -0.0022, -0.0030,\n",
              "         -0.0304, -0.0201], requires_grad=True)]"
            ]
          },
          "metadata": {},
          "execution_count": 55
        }
      ]
    },
    {
      "cell_type": "code",
      "source": [
        "for img, labels in train_dataloader:\n",
        "  print(f'Image shape: {img.shape}')\n",
        "  outputs = model_v1(img)\n",
        "\n",
        "print(f'Output shape: {outputs.shape}')\n",
        "print(f'Sample outputs: \\n {outputs[:2].data}')"
      ],
      "metadata": {
        "colab": {
          "base_uri": "https://localhost:8080/"
        },
        "id": "55GBR2oVRBBN",
        "outputId": "aba68db9-4177-4630-e3f7-7a57b0b71286"
      },
      "execution_count": null,
      "outputs": [
        {
          "output_type": "stream",
          "name": "stdout",
          "text": [
            "Image shape: torch.Size([128, 1, 28, 28])\n",
            "Image shape: torch.Size([128, 1, 28, 28])\n",
            "Image shape: torch.Size([128, 1, 28, 28])\n",
            "Image shape: torch.Size([128, 1, 28, 28])\n",
            "Image shape: torch.Size([128, 1, 28, 28])\n",
            "Image shape: torch.Size([128, 1, 28, 28])\n",
            "Image shape: torch.Size([128, 1, 28, 28])\n",
            "Image shape: torch.Size([128, 1, 28, 28])\n",
            "Image shape: torch.Size([128, 1, 28, 28])\n",
            "Image shape: torch.Size([128, 1, 28, 28])\n",
            "Image shape: torch.Size([128, 1, 28, 28])\n",
            "Image shape: torch.Size([128, 1, 28, 28])\n",
            "Image shape: torch.Size([128, 1, 28, 28])\n",
            "Image shape: torch.Size([128, 1, 28, 28])\n",
            "Image shape: torch.Size([128, 1, 28, 28])\n",
            "Image shape: torch.Size([128, 1, 28, 28])\n",
            "Image shape: torch.Size([128, 1, 28, 28])\n",
            "Image shape: torch.Size([128, 1, 28, 28])\n",
            "Image shape: torch.Size([128, 1, 28, 28])\n",
            "Image shape: torch.Size([128, 1, 28, 28])\n",
            "Image shape: torch.Size([128, 1, 28, 28])\n",
            "Image shape: torch.Size([128, 1, 28, 28])\n",
            "Image shape: torch.Size([128, 1, 28, 28])\n",
            "Image shape: torch.Size([128, 1, 28, 28])\n",
            "Image shape: torch.Size([128, 1, 28, 28])\n",
            "Image shape: torch.Size([128, 1, 28, 28])\n",
            "Image shape: torch.Size([128, 1, 28, 28])\n",
            "Image shape: torch.Size([128, 1, 28, 28])\n",
            "Image shape: torch.Size([128, 1, 28, 28])\n",
            "Image shape: torch.Size([128, 1, 28, 28])\n",
            "Image shape: torch.Size([128, 1, 28, 28])\n",
            "Image shape: torch.Size([128, 1, 28, 28])\n",
            "Image shape: torch.Size([128, 1, 28, 28])\n",
            "Image shape: torch.Size([128, 1, 28, 28])\n",
            "Image shape: torch.Size([128, 1, 28, 28])\n",
            "Image shape: torch.Size([128, 1, 28, 28])\n",
            "Image shape: torch.Size([128, 1, 28, 28])\n",
            "Image shape: torch.Size([128, 1, 28, 28])\n",
            "Image shape: torch.Size([128, 1, 28, 28])\n",
            "Image shape: torch.Size([128, 1, 28, 28])\n",
            "Image shape: torch.Size([128, 1, 28, 28])\n",
            "Image shape: torch.Size([128, 1, 28, 28])\n",
            "Image shape: torch.Size([128, 1, 28, 28])\n",
            "Image shape: torch.Size([128, 1, 28, 28])\n",
            "Image shape: torch.Size([128, 1, 28, 28])\n",
            "Image shape: torch.Size([128, 1, 28, 28])\n",
            "Image shape: torch.Size([128, 1, 28, 28])\n",
            "Image shape: torch.Size([128, 1, 28, 28])\n",
            "Image shape: torch.Size([128, 1, 28, 28])\n",
            "Image shape: torch.Size([128, 1, 28, 28])\n",
            "Image shape: torch.Size([128, 1, 28, 28])\n",
            "Image shape: torch.Size([128, 1, 28, 28])\n",
            "Image shape: torch.Size([128, 1, 28, 28])\n",
            "Image shape: torch.Size([128, 1, 28, 28])\n",
            "Image shape: torch.Size([128, 1, 28, 28])\n",
            "Image shape: torch.Size([128, 1, 28, 28])\n",
            "Image shape: torch.Size([128, 1, 28, 28])\n",
            "Image shape: torch.Size([128, 1, 28, 28])\n",
            "Image shape: torch.Size([128, 1, 28, 28])\n",
            "Image shape: torch.Size([128, 1, 28, 28])\n",
            "Image shape: torch.Size([128, 1, 28, 28])\n",
            "Image shape: torch.Size([128, 1, 28, 28])\n",
            "Image shape: torch.Size([128, 1, 28, 28])\n",
            "Image shape: torch.Size([128, 1, 28, 28])\n",
            "Image shape: torch.Size([128, 1, 28, 28])\n",
            "Image shape: torch.Size([128, 1, 28, 28])\n",
            "Image shape: torch.Size([128, 1, 28, 28])\n",
            "Image shape: torch.Size([128, 1, 28, 28])\n",
            "Image shape: torch.Size([128, 1, 28, 28])\n",
            "Image shape: torch.Size([128, 1, 28, 28])\n",
            "Image shape: torch.Size([128, 1, 28, 28])\n",
            "Image shape: torch.Size([128, 1, 28, 28])\n",
            "Image shape: torch.Size([128, 1, 28, 28])\n",
            "Image shape: torch.Size([128, 1, 28, 28])\n",
            "Image shape: torch.Size([128, 1, 28, 28])\n",
            "Image shape: torch.Size([128, 1, 28, 28])\n",
            "Image shape: torch.Size([128, 1, 28, 28])\n",
            "Image shape: torch.Size([128, 1, 28, 28])\n",
            "Image shape: torch.Size([128, 1, 28, 28])\n",
            "Image shape: torch.Size([128, 1, 28, 28])\n",
            "Image shape: torch.Size([128, 1, 28, 28])\n",
            "Image shape: torch.Size([128, 1, 28, 28])\n",
            "Image shape: torch.Size([128, 1, 28, 28])\n",
            "Image shape: torch.Size([128, 1, 28, 28])\n",
            "Image shape: torch.Size([128, 1, 28, 28])\n",
            "Image shape: torch.Size([128, 1, 28, 28])\n",
            "Image shape: torch.Size([128, 1, 28, 28])\n",
            "Image shape: torch.Size([128, 1, 28, 28])\n",
            "Image shape: torch.Size([128, 1, 28, 28])\n",
            "Image shape: torch.Size([128, 1, 28, 28])\n",
            "Image shape: torch.Size([128, 1, 28, 28])\n",
            "Image shape: torch.Size([128, 1, 28, 28])\n",
            "Image shape: torch.Size([128, 1, 28, 28])\n",
            "Image shape: torch.Size([128, 1, 28, 28])\n",
            "Image shape: torch.Size([128, 1, 28, 28])\n",
            "Image shape: torch.Size([128, 1, 28, 28])\n",
            "Image shape: torch.Size([128, 1, 28, 28])\n",
            "Image shape: torch.Size([128, 1, 28, 28])\n",
            "Image shape: torch.Size([128, 1, 28, 28])\n",
            "Image shape: torch.Size([128, 1, 28, 28])\n",
            "Image shape: torch.Size([128, 1, 28, 28])\n",
            "Image shape: torch.Size([128, 1, 28, 28])\n",
            "Image shape: torch.Size([128, 1, 28, 28])\n",
            "Image shape: torch.Size([128, 1, 28, 28])\n",
            "Image shape: torch.Size([128, 1, 28, 28])\n",
            "Image shape: torch.Size([128, 1, 28, 28])\n",
            "Image shape: torch.Size([128, 1, 28, 28])\n",
            "Image shape: torch.Size([128, 1, 28, 28])\n",
            "Image shape: torch.Size([128, 1, 28, 28])\n",
            "Image shape: torch.Size([128, 1, 28, 28])\n",
            "Image shape: torch.Size([128, 1, 28, 28])\n",
            "Image shape: torch.Size([128, 1, 28, 28])\n",
            "Image shape: torch.Size([128, 1, 28, 28])\n",
            "Image shape: torch.Size([128, 1, 28, 28])\n",
            "Image shape: torch.Size([128, 1, 28, 28])\n",
            "Image shape: torch.Size([128, 1, 28, 28])\n",
            "Image shape: torch.Size([128, 1, 28, 28])\n",
            "Image shape: torch.Size([128, 1, 28, 28])\n",
            "Image shape: torch.Size([128, 1, 28, 28])\n",
            "Image shape: torch.Size([128, 1, 28, 28])\n",
            "Image shape: torch.Size([128, 1, 28, 28])\n",
            "Image shape: torch.Size([128, 1, 28, 28])\n",
            "Image shape: torch.Size([128, 1, 28, 28])\n",
            "Image shape: torch.Size([128, 1, 28, 28])\n",
            "Image shape: torch.Size([128, 1, 28, 28])\n",
            "Image shape: torch.Size([128, 1, 28, 28])\n",
            "Image shape: torch.Size([128, 1, 28, 28])\n",
            "Image shape: torch.Size([128, 1, 28, 28])\n",
            "Image shape: torch.Size([128, 1, 28, 28])\n",
            "Image shape: torch.Size([128, 1, 28, 28])\n",
            "Image shape: torch.Size([128, 1, 28, 28])\n",
            "Image shape: torch.Size([128, 1, 28, 28])\n",
            "Image shape: torch.Size([128, 1, 28, 28])\n",
            "Image shape: torch.Size([128, 1, 28, 28])\n",
            "Image shape: torch.Size([128, 1, 28, 28])\n",
            "Image shape: torch.Size([128, 1, 28, 28])\n",
            "Image shape: torch.Size([128, 1, 28, 28])\n",
            "Image shape: torch.Size([128, 1, 28, 28])\n",
            "Image shape: torch.Size([128, 1, 28, 28])\n",
            "Image shape: torch.Size([128, 1, 28, 28])\n",
            "Image shape: torch.Size([128, 1, 28, 28])\n",
            "Image shape: torch.Size([128, 1, 28, 28])\n",
            "Image shape: torch.Size([128, 1, 28, 28])\n",
            "Image shape: torch.Size([128, 1, 28, 28])\n",
            "Image shape: torch.Size([128, 1, 28, 28])\n",
            "Image shape: torch.Size([128, 1, 28, 28])\n",
            "Image shape: torch.Size([128, 1, 28, 28])\n",
            "Image shape: torch.Size([128, 1, 28, 28])\n",
            "Image shape: torch.Size([128, 1, 28, 28])\n",
            "Image shape: torch.Size([128, 1, 28, 28])\n",
            "Image shape: torch.Size([128, 1, 28, 28])\n",
            "Image shape: torch.Size([128, 1, 28, 28])\n",
            "Image shape: torch.Size([128, 1, 28, 28])\n",
            "Image shape: torch.Size([128, 1, 28, 28])\n",
            "Image shape: torch.Size([128, 1, 28, 28])\n",
            "Image shape: torch.Size([128, 1, 28, 28])\n",
            "Image shape: torch.Size([128, 1, 28, 28])\n",
            "Image shape: torch.Size([128, 1, 28, 28])\n",
            "Image shape: torch.Size([128, 1, 28, 28])\n",
            "Image shape: torch.Size([128, 1, 28, 28])\n",
            "Image shape: torch.Size([128, 1, 28, 28])\n",
            "Image shape: torch.Size([128, 1, 28, 28])\n",
            "Image shape: torch.Size([128, 1, 28, 28])\n",
            "Image shape: torch.Size([128, 1, 28, 28])\n",
            "Image shape: torch.Size([128, 1, 28, 28])\n",
            "Image shape: torch.Size([128, 1, 28, 28])\n",
            "Image shape: torch.Size([128, 1, 28, 28])\n",
            "Image shape: torch.Size([128, 1, 28, 28])\n",
            "Image shape: torch.Size([128, 1, 28, 28])\n",
            "Image shape: torch.Size([128, 1, 28, 28])\n",
            "Image shape: torch.Size([128, 1, 28, 28])\n",
            "Image shape: torch.Size([128, 1, 28, 28])\n",
            "Image shape: torch.Size([128, 1, 28, 28])\n",
            "Image shape: torch.Size([128, 1, 28, 28])\n",
            "Image shape: torch.Size([128, 1, 28, 28])\n",
            "Image shape: torch.Size([128, 1, 28, 28])\n",
            "Image shape: torch.Size([128, 1, 28, 28])\n",
            "Image shape: torch.Size([128, 1, 28, 28])\n",
            "Image shape: torch.Size([128, 1, 28, 28])\n",
            "Image shape: torch.Size([128, 1, 28, 28])\n",
            "Image shape: torch.Size([128, 1, 28, 28])\n",
            "Image shape: torch.Size([128, 1, 28, 28])\n",
            "Image shape: torch.Size([128, 1, 28, 28])\n",
            "Image shape: torch.Size([128, 1, 28, 28])\n",
            "Image shape: torch.Size([128, 1, 28, 28])\n",
            "Image shape: torch.Size([128, 1, 28, 28])\n",
            "Image shape: torch.Size([128, 1, 28, 28])\n",
            "Image shape: torch.Size([128, 1, 28, 28])\n",
            "Image shape: torch.Size([128, 1, 28, 28])\n",
            "Image shape: torch.Size([128, 1, 28, 28])\n",
            "Image shape: torch.Size([128, 1, 28, 28])\n",
            "Image shape: torch.Size([128, 1, 28, 28])\n",
            "Image shape: torch.Size([128, 1, 28, 28])\n",
            "Image shape: torch.Size([128, 1, 28, 28])\n",
            "Image shape: torch.Size([128, 1, 28, 28])\n",
            "Image shape: torch.Size([128, 1, 28, 28])\n",
            "Image shape: torch.Size([128, 1, 28, 28])\n",
            "Image shape: torch.Size([128, 1, 28, 28])\n",
            "Image shape: torch.Size([128, 1, 28, 28])\n",
            "Image shape: torch.Size([128, 1, 28, 28])\n",
            "Image shape: torch.Size([128, 1, 28, 28])\n",
            "Image shape: torch.Size([128, 1, 28, 28])\n",
            "Image shape: torch.Size([128, 1, 28, 28])\n",
            "Image shape: torch.Size([128, 1, 28, 28])\n",
            "Image shape: torch.Size([128, 1, 28, 28])\n",
            "Image shape: torch.Size([128, 1, 28, 28])\n",
            "Image shape: torch.Size([128, 1, 28, 28])\n",
            "Image shape: torch.Size([128, 1, 28, 28])\n",
            "Image shape: torch.Size([128, 1, 28, 28])\n",
            "Image shape: torch.Size([128, 1, 28, 28])\n",
            "Image shape: torch.Size([128, 1, 28, 28])\n",
            "Image shape: torch.Size([128, 1, 28, 28])\n",
            "Image shape: torch.Size([128, 1, 28, 28])\n",
            "Image shape: torch.Size([128, 1, 28, 28])\n",
            "Image shape: torch.Size([128, 1, 28, 28])\n",
            "Image shape: torch.Size([128, 1, 28, 28])\n",
            "Image shape: torch.Size([128, 1, 28, 28])\n",
            "Image shape: torch.Size([128, 1, 28, 28])\n",
            "Image shape: torch.Size([128, 1, 28, 28])\n",
            "Image shape: torch.Size([128, 1, 28, 28])\n",
            "Image shape: torch.Size([128, 1, 28, 28])\n",
            "Image shape: torch.Size([128, 1, 28, 28])\n",
            "Image shape: torch.Size([128, 1, 28, 28])\n",
            "Image shape: torch.Size([128, 1, 28, 28])\n",
            "Image shape: torch.Size([128, 1, 28, 28])\n",
            "Image shape: torch.Size([128, 1, 28, 28])\n",
            "Image shape: torch.Size([128, 1, 28, 28])\n",
            "Image shape: torch.Size([128, 1, 28, 28])\n",
            "Image shape: torch.Size([128, 1, 28, 28])\n",
            "Image shape: torch.Size([128, 1, 28, 28])\n",
            "Image shape: torch.Size([128, 1, 28, 28])\n",
            "Image shape: torch.Size([128, 1, 28, 28])\n",
            "Image shape: torch.Size([128, 1, 28, 28])\n",
            "Image shape: torch.Size([128, 1, 28, 28])\n",
            "Image shape: torch.Size([128, 1, 28, 28])\n",
            "Image shape: torch.Size([128, 1, 28, 28])\n",
            "Image shape: torch.Size([128, 1, 28, 28])\n",
            "Image shape: torch.Size([128, 1, 28, 28])\n",
            "Image shape: torch.Size([128, 1, 28, 28])\n",
            "Image shape: torch.Size([128, 1, 28, 28])\n",
            "Image shape: torch.Size([128, 1, 28, 28])\n",
            "Image shape: torch.Size([128, 1, 28, 28])\n",
            "Image shape: torch.Size([128, 1, 28, 28])\n",
            "Image shape: torch.Size([128, 1, 28, 28])\n",
            "Image shape: torch.Size([128, 1, 28, 28])\n",
            "Image shape: torch.Size([128, 1, 28, 28])\n",
            "Image shape: torch.Size([128, 1, 28, 28])\n",
            "Image shape: torch.Size([128, 1, 28, 28])\n",
            "Image shape: torch.Size([128, 1, 28, 28])\n",
            "Image shape: torch.Size([128, 1, 28, 28])\n",
            "Image shape: torch.Size([128, 1, 28, 28])\n",
            "Image shape: torch.Size([128, 1, 28, 28])\n",
            "Image shape: torch.Size([128, 1, 28, 28])\n",
            "Image shape: torch.Size([128, 1, 28, 28])\n",
            "Image shape: torch.Size([128, 1, 28, 28])\n",
            "Image shape: torch.Size([128, 1, 28, 28])\n",
            "Image shape: torch.Size([128, 1, 28, 28])\n",
            "Image shape: torch.Size([128, 1, 28, 28])\n",
            "Image shape: torch.Size([128, 1, 28, 28])\n",
            "Image shape: torch.Size([128, 1, 28, 28])\n",
            "Image shape: torch.Size([128, 1, 28, 28])\n",
            "Image shape: torch.Size([128, 1, 28, 28])\n",
            "Image shape: torch.Size([128, 1, 28, 28])\n",
            "Image shape: torch.Size([128, 1, 28, 28])\n",
            "Image shape: torch.Size([128, 1, 28, 28])\n",
            "Image shape: torch.Size([128, 1, 28, 28])\n",
            "Image shape: torch.Size([128, 1, 28, 28])\n",
            "Image shape: torch.Size([128, 1, 28, 28])\n",
            "Image shape: torch.Size([128, 1, 28, 28])\n",
            "Image shape: torch.Size([128, 1, 28, 28])\n",
            "Image shape: torch.Size([128, 1, 28, 28])\n",
            "Image shape: torch.Size([128, 1, 28, 28])\n",
            "Image shape: torch.Size([128, 1, 28, 28])\n",
            "Image shape: torch.Size([128, 1, 28, 28])\n",
            "Image shape: torch.Size([128, 1, 28, 28])\n",
            "Image shape: torch.Size([128, 1, 28, 28])\n",
            "Image shape: torch.Size([128, 1, 28, 28])\n",
            "Image shape: torch.Size([128, 1, 28, 28])\n",
            "Image shape: torch.Size([128, 1, 28, 28])\n",
            "Image shape: torch.Size([128, 1, 28, 28])\n",
            "Image shape: torch.Size([128, 1, 28, 28])\n",
            "Image shape: torch.Size([128, 1, 28, 28])\n",
            "Image shape: torch.Size([128, 1, 28, 28])\n",
            "Image shape: torch.Size([128, 1, 28, 28])\n",
            "Image shape: torch.Size([128, 1, 28, 28])\n",
            "Image shape: torch.Size([128, 1, 28, 28])\n",
            "Image shape: torch.Size([128, 1, 28, 28])\n",
            "Image shape: torch.Size([128, 1, 28, 28])\n",
            "Image shape: torch.Size([128, 1, 28, 28])\n",
            "Image shape: torch.Size([128, 1, 28, 28])\n",
            "Image shape: torch.Size([128, 1, 28, 28])\n",
            "Image shape: torch.Size([128, 1, 28, 28])\n",
            "Image shape: torch.Size([128, 1, 28, 28])\n",
            "Image shape: torch.Size([128, 1, 28, 28])\n",
            "Image shape: torch.Size([128, 1, 28, 28])\n",
            "Image shape: torch.Size([128, 1, 28, 28])\n",
            "Image shape: torch.Size([128, 1, 28, 28])\n",
            "Image shape: torch.Size([128, 1, 28, 28])\n",
            "Image shape: torch.Size([128, 1, 28, 28])\n",
            "Image shape: torch.Size([128, 1, 28, 28])\n",
            "Image shape: torch.Size([128, 1, 28, 28])\n",
            "Image shape: torch.Size([128, 1, 28, 28])\n",
            "Image shape: torch.Size([128, 1, 28, 28])\n",
            "Image shape: torch.Size([128, 1, 28, 28])\n",
            "Image shape: torch.Size([128, 1, 28, 28])\n",
            "Image shape: torch.Size([128, 1, 28, 28])\n",
            "Image shape: torch.Size([128, 1, 28, 28])\n",
            "Image shape: torch.Size([128, 1, 28, 28])\n",
            "Image shape: torch.Size([128, 1, 28, 28])\n",
            "Image shape: torch.Size([128, 1, 28, 28])\n",
            "Image shape: torch.Size([128, 1, 28, 28])\n",
            "Image shape: torch.Size([128, 1, 28, 28])\n",
            "Image shape: torch.Size([128, 1, 28, 28])\n",
            "Image shape: torch.Size([128, 1, 28, 28])\n",
            "Image shape: torch.Size([128, 1, 28, 28])\n",
            "Image shape: torch.Size([128, 1, 28, 28])\n",
            "Image shape: torch.Size([128, 1, 28, 28])\n",
            "Image shape: torch.Size([128, 1, 28, 28])\n",
            "Image shape: torch.Size([128, 1, 28, 28])\n",
            "Image shape: torch.Size([128, 1, 28, 28])\n",
            "Image shape: torch.Size([128, 1, 28, 28])\n",
            "Image shape: torch.Size([128, 1, 28, 28])\n",
            "Image shape: torch.Size([128, 1, 28, 28])\n",
            "Image shape: torch.Size([128, 1, 28, 28])\n",
            "Image shape: torch.Size([128, 1, 28, 28])\n",
            "Image shape: torch.Size([128, 1, 28, 28])\n",
            "Image shape: torch.Size([128, 1, 28, 28])\n",
            "Image shape: torch.Size([128, 1, 28, 28])\n",
            "Image shape: torch.Size([128, 1, 28, 28])\n",
            "Image shape: torch.Size([128, 1, 28, 28])\n",
            "Image shape: torch.Size([128, 1, 28, 28])\n",
            "Image shape: torch.Size([128, 1, 28, 28])\n",
            "Image shape: torch.Size([128, 1, 28, 28])\n",
            "Image shape: torch.Size([128, 1, 28, 28])\n",
            "Image shape: torch.Size([128, 1, 28, 28])\n",
            "Image shape: torch.Size([128, 1, 28, 28])\n",
            "Image shape: torch.Size([128, 1, 28, 28])\n",
            "Image shape: torch.Size([128, 1, 28, 28])\n",
            "Image shape: torch.Size([128, 1, 28, 28])\n",
            "Image shape: torch.Size([128, 1, 28, 28])\n",
            "Image shape: torch.Size([128, 1, 28, 28])\n",
            "Image shape: torch.Size([128, 1, 28, 28])\n",
            "Image shape: torch.Size([128, 1, 28, 28])\n",
            "Image shape: torch.Size([128, 1, 28, 28])\n",
            "Image shape: torch.Size([128, 1, 28, 28])\n",
            "Image shape: torch.Size([128, 1, 28, 28])\n",
            "Image shape: torch.Size([128, 1, 28, 28])\n",
            "Image shape: torch.Size([128, 1, 28, 28])\n",
            "Image shape: torch.Size([128, 1, 28, 28])\n",
            "Image shape: torch.Size([128, 1, 28, 28])\n",
            "Image shape: torch.Size([128, 1, 28, 28])\n",
            "Image shape: torch.Size([128, 1, 28, 28])\n",
            "Image shape: torch.Size([128, 1, 28, 28])\n",
            "Image shape: torch.Size([128, 1, 28, 28])\n",
            "Image shape: torch.Size([128, 1, 28, 28])\n",
            "Image shape: torch.Size([128, 1, 28, 28])\n",
            "Image shape: torch.Size([128, 1, 28, 28])\n",
            "Image shape: torch.Size([128, 1, 28, 28])\n",
            "Image shape: torch.Size([128, 1, 28, 28])\n",
            "Image shape: torch.Size([128, 1, 28, 28])\n",
            "Image shape: torch.Size([128, 1, 28, 28])\n",
            "Image shape: torch.Size([128, 1, 28, 28])\n",
            "Image shape: torch.Size([128, 1, 28, 28])\n",
            "Image shape: torch.Size([128, 1, 28, 28])\n",
            "Image shape: torch.Size([128, 1, 28, 28])\n",
            "Image shape: torch.Size([128, 1, 28, 28])\n",
            "Image shape: torch.Size([128, 1, 28, 28])\n",
            "Image shape: torch.Size([128, 1, 28, 28])\n",
            "Image shape: torch.Size([128, 1, 28, 28])\n",
            "Image shape: torch.Size([128, 1, 28, 28])\n",
            "Image shape: torch.Size([128, 1, 28, 28])\n",
            "Image shape: torch.Size([128, 1, 28, 28])\n",
            "Image shape: torch.Size([128, 1, 28, 28])\n",
            "Image shape: torch.Size([128, 1, 28, 28])\n",
            "Image shape: torch.Size([128, 1, 28, 28])\n",
            "Image shape: torch.Size([128, 1, 28, 28])\n",
            "Image shape: torch.Size([128, 1, 28, 28])\n",
            "Image shape: torch.Size([128, 1, 28, 28])\n",
            "Image shape: torch.Size([128, 1, 28, 28])\n",
            "Image shape: torch.Size([128, 1, 28, 28])\n",
            "Image shape: torch.Size([128, 1, 28, 28])\n",
            "Image shape: torch.Size([128, 1, 28, 28])\n",
            "Image shape: torch.Size([128, 1, 28, 28])\n",
            "Image shape: torch.Size([128, 1, 28, 28])\n",
            "Image shape: torch.Size([128, 1, 28, 28])\n",
            "Image shape: torch.Size([128, 1, 28, 28])\n",
            "Image shape: torch.Size([128, 1, 28, 28])\n",
            "Image shape: torch.Size([128, 1, 28, 28])\n",
            "Image shape: torch.Size([128, 1, 28, 28])\n",
            "Image shape: torch.Size([128, 1, 28, 28])\n",
            "Image shape: torch.Size([80, 1, 28, 28])\n",
            "Output shape: torch.Size([80, 10])\n",
            "Sample outputs: \n",
            " tensor([[ 0.2728, -0.1226,  0.0154, -0.1005, -0.0818, -0.3811,  0.2532, -0.5219,\n",
            "         -0.2806, -0.0095],\n",
            "        [-0.0810, -0.1373, -0.3779, -0.1374, -0.1953, -0.0027,  0.0623, -0.1197,\n",
            "         -0.0613, -0.0127]])\n"
          ]
        }
      ]
    },
    {
      "cell_type": "code",
      "source": [
        "import torch.nn.functional as F"
      ],
      "metadata": {
        "id": "xWu9MNOPSASJ"
      },
      "execution_count": null,
      "outputs": []
    },
    {
      "cell_type": "code",
      "source": [
        "# Apply softmax for each output row\n",
        "probs = F.softmax(outputs, dim=1)\n",
        "\n",
        "# Look at sample probabilities\n",
        "print(f\"Sample probabilities:\\n {probs[:2].data}\")\n",
        "\n",
        "# Add up the probabilities of an output row\n",
        "print(f\"Sum: {torch.sum(probs[0]).item()}\")"
      ],
      "metadata": {
        "colab": {
          "base_uri": "https://localhost:8080/"
        },
        "id": "336-dovISe-r",
        "outputId": "09b42cc7-9469-4e77-88e1-34e9aca77913"
      },
      "execution_count": null,
      "outputs": [
        {
          "output_type": "stream",
          "name": "stdout",
          "text": [
            "Sample probabilities:\n",
            " tensor([[0.1405, 0.0946, 0.1086, 0.0967, 0.0986, 0.0731, 0.1378, 0.0635, 0.0808,\n",
            "         0.1059],\n",
            "        [0.1019, 0.0963, 0.0757, 0.0963, 0.0909, 0.1102, 0.1176, 0.0980, 0.1039,\n",
            "         0.1091]])\n",
            "Sum: 1.0\n"
          ]
        }
      ]
    },
    {
      "cell_type": "code",
      "source": [
        "max_probs, preds = torch.max(probs, dim=1)\n",
        "preds, max_probs"
      ],
      "metadata": {
        "colab": {
          "base_uri": "https://localhost:8080/"
        },
        "id": "3DWw5_lzTFqc",
        "outputId": "3f056312-535f-4ec4-fc8f-92fd944d85bd"
      },
      "execution_count": null,
      "outputs": [
        {
          "output_type": "execute_result",
          "data": {
            "text/plain": [
              "(tensor([0, 6, 9, 4, 9, 1, 7, 9, 2, 0, 0, 6, 3, 2, 6, 4, 0, 6, 4, 9, 3, 6, 0, 9,\n",
              "         0, 6, 9, 0, 6, 6, 4, 6, 9, 6, 7, 6, 6, 9, 0, 2, 6, 5, 6, 6, 4, 6, 0, 6,\n",
              "         4, 4, 6, 6, 9, 6, 4, 6, 0, 6, 0, 9, 9, 9, 0, 2, 2, 6, 6, 8, 2, 0, 6, 6,\n",
              "         9, 0, 5, 9, 0, 2, 0, 0]),\n",
              " tensor([0.1405, 0.1176, 0.1276, 0.1142, 0.1265, 0.1128, 0.1178, 0.1532, 0.1212,\n",
              "         0.1180, 0.1409, 0.1277, 0.1300, 0.1197, 0.1217, 0.1208, 0.1356, 0.1236,\n",
              "         0.1181, 0.1205, 0.1256, 0.1172, 0.1247, 0.1226, 0.1566, 0.1289, 0.1387,\n",
              "         0.1272, 0.1359, 0.1207, 0.1227, 0.1187, 0.1285, 0.1233, 0.1178, 0.1246,\n",
              "         0.1234, 0.1243, 0.1300, 0.1514, 0.1229, 0.1181, 0.1357, 0.1466, 0.1221,\n",
              "         0.1411, 0.1297, 0.1254, 0.1208, 0.1272, 0.1396, 0.1205, 0.1572, 0.1389,\n",
              "         0.1282, 0.1411, 0.1369, 0.1209, 0.1360, 0.1483, 0.1159, 0.1290, 0.1302,\n",
              "         0.1112, 0.1323, 0.1233, 0.1230, 0.1267, 0.1128, 0.1151, 0.1165, 0.1291,\n",
              "         0.1208, 0.1480, 0.1230, 0.1197, 0.1349, 0.1183, 0.1631, 0.1317],\n",
              "        grad_fn=<MaxBackward0>))"
            ]
          },
          "metadata": {},
          "execution_count": 59
        }
      ]
    },
    {
      "cell_type": "markdown",
      "source": [
        "## 3.3 Evaluation metrics and loss function"
      ],
      "metadata": {
        "id": "kHqRPL_PUx6Y"
      }
    },
    {
      "cell_type": "code",
      "source": [
        "def accuracy(outputs, labels):\n",
        "  _ , preds = torch.max(outputs, dim=1)\n",
        "  return torch.tensor(torch.sum(preds == labels).item() / len(preds))"
      ],
      "metadata": {
        "id": "nxPBbPQCVGte"
      },
      "execution_count": null,
      "outputs": []
    },
    {
      "cell_type": "code",
      "source": [
        "accuracy(outputs, labels)"
      ],
      "metadata": {
        "colab": {
          "base_uri": "https://localhost:8080/"
        },
        "id": "wgWq49PIVTVq",
        "outputId": "0fdb6583-a966-4529-ab59-3bb3b75b9635"
      },
      "execution_count": null,
      "outputs": [
        {
          "output_type": "execute_result",
          "data": {
            "text/plain": [
              "tensor(0.1000)"
            ]
          },
          "metadata": {},
          "execution_count": 61
        }
      ]
    },
    {
      "cell_type": "code",
      "source": [
        "# Use cross-entropy\n",
        "loss_fn = F.cross_entropy"
      ],
      "metadata": {
        "id": "87R33e8HVYpw"
      },
      "execution_count": null,
      "outputs": []
    },
    {
      "cell_type": "code",
      "source": [
        "loss = loss_fn(outputs, labels)\n",
        "loss"
      ],
      "metadata": {
        "colab": {
          "base_uri": "https://localhost:8080/"
        },
        "id": "3GmvORMGWDDK",
        "outputId": "d0e54c29-1d0e-45c6-c9a4-eda75aaf9811"
      },
      "execution_count": null,
      "outputs": [
        {
          "output_type": "execute_result",
          "data": {
            "text/plain": [
              "tensor(2.2957, grad_fn=<NllLossBackward0>)"
            ]
          },
          "metadata": {},
          "execution_count": 63
        }
      ]
    },
    {
      "cell_type": "markdown",
      "source": [
        "## 3.4 Training the model\n",
        "\n",
        "The pseudocode of this process is:\n",
        "\n",
        "```\n",
        "for epoch in range(num_epochs):\n",
        "  # Training phase\n",
        "  for batch in train_dataloader:\n",
        "    # Generate predictions\n",
        "    # Calculate loss\n",
        "    # Compute gradients\n",
        "    # Update weights\n",
        "    # Reset gradients\n",
        "\n",
        "  # Validation phase\n",
        "  for batch in val_dataloader:\n",
        "    # Generate predictions\n",
        "    # Calculate loss\n",
        "    # Calculate metrics (accuracy etc.)\n",
        "\n",
        "  # Calculate average validation loss & metrics\n",
        "\n",
        "  # Log epochs, loss & metrics for inspection\n",
        "```"
      ],
      "metadata": {
        "id": "ssPh7pcgfM3Q"
      }
    },
    {
      "cell_type": "code",
      "source": [
        "class MNISTModelV2(nn.Module):\n",
        "  def __init__(self):\n",
        "    super().__init__()\n",
        "    self.linear = nn.Linear(in_features = input_size, out_features = num_classes)\n",
        "\n",
        "  def forward(self,x):\n",
        "    x = x.reshape(-1,784)\n",
        "    out = self.linear(x)\n",
        "    return out\n",
        "\n",
        "  def training_step(self, batch):\n",
        "    imgs, labels = batch\n",
        "    out = self(imgs)                    # Generate predictions\n",
        "    loss = F.cross_entropy(out, labels) # Calculate loss\n",
        "    return loss\n",
        "\n",
        "  def validation_step(self, batch):\n",
        "    imgs, labels = batch\n",
        "    out = self(imgs)                    # Generate predictions\n",
        "    loss = F.cross_entropy(out, labels) # Calculate loss\n",
        "    acc = accuracy(out, labels)         # Calculate accuracy\n",
        "    return {'val_loss':loss, 'val_acc': acc}\n",
        "\n",
        "  def validation_epoch_end(self, outputs):\n",
        "    batch_losses = [x['val_loss'] for x in outputs]\n",
        "    epoch_loss = torch.stack(batch_losses).mean() # Combine losses\n",
        "    batch_accs = [x['val_acc'] for x in outputs]\n",
        "    epoch_acc = torch.stack(batch_accs).mean()    # Combine accuracies\n",
        "    return {'val_loss': epoch_loss.item(), 'val_acc': epoch_acc.item()}\n",
        "\n",
        "\n",
        "model_v2 = MNISTModelV2()\n",
        "model_v2"
      ],
      "metadata": {
        "colab": {
          "base_uri": "https://localhost:8080/"
        },
        "id": "ZaqeSThZWG7b",
        "outputId": "ffa3f9e1-ffaa-46d7-a07a-cdc5f5c42812"
      },
      "execution_count": null,
      "outputs": [
        {
          "output_type": "execute_result",
          "data": {
            "text/plain": [
              "MNISTModelV2(\n",
              "  (linear): Linear(in_features=784, out_features=10, bias=True)\n",
              ")"
            ]
          },
          "metadata": {},
          "execution_count": 64
        }
      ]
    },
    {
      "cell_type": "markdown",
      "source": [
        "Now we'll define an `evaluate` function, which will perform the validation phase, and a `fit` function which will perform the entire training preocess."
      ],
      "metadata": {
        "id": "sQXBlXqf9vaU"
      }
    },
    {
      "cell_type": "code",
      "source": [
        "from tqdm.auto import tqdm\n",
        "\n",
        "def evaluate(model, val_dataloader):\n",
        "  outputs = [model.validation_step(batch) for batch in val_dataloader]\n",
        "  return model.validation_epoch_end(outputs)\n",
        "\n",
        "def fit(epochs, lr, model, train_dataloader, val_dataloader, opt_func = torch.optim.SGD):\n",
        "  history = []\n",
        "  optimizer = opt_func(model.parameters(), lr)\n",
        "  for epoch in tqdm(range(epochs)):\n",
        "    # Training phase\n",
        "    for batch in train_dataloader:\n",
        "      loss.model.training_step(batch)\n",
        "      loss.backward()\n",
        "      optimizer.step()\n",
        "      optimizer.zero_grad()\n",
        "    #Validation phase\n",
        "    result = evaluate(model, val_dataloader)\n",
        "    model.epoch_end(epoch,result)\n",
        "    history.append(result)\n",
        "\n",
        "  return history"
      ],
      "metadata": {
        "id": "N3F1T_pK9tGd"
      },
      "execution_count": null,
      "outputs": []
    },
    {
      "cell_type": "code",
      "source": [
        "result_0 = model(model, val_dataloader)\n",
        "result_0"
      ],
      "metadata": {
        "colab": {
          "base_uri": "https://localhost:8080/",
          "height": 304
        },
        "id": "PakyIiES_XYf",
        "outputId": "9244ea8b-4dea-4693-c28e-3bec91138c51"
      },
      "execution_count": null,
      "outputs": [
        {
          "output_type": "error",
          "ename": "TypeError",
          "evalue": "Linear.forward() takes 2 positional arguments but 3 were given",
          "traceback": [
            "\u001b[0;31m---------------------------------------------------------------------------\u001b[0m",
            "\u001b[0;31mTypeError\u001b[0m                                 Traceback (most recent call last)",
            "\u001b[0;32m<ipython-input-66-6af0758388d4>\u001b[0m in \u001b[0;36m<cell line: 1>\u001b[0;34m()\u001b[0m\n\u001b[0;32m----> 1\u001b[0;31m \u001b[0mresult_0\u001b[0m \u001b[0;34m=\u001b[0m \u001b[0mmodel\u001b[0m\u001b[0;34m(\u001b[0m\u001b[0mmodel\u001b[0m\u001b[0;34m,\u001b[0m \u001b[0mval_dataloader\u001b[0m\u001b[0;34m)\u001b[0m\u001b[0;34m\u001b[0m\u001b[0;34m\u001b[0m\u001b[0m\n\u001b[0m\u001b[1;32m      2\u001b[0m \u001b[0mresult_0\u001b[0m\u001b[0;34m\u001b[0m\u001b[0;34m\u001b[0m\u001b[0m\n",
            "\u001b[0;32m/usr/local/lib/python3.10/dist-packages/torch/nn/modules/module.py\u001b[0m in \u001b[0;36m_wrapped_call_impl\u001b[0;34m(self, *args, **kwargs)\u001b[0m\n\u001b[1;32m   1530\u001b[0m             \u001b[0;32mreturn\u001b[0m \u001b[0mself\u001b[0m\u001b[0;34m.\u001b[0m\u001b[0m_compiled_call_impl\u001b[0m\u001b[0;34m(\u001b[0m\u001b[0;34m*\u001b[0m\u001b[0margs\u001b[0m\u001b[0;34m,\u001b[0m \u001b[0;34m**\u001b[0m\u001b[0mkwargs\u001b[0m\u001b[0;34m)\u001b[0m  \u001b[0;31m# type: ignore[misc]\u001b[0m\u001b[0;34m\u001b[0m\u001b[0;34m\u001b[0m\u001b[0m\n\u001b[1;32m   1531\u001b[0m         \u001b[0;32melse\u001b[0m\u001b[0;34m:\u001b[0m\u001b[0;34m\u001b[0m\u001b[0;34m\u001b[0m\u001b[0m\n\u001b[0;32m-> 1532\u001b[0;31m             \u001b[0;32mreturn\u001b[0m \u001b[0mself\u001b[0m\u001b[0;34m.\u001b[0m\u001b[0m_call_impl\u001b[0m\u001b[0;34m(\u001b[0m\u001b[0;34m*\u001b[0m\u001b[0margs\u001b[0m\u001b[0;34m,\u001b[0m \u001b[0;34m**\u001b[0m\u001b[0mkwargs\u001b[0m\u001b[0;34m)\u001b[0m\u001b[0;34m\u001b[0m\u001b[0;34m\u001b[0m\u001b[0m\n\u001b[0m\u001b[1;32m   1533\u001b[0m \u001b[0;34m\u001b[0m\u001b[0m\n\u001b[1;32m   1534\u001b[0m     \u001b[0;32mdef\u001b[0m \u001b[0m_call_impl\u001b[0m\u001b[0;34m(\u001b[0m\u001b[0mself\u001b[0m\u001b[0;34m,\u001b[0m \u001b[0;34m*\u001b[0m\u001b[0margs\u001b[0m\u001b[0;34m,\u001b[0m \u001b[0;34m**\u001b[0m\u001b[0mkwargs\u001b[0m\u001b[0;34m)\u001b[0m\u001b[0;34m:\u001b[0m\u001b[0;34m\u001b[0m\u001b[0;34m\u001b[0m\u001b[0m\n",
            "\u001b[0;32m/usr/local/lib/python3.10/dist-packages/torch/nn/modules/module.py\u001b[0m in \u001b[0;36m_call_impl\u001b[0;34m(self, *args, **kwargs)\u001b[0m\n\u001b[1;32m   1539\u001b[0m                 \u001b[0;32mor\u001b[0m \u001b[0m_global_backward_pre_hooks\u001b[0m \u001b[0;32mor\u001b[0m \u001b[0m_global_backward_hooks\u001b[0m\u001b[0;34m\u001b[0m\u001b[0;34m\u001b[0m\u001b[0m\n\u001b[1;32m   1540\u001b[0m                 or _global_forward_hooks or _global_forward_pre_hooks):\n\u001b[0;32m-> 1541\u001b[0;31m             \u001b[0;32mreturn\u001b[0m \u001b[0mforward_call\u001b[0m\u001b[0;34m(\u001b[0m\u001b[0;34m*\u001b[0m\u001b[0margs\u001b[0m\u001b[0;34m,\u001b[0m \u001b[0;34m**\u001b[0m\u001b[0mkwargs\u001b[0m\u001b[0;34m)\u001b[0m\u001b[0;34m\u001b[0m\u001b[0;34m\u001b[0m\u001b[0m\n\u001b[0m\u001b[1;32m   1542\u001b[0m \u001b[0;34m\u001b[0m\u001b[0m\n\u001b[1;32m   1543\u001b[0m         \u001b[0;32mtry\u001b[0m\u001b[0;34m:\u001b[0m\u001b[0;34m\u001b[0m\u001b[0;34m\u001b[0m\u001b[0m\n",
            "\u001b[0;31mTypeError\u001b[0m: Linear.forward() takes 2 positional arguments but 3 were given"
          ]
        }
      ]
    },
    {
      "cell_type": "code",
      "source": [
        "histoy_1 = fit(epochs=5, lr=0.01, model=model, train_dataloader=train_dataloader, val_dataloader=val_dataloader)"
      ],
      "metadata": {
        "colab": {
          "base_uri": "https://localhost:8080/",
          "height": 295,
          "referenced_widgets": [
            "061b506d4b68431990b4369789b3c14a",
            "72573995526f48409cc65caad3e00b59",
            "6773c770854d4588b1c205279a587770",
            "59edeb029c0546b69ab2bacddd2a2f46",
            "3cd0cbead72946b7855de01e50e76046",
            "94eb4c1140ef4a838f2da0b450595de4",
            "4a2d0045dd424c2c81ee10b3a57458e6",
            "b4fea0e4b144467d943aba4d09c55b78",
            "7b60379a8aae408ba44eea6722ad81c1",
            "af258428a24d4b44929b8c24d3c847c6",
            "b5c26b26dd9443ecab6bfec97b845675"
          ]
        },
        "id": "VUGk81AN_cM6",
        "outputId": "6c9b988d-d5dc-4591-d50b-2a6594494032"
      },
      "execution_count": null,
      "outputs": [
        {
          "output_type": "display_data",
          "data": {
            "text/plain": [
              "  0%|          | 0/5 [00:00<?, ?it/s]"
            ],
            "application/vnd.jupyter.widget-view+json": {
              "version_major": 2,
              "version_minor": 0,
              "model_id": "061b506d4b68431990b4369789b3c14a"
            }
          },
          "metadata": {}
        },
        {
          "output_type": "error",
          "ename": "AttributeError",
          "evalue": "'Tensor' object has no attribute 'model'",
          "traceback": [
            "\u001b[0;31m---------------------------------------------------------------------------\u001b[0m",
            "\u001b[0;31mAttributeError\u001b[0m                            Traceback (most recent call last)",
            "\u001b[0;32m<ipython-input-67-b8b149e97ea7>\u001b[0m in \u001b[0;36m<cell line: 1>\u001b[0;34m()\u001b[0m\n\u001b[0;32m----> 1\u001b[0;31m \u001b[0mhistoy_1\u001b[0m \u001b[0;34m=\u001b[0m \u001b[0mfit\u001b[0m\u001b[0;34m(\u001b[0m\u001b[0mepochs\u001b[0m\u001b[0;34m=\u001b[0m\u001b[0;36m5\u001b[0m\u001b[0;34m,\u001b[0m \u001b[0mlr\u001b[0m\u001b[0;34m=\u001b[0m\u001b[0;36m0.01\u001b[0m\u001b[0;34m,\u001b[0m \u001b[0mmodel\u001b[0m\u001b[0;34m=\u001b[0m\u001b[0mmodel\u001b[0m\u001b[0;34m,\u001b[0m \u001b[0mtrain_dataloader\u001b[0m\u001b[0;34m=\u001b[0m\u001b[0mtrain_dataloader\u001b[0m\u001b[0;34m,\u001b[0m \u001b[0mval_dataloader\u001b[0m\u001b[0;34m=\u001b[0m\u001b[0mval_dataloader\u001b[0m\u001b[0;34m)\u001b[0m\u001b[0;34m\u001b[0m\u001b[0;34m\u001b[0m\u001b[0m\n\u001b[0m",
            "\u001b[0;32m<ipython-input-65-a9361fd99c8d>\u001b[0m in \u001b[0;36mfit\u001b[0;34m(epochs, lr, model, train_dataloader, val_dataloader, opt_func)\u001b[0m\n\u001b[1;32m     11\u001b[0m     \u001b[0;31m# Training phase\u001b[0m\u001b[0;34m\u001b[0m\u001b[0;34m\u001b[0m\u001b[0m\n\u001b[1;32m     12\u001b[0m     \u001b[0;32mfor\u001b[0m \u001b[0mbatch\u001b[0m \u001b[0;32min\u001b[0m \u001b[0mtrain_dataloader\u001b[0m\u001b[0;34m:\u001b[0m\u001b[0;34m\u001b[0m\u001b[0;34m\u001b[0m\u001b[0m\n\u001b[0;32m---> 13\u001b[0;31m       \u001b[0mloss\u001b[0m\u001b[0;34m.\u001b[0m\u001b[0mmodel\u001b[0m\u001b[0;34m.\u001b[0m\u001b[0mtraining_step\u001b[0m\u001b[0;34m(\u001b[0m\u001b[0mbatch\u001b[0m\u001b[0;34m)\u001b[0m\u001b[0;34m\u001b[0m\u001b[0;34m\u001b[0m\u001b[0m\n\u001b[0m\u001b[1;32m     14\u001b[0m       \u001b[0mloss\u001b[0m\u001b[0;34m.\u001b[0m\u001b[0mbackward\u001b[0m\u001b[0;34m(\u001b[0m\u001b[0;34m)\u001b[0m\u001b[0;34m\u001b[0m\u001b[0;34m\u001b[0m\u001b[0m\n\u001b[1;32m     15\u001b[0m       \u001b[0moptimizer\u001b[0m\u001b[0;34m.\u001b[0m\u001b[0mstep\u001b[0m\u001b[0;34m(\u001b[0m\u001b[0;34m)\u001b[0m\u001b[0;34m\u001b[0m\u001b[0;34m\u001b[0m\u001b[0m\n",
            "\u001b[0;31mAttributeError\u001b[0m: 'Tensor' object has no attribute 'model'"
          ]
        }
      ]
    },
    {
      "cell_type": "code",
      "source": [
        "history_2 = fit(5, 0.001, model, train_dataloader, val_dataloader)"
      ],
      "metadata": {
        "colab": {
          "base_uri": "https://localhost:8080/",
          "height": 295,
          "referenced_widgets": [
            "dd26b9b8127249d3a3ca9896a06d4fdb",
            "bec6e0d63a834a7ab1dcc5e270507da0",
            "cddb164b270b4272bf2766c3865ef66f",
            "4aa7f86bacdf4c15b052fe3fdbd4fc55",
            "d820ab8f9125459c864155ce131a73c8",
            "f4af57d04242448797d7c737767dcdc4",
            "6ea5b19e05404d55a4ca534a8562c5eb",
            "e37dc5e00a214b3abf37dab11d275586",
            "35c78f0e0ee240d2961ad027ae556d66",
            "86d84beb5c544287b50e4a748de40231",
            "e0e880e12bfe46edb271c28a6ed37740"
          ]
        },
        "id": "wdSWa_mzAj2D",
        "outputId": "8a84a595-8c04-4660-d224-d39704b1a567"
      },
      "execution_count": null,
      "outputs": [
        {
          "output_type": "display_data",
          "data": {
            "text/plain": [
              "  0%|          | 0/5 [00:00<?, ?it/s]"
            ],
            "application/vnd.jupyter.widget-view+json": {
              "version_major": 2,
              "version_minor": 0,
              "model_id": "dd26b9b8127249d3a3ca9896a06d4fdb"
            }
          },
          "metadata": {}
        },
        {
          "output_type": "error",
          "ename": "AttributeError",
          "evalue": "'Tensor' object has no attribute 'model'",
          "traceback": [
            "\u001b[0;31m---------------------------------------------------------------------------\u001b[0m",
            "\u001b[0;31mAttributeError\u001b[0m                            Traceback (most recent call last)",
            "\u001b[0;32m<ipython-input-72-c49c0f0fb44f>\u001b[0m in \u001b[0;36m<cell line: 1>\u001b[0;34m()\u001b[0m\n\u001b[0;32m----> 1\u001b[0;31m \u001b[0mhistory_2\u001b[0m \u001b[0;34m=\u001b[0m \u001b[0mfit\u001b[0m\u001b[0;34m(\u001b[0m\u001b[0;36m5\u001b[0m\u001b[0;34m,\u001b[0m \u001b[0;36m0.001\u001b[0m\u001b[0;34m,\u001b[0m \u001b[0mmodel\u001b[0m\u001b[0;34m,\u001b[0m \u001b[0mtrain_dataloader\u001b[0m\u001b[0;34m,\u001b[0m \u001b[0mval_dataloader\u001b[0m\u001b[0;34m)\u001b[0m\u001b[0;34m\u001b[0m\u001b[0;34m\u001b[0m\u001b[0m\n\u001b[0m",
            "\u001b[0;32m<ipython-input-65-a9361fd99c8d>\u001b[0m in \u001b[0;36mfit\u001b[0;34m(epochs, lr, model, train_dataloader, val_dataloader, opt_func)\u001b[0m\n\u001b[1;32m     11\u001b[0m     \u001b[0;31m# Training phase\u001b[0m\u001b[0;34m\u001b[0m\u001b[0;34m\u001b[0m\u001b[0m\n\u001b[1;32m     12\u001b[0m     \u001b[0;32mfor\u001b[0m \u001b[0mbatch\u001b[0m \u001b[0;32min\u001b[0m \u001b[0mtrain_dataloader\u001b[0m\u001b[0;34m:\u001b[0m\u001b[0;34m\u001b[0m\u001b[0;34m\u001b[0m\u001b[0m\n\u001b[0;32m---> 13\u001b[0;31m       \u001b[0mloss\u001b[0m\u001b[0;34m.\u001b[0m\u001b[0mmodel\u001b[0m\u001b[0;34m.\u001b[0m\u001b[0mtraining_step\u001b[0m\u001b[0;34m(\u001b[0m\u001b[0mbatch\u001b[0m\u001b[0;34m)\u001b[0m\u001b[0;34m\u001b[0m\u001b[0;34m\u001b[0m\u001b[0m\n\u001b[0m\u001b[1;32m     14\u001b[0m       \u001b[0mloss\u001b[0m\u001b[0;34m.\u001b[0m\u001b[0mbackward\u001b[0m\u001b[0;34m(\u001b[0m\u001b[0;34m)\u001b[0m\u001b[0;34m\u001b[0m\u001b[0;34m\u001b[0m\u001b[0m\n\u001b[1;32m     15\u001b[0m       \u001b[0moptimizer\u001b[0m\u001b[0;34m.\u001b[0m\u001b[0mstep\u001b[0m\u001b[0;34m(\u001b[0m\u001b[0;34m)\u001b[0m\u001b[0;34m\u001b[0m\u001b[0;34m\u001b[0m\u001b[0m\n",
            "\u001b[0;31mAttributeError\u001b[0m: 'Tensor' object has no attribute 'model'"
          ]
        }
      ]
    },
    {
      "cell_type": "code",
      "source": [
        "history_3 = fit(5, 0.001, model, train_dataloader, val_dataloader)"
      ],
      "metadata": {
        "colab": {
          "base_uri": "https://localhost:8080/",
          "height": 295,
          "referenced_widgets": [
            "1cf7567a5ebe44108e0d8c7bbd64350a",
            "ba6022e2345d462dbec4ee8b6c2181a4",
            "ac1d8d6282154a38a3bf938d87dd20ba",
            "d6c72371c72246b5bfca55fc7c5d8eab",
            "86ec17929c3241d0ba56b90aafac9dd6",
            "7b386b1a017d426290599b61cd5225d8",
            "db4f313b37fb492d904c2e2ec6a26e39",
            "5661061b3a574fc389d556bb37f52a5d",
            "d6759db72349420f8eedae7a94e8aa71",
            "229ed4aa01e14e90a55a7d96cc43a1d3",
            "da8eff761e3446a687005c833613062c"
          ]
        },
        "id": "rMZM3BISBScR",
        "outputId": "be5f980e-eb29-43ec-a4fb-3e2aee54483e"
      },
      "execution_count": null,
      "outputs": [
        {
          "output_type": "display_data",
          "data": {
            "text/plain": [
              "  0%|          | 0/5 [00:00<?, ?it/s]"
            ],
            "application/vnd.jupyter.widget-view+json": {
              "version_major": 2,
              "version_minor": 0,
              "model_id": "1cf7567a5ebe44108e0d8c7bbd64350a"
            }
          },
          "metadata": {}
        },
        {
          "output_type": "error",
          "ename": "AttributeError",
          "evalue": "'Tensor' object has no attribute 'model'",
          "traceback": [
            "\u001b[0;31m---------------------------------------------------------------------------\u001b[0m",
            "\u001b[0;31mAttributeError\u001b[0m                            Traceback (most recent call last)",
            "\u001b[0;32m<ipython-input-73-79888b85b295>\u001b[0m in \u001b[0;36m<cell line: 1>\u001b[0;34m()\u001b[0m\n\u001b[0;32m----> 1\u001b[0;31m \u001b[0mhistory_3\u001b[0m \u001b[0;34m=\u001b[0m \u001b[0mfit\u001b[0m\u001b[0;34m(\u001b[0m\u001b[0;36m5\u001b[0m\u001b[0;34m,\u001b[0m \u001b[0;36m0.001\u001b[0m\u001b[0;34m,\u001b[0m \u001b[0mmodel\u001b[0m\u001b[0;34m,\u001b[0m \u001b[0mtrain_dataloader\u001b[0m\u001b[0;34m,\u001b[0m \u001b[0mval_dataloader\u001b[0m\u001b[0;34m)\u001b[0m\u001b[0;34m\u001b[0m\u001b[0;34m\u001b[0m\u001b[0m\n\u001b[0m",
            "\u001b[0;32m<ipython-input-65-a9361fd99c8d>\u001b[0m in \u001b[0;36mfit\u001b[0;34m(epochs, lr, model, train_dataloader, val_dataloader, opt_func)\u001b[0m\n\u001b[1;32m     11\u001b[0m     \u001b[0;31m# Training phase\u001b[0m\u001b[0;34m\u001b[0m\u001b[0;34m\u001b[0m\u001b[0m\n\u001b[1;32m     12\u001b[0m     \u001b[0;32mfor\u001b[0m \u001b[0mbatch\u001b[0m \u001b[0;32min\u001b[0m \u001b[0mtrain_dataloader\u001b[0m\u001b[0;34m:\u001b[0m\u001b[0;34m\u001b[0m\u001b[0;34m\u001b[0m\u001b[0m\n\u001b[0;32m---> 13\u001b[0;31m       \u001b[0mloss\u001b[0m\u001b[0;34m.\u001b[0m\u001b[0mmodel\u001b[0m\u001b[0;34m.\u001b[0m\u001b[0mtraining_step\u001b[0m\u001b[0;34m(\u001b[0m\u001b[0mbatch\u001b[0m\u001b[0;34m)\u001b[0m\u001b[0;34m\u001b[0m\u001b[0;34m\u001b[0m\u001b[0m\n\u001b[0m\u001b[1;32m     14\u001b[0m       \u001b[0mloss\u001b[0m\u001b[0;34m.\u001b[0m\u001b[0mbackward\u001b[0m\u001b[0;34m(\u001b[0m\u001b[0;34m)\u001b[0m\u001b[0;34m\u001b[0m\u001b[0;34m\u001b[0m\u001b[0m\n\u001b[1;32m     15\u001b[0m       \u001b[0moptimizer\u001b[0m\u001b[0;34m.\u001b[0m\u001b[0mstep\u001b[0m\u001b[0;34m(\u001b[0m\u001b[0;34m)\u001b[0m\u001b[0;34m\u001b[0m\u001b[0;34m\u001b[0m\u001b[0m\n",
            "\u001b[0;31mAttributeError\u001b[0m: 'Tensor' object has no attribute 'model'"
          ]
        }
      ]
    },
    {
      "cell_type": "code",
      "source": [
        "history_4 = fit(5, 0.001, model, train_dataloader, val_dataloader)"
      ],
      "metadata": {
        "colab": {
          "base_uri": "https://localhost:8080/",
          "height": 295,
          "referenced_widgets": [
            "3c167882e4b943fcbe6119089fc3c9ea",
            "6d977ab856d84ce58290adc13aa2757a",
            "2d65dca38e894345ac23cfae117c0f2e",
            "5ec24cc17dbc417f93030203e214dad7",
            "07e69858c3fc416e86f134cfb5f8db6e",
            "14ca132f3166453b81472d56f33aee7a",
            "1975f7645cb047c19a69fcb2df14fb9b",
            "4d1ff5986586451fae4bd3403bdf4992",
            "96e82829455945509181e9958bc89b92",
            "8571f54e270344dba7a9b9f3d7026647",
            "1c06c7995d1b4d8eb8826a0d3bd418ad"
          ]
        },
        "id": "ohEifHNkBSvM",
        "outputId": "86917c42-35de-4b86-cc49-e666a0e86b6f"
      },
      "execution_count": null,
      "outputs": [
        {
          "output_type": "display_data",
          "data": {
            "text/plain": [
              "  0%|          | 0/5 [00:00<?, ?it/s]"
            ],
            "application/vnd.jupyter.widget-view+json": {
              "version_major": 2,
              "version_minor": 0,
              "model_id": "3c167882e4b943fcbe6119089fc3c9ea"
            }
          },
          "metadata": {}
        },
        {
          "output_type": "error",
          "ename": "AttributeError",
          "evalue": "'Tensor' object has no attribute 'model'",
          "traceback": [
            "\u001b[0;31m---------------------------------------------------------------------------\u001b[0m",
            "\u001b[0;31mAttributeError\u001b[0m                            Traceback (most recent call last)",
            "\u001b[0;32m<ipython-input-74-f127aa5a808b>\u001b[0m in \u001b[0;36m<cell line: 1>\u001b[0;34m()\u001b[0m\n\u001b[0;32m----> 1\u001b[0;31m \u001b[0mhistory_4\u001b[0m \u001b[0;34m=\u001b[0m \u001b[0mfit\u001b[0m\u001b[0;34m(\u001b[0m\u001b[0;36m5\u001b[0m\u001b[0;34m,\u001b[0m \u001b[0;36m0.001\u001b[0m\u001b[0;34m,\u001b[0m \u001b[0mmodel\u001b[0m\u001b[0;34m,\u001b[0m \u001b[0mtrain_dataloader\u001b[0m\u001b[0;34m,\u001b[0m \u001b[0mval_dataloader\u001b[0m\u001b[0;34m)\u001b[0m\u001b[0;34m\u001b[0m\u001b[0;34m\u001b[0m\u001b[0m\n\u001b[0m",
            "\u001b[0;32m<ipython-input-65-a9361fd99c8d>\u001b[0m in \u001b[0;36mfit\u001b[0;34m(epochs, lr, model, train_dataloader, val_dataloader, opt_func)\u001b[0m\n\u001b[1;32m     11\u001b[0m     \u001b[0;31m# Training phase\u001b[0m\u001b[0;34m\u001b[0m\u001b[0;34m\u001b[0m\u001b[0m\n\u001b[1;32m     12\u001b[0m     \u001b[0;32mfor\u001b[0m \u001b[0mbatch\u001b[0m \u001b[0;32min\u001b[0m \u001b[0mtrain_dataloader\u001b[0m\u001b[0;34m:\u001b[0m\u001b[0;34m\u001b[0m\u001b[0;34m\u001b[0m\u001b[0m\n\u001b[0;32m---> 13\u001b[0;31m       \u001b[0mloss\u001b[0m\u001b[0;34m.\u001b[0m\u001b[0mmodel\u001b[0m\u001b[0;34m.\u001b[0m\u001b[0mtraining_step\u001b[0m\u001b[0;34m(\u001b[0m\u001b[0mbatch\u001b[0m\u001b[0;34m)\u001b[0m\u001b[0;34m\u001b[0m\u001b[0;34m\u001b[0m\u001b[0m\n\u001b[0m\u001b[1;32m     14\u001b[0m       \u001b[0mloss\u001b[0m\u001b[0;34m.\u001b[0m\u001b[0mbackward\u001b[0m\u001b[0;34m(\u001b[0m\u001b[0;34m)\u001b[0m\u001b[0;34m\u001b[0m\u001b[0;34m\u001b[0m\u001b[0m\n\u001b[1;32m     15\u001b[0m       \u001b[0moptimizer\u001b[0m\u001b[0;34m.\u001b[0m\u001b[0mstep\u001b[0m\u001b[0;34m(\u001b[0m\u001b[0;34m)\u001b[0m\u001b[0;34m\u001b[0m\u001b[0;34m\u001b[0m\u001b[0m\n",
            "\u001b[0;31mAttributeError\u001b[0m: 'Tensor' object has no attribute 'model'"
          ]
        }
      ]
    },
    {
      "cell_type": "code",
      "source": [
        "history = [result_0] + history_1 + history_2 + history_3 + history_4\n",
        "accuracies = [result['val_acc'] for result in history]\n",
        "plt.plot(accuracies, '-x')\n",
        "plt.xlabel('epoch')\n",
        "plt.ylabel('accuracy')\n",
        "plt.title('Accuracy vs. No. of epochs');"
      ],
      "metadata": {
        "colab": {
          "base_uri": "https://localhost:8080/",
          "height": 211
        },
        "id": "S7lwm60_BUBj",
        "outputId": "e589aef0-a705-487b-e316-45435c206d9c"
      },
      "execution_count": null,
      "outputs": [
        {
          "output_type": "error",
          "ename": "NameError",
          "evalue": "name 'result_0' is not defined",
          "traceback": [
            "\u001b[0;31m---------------------------------------------------------------------------\u001b[0m",
            "\u001b[0;31mNameError\u001b[0m                                 Traceback (most recent call last)",
            "\u001b[0;32m<ipython-input-75-623e006ad5de>\u001b[0m in \u001b[0;36m<cell line: 1>\u001b[0;34m()\u001b[0m\n\u001b[0;32m----> 1\u001b[0;31m \u001b[0mhistory\u001b[0m \u001b[0;34m=\u001b[0m \u001b[0;34m[\u001b[0m\u001b[0mresult_0\u001b[0m\u001b[0;34m]\u001b[0m \u001b[0;34m+\u001b[0m \u001b[0mhistory1\u001b[0m \u001b[0;34m+\u001b[0m \u001b[0mhistory2\u001b[0m \u001b[0;34m+\u001b[0m \u001b[0mhistory3\u001b[0m \u001b[0;34m+\u001b[0m \u001b[0mhistory4\u001b[0m\u001b[0;34m\u001b[0m\u001b[0;34m\u001b[0m\u001b[0m\n\u001b[0m\u001b[1;32m      2\u001b[0m \u001b[0maccuracies\u001b[0m \u001b[0;34m=\u001b[0m \u001b[0;34m[\u001b[0m\u001b[0mresult\u001b[0m\u001b[0;34m[\u001b[0m\u001b[0;34m'val_acc'\u001b[0m\u001b[0;34m]\u001b[0m \u001b[0;32mfor\u001b[0m \u001b[0mresult\u001b[0m \u001b[0;32min\u001b[0m \u001b[0mhistory\u001b[0m\u001b[0;34m]\u001b[0m\u001b[0;34m\u001b[0m\u001b[0;34m\u001b[0m\u001b[0m\n\u001b[1;32m      3\u001b[0m \u001b[0mplt\u001b[0m\u001b[0;34m.\u001b[0m\u001b[0mplot\u001b[0m\u001b[0;34m(\u001b[0m\u001b[0maccuracies\u001b[0m\u001b[0;34m,\u001b[0m \u001b[0;34m'-x'\u001b[0m\u001b[0;34m)\u001b[0m\u001b[0;34m\u001b[0m\u001b[0;34m\u001b[0m\u001b[0m\n\u001b[1;32m      4\u001b[0m \u001b[0mplt\u001b[0m\u001b[0;34m.\u001b[0m\u001b[0mxlabel\u001b[0m\u001b[0;34m(\u001b[0m\u001b[0;34m'epoch'\u001b[0m\u001b[0;34m)\u001b[0m\u001b[0;34m\u001b[0m\u001b[0;34m\u001b[0m\u001b[0m\n\u001b[1;32m      5\u001b[0m \u001b[0mplt\u001b[0m\u001b[0;34m.\u001b[0m\u001b[0mylabel\u001b[0m\u001b[0;34m(\u001b[0m\u001b[0;34m'accuracy'\u001b[0m\u001b[0;34m)\u001b[0m\u001b[0;34m\u001b[0m\u001b[0;34m\u001b[0m\u001b[0m\n",
            "\u001b[0;31mNameError\u001b[0m: name 'result_0' is not defined"
          ]
        }
      ]
    }
  ]
}