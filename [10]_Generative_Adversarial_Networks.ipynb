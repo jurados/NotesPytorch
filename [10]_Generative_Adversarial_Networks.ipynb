{
  "cells": [
    {
      "cell_type": "markdown",
      "metadata": {
        "id": "view-in-github",
        "colab_type": "text"
      },
      "source": [
        "<a href=\"https://colab.research.google.com/github/jurados/NotesPytorch/blob/main/%5B10%5D_Generative_Adversarial_Networks.ipynb\" target=\"_parent\"><img src=\"https://colab.research.google.com/assets/colab-badge.svg\" alt=\"Open In Colab\"/></a>"
      ]
    },
    {
      "cell_type": "code",
      "execution_count": null,
      "metadata": {
        "id": "pExV9tXpDb2_"
      },
      "outputs": [],
      "source": [
        "import numpy as np\n",
        "import matplotlib.pyplot as plt\n",
        "\n",
        "import tensorflow as tf\n",
        "from tensorflow import keras"
      ]
    },
    {
      "cell_type": "markdown",
      "source": [
        "# Capítulo 14: _Generative Adversarial Networks_"
      ],
      "metadata": {
        "id": "ES56E3CAC321"
      }
    },
    {
      "cell_type": "markdown",
      "source": [
        "La base de la GAN consiste en dos modelos de redes neuronales, denominados Generador y Discriminador. La función del Generador es generar instancias de datos a partir de \"nada\", mientras que el Discriminador comprueba si los datos aleatorios son consistentes con las instancias de datos reales, y deveulve probabilidades entre 0 y 1, donde 1 indica una predicción de realidad (real) y 0 indica una falsificación (_fake_).\n"
      ],
      "metadata": {
        "id": "6-jR_IwVD4sY"
      }
    },
    {
      "cell_type": "code",
      "source": [],
      "metadata": {
        "id": "PIyW0YfWC-l6"
      },
      "execution_count": null,
      "outputs": []
    }
  ],
  "metadata": {
    "colab": {
      "collapsed_sections": [
        "cxc2SP0vyeY1",
        "yMCV_5BLyjMK",
        "A6LAsU_j-wOY",
        "TV798ygOtr8g"
      ],
      "provenance": [],
      "include_colab_link": true
    },
    "kernelspec": {
      "display_name": "Python 3",
      "name": "python3"
    },
    "language_info": {
      "codemirror_mode": {
        "name": "ipython",
        "version": 3
      },
      "file_extension": ".py",
      "mimetype": "text/x-python",
      "name": "python",
      "nbconvert_exporter": "python",
      "pygments_lexer": "ipython3",
      "version": "3.10.12"
    }
  },
  "nbformat": 4,
  "nbformat_minor": 0
}