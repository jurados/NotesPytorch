{
  "nbformat": 4,
  "nbformat_minor": 0,
  "metadata": {
    "colab": {
      "provenance": [],
      "collapsed_sections": [
        "cyhZ76VOV2yq",
        "EyMl-kNFZizU",
        "gq-N-HSLb9Ko",
        "4EU4ARXydYtQ",
        "u3UnaZwqobf7",
        "f9WEgFwTrXxl",
        "hK546GigsYnJ",
        "8R5N7RYguAVa",
        "CZw-RwyZ1gzx",
        "xLEhh_Cn2FmY",
        "xYkIal2R2bat"
      ],
      "authorship_tag": "ABX9TyOvBNf24Pa8sQU4P/g16gYd",
      "include_colab_link": true
    },
    "kernelspec": {
      "name": "python3",
      "display_name": "Python 3"
    },
    "language_info": {
      "name": "python"
    },
    "widgets": {
      "application/vnd.jupyter.widget-state+json": {
        "29971d92b1ec406494bbd0b02cea5e00": {
          "model_module": "@jupyter-widgets/controls",
          "model_name": "HBoxModel",
          "model_module_version": "1.5.0",
          "state": {
            "_dom_classes": [],
            "_model_module": "@jupyter-widgets/controls",
            "_model_module_version": "1.5.0",
            "_model_name": "HBoxModel",
            "_view_count": null,
            "_view_module": "@jupyter-widgets/controls",
            "_view_module_version": "1.5.0",
            "_view_name": "HBoxView",
            "box_style": "",
            "children": [
              "IPY_MODEL_b16c73a2ebdc4fd78e32ce6a788dde38",
              "IPY_MODEL_cc81ab3d02ae48a881b6fb9dccbf0945",
              "IPY_MODEL_31277cc389054d53960f491988fdc2e7"
            ],
            "layout": "IPY_MODEL_63ba163d362c40f3a67f18c1b0f0db54"
          }
        },
        "b16c73a2ebdc4fd78e32ce6a788dde38": {
          "model_module": "@jupyter-widgets/controls",
          "model_name": "HTMLModel",
          "model_module_version": "1.5.0",
          "state": {
            "_dom_classes": [],
            "_model_module": "@jupyter-widgets/controls",
            "_model_module_version": "1.5.0",
            "_model_name": "HTMLModel",
            "_view_count": null,
            "_view_module": "@jupyter-widgets/controls",
            "_view_module_version": "1.5.0",
            "_view_name": "HTMLView",
            "description": "",
            "description_tooltip": null,
            "layout": "IPY_MODEL_8aff77f8c060405c8dd57f1e2558b618",
            "placeholder": "​",
            "style": "IPY_MODEL_7e612e218559467bb6317d106263ede0",
            "value": "100%"
          }
        },
        "cc81ab3d02ae48a881b6fb9dccbf0945": {
          "model_module": "@jupyter-widgets/controls",
          "model_name": "FloatProgressModel",
          "model_module_version": "1.5.0",
          "state": {
            "_dom_classes": [],
            "_model_module": "@jupyter-widgets/controls",
            "_model_module_version": "1.5.0",
            "_model_name": "FloatProgressModel",
            "_view_count": null,
            "_view_module": "@jupyter-widgets/controls",
            "_view_module_version": "1.5.0",
            "_view_name": "ProgressView",
            "bar_style": "success",
            "description": "",
            "description_tooltip": null,
            "layout": "IPY_MODEL_1ca43fca10e041cda6973fe11ced8427",
            "max": 100,
            "min": 0,
            "orientation": "horizontal",
            "style": "IPY_MODEL_417c57a8d14c4c0fabf6fb58c88259d6",
            "value": 100
          }
        },
        "31277cc389054d53960f491988fdc2e7": {
          "model_module": "@jupyter-widgets/controls",
          "model_name": "HTMLModel",
          "model_module_version": "1.5.0",
          "state": {
            "_dom_classes": [],
            "_model_module": "@jupyter-widgets/controls",
            "_model_module_version": "1.5.0",
            "_model_name": "HTMLModel",
            "_view_count": null,
            "_view_module": "@jupyter-widgets/controls",
            "_view_module_version": "1.5.0",
            "_view_name": "HTMLView",
            "description": "",
            "description_tooltip": null,
            "layout": "IPY_MODEL_91e5f1648c994b308aa443864adae0e5",
            "placeholder": "​",
            "style": "IPY_MODEL_202295973dcc4116a3fd297491cd5928",
            "value": " 100/100 [00:00&lt;00:00, 598.82it/s]"
          }
        },
        "63ba163d362c40f3a67f18c1b0f0db54": {
          "model_module": "@jupyter-widgets/base",
          "model_name": "LayoutModel",
          "model_module_version": "1.2.0",
          "state": {
            "_model_module": "@jupyter-widgets/base",
            "_model_module_version": "1.2.0",
            "_model_name": "LayoutModel",
            "_view_count": null,
            "_view_module": "@jupyter-widgets/base",
            "_view_module_version": "1.2.0",
            "_view_name": "LayoutView",
            "align_content": null,
            "align_items": null,
            "align_self": null,
            "border": null,
            "bottom": null,
            "display": null,
            "flex": null,
            "flex_flow": null,
            "grid_area": null,
            "grid_auto_columns": null,
            "grid_auto_flow": null,
            "grid_auto_rows": null,
            "grid_column": null,
            "grid_gap": null,
            "grid_row": null,
            "grid_template_areas": null,
            "grid_template_columns": null,
            "grid_template_rows": null,
            "height": null,
            "justify_content": null,
            "justify_items": null,
            "left": null,
            "margin": null,
            "max_height": null,
            "max_width": null,
            "min_height": null,
            "min_width": null,
            "object_fit": null,
            "object_position": null,
            "order": null,
            "overflow": null,
            "overflow_x": null,
            "overflow_y": null,
            "padding": null,
            "right": null,
            "top": null,
            "visibility": null,
            "width": null
          }
        },
        "8aff77f8c060405c8dd57f1e2558b618": {
          "model_module": "@jupyter-widgets/base",
          "model_name": "LayoutModel",
          "model_module_version": "1.2.0",
          "state": {
            "_model_module": "@jupyter-widgets/base",
            "_model_module_version": "1.2.0",
            "_model_name": "LayoutModel",
            "_view_count": null,
            "_view_module": "@jupyter-widgets/base",
            "_view_module_version": "1.2.0",
            "_view_name": "LayoutView",
            "align_content": null,
            "align_items": null,
            "align_self": null,
            "border": null,
            "bottom": null,
            "display": null,
            "flex": null,
            "flex_flow": null,
            "grid_area": null,
            "grid_auto_columns": null,
            "grid_auto_flow": null,
            "grid_auto_rows": null,
            "grid_column": null,
            "grid_gap": null,
            "grid_row": null,
            "grid_template_areas": null,
            "grid_template_columns": null,
            "grid_template_rows": null,
            "height": null,
            "justify_content": null,
            "justify_items": null,
            "left": null,
            "margin": null,
            "max_height": null,
            "max_width": null,
            "min_height": null,
            "min_width": null,
            "object_fit": null,
            "object_position": null,
            "order": null,
            "overflow": null,
            "overflow_x": null,
            "overflow_y": null,
            "padding": null,
            "right": null,
            "top": null,
            "visibility": null,
            "width": null
          }
        },
        "7e612e218559467bb6317d106263ede0": {
          "model_module": "@jupyter-widgets/controls",
          "model_name": "DescriptionStyleModel",
          "model_module_version": "1.5.0",
          "state": {
            "_model_module": "@jupyter-widgets/controls",
            "_model_module_version": "1.5.0",
            "_model_name": "DescriptionStyleModel",
            "_view_count": null,
            "_view_module": "@jupyter-widgets/base",
            "_view_module_version": "1.2.0",
            "_view_name": "StyleView",
            "description_width": ""
          }
        },
        "1ca43fca10e041cda6973fe11ced8427": {
          "model_module": "@jupyter-widgets/base",
          "model_name": "LayoutModel",
          "model_module_version": "1.2.0",
          "state": {
            "_model_module": "@jupyter-widgets/base",
            "_model_module_version": "1.2.0",
            "_model_name": "LayoutModel",
            "_view_count": null,
            "_view_module": "@jupyter-widgets/base",
            "_view_module_version": "1.2.0",
            "_view_name": "LayoutView",
            "align_content": null,
            "align_items": null,
            "align_self": null,
            "border": null,
            "bottom": null,
            "display": null,
            "flex": null,
            "flex_flow": null,
            "grid_area": null,
            "grid_auto_columns": null,
            "grid_auto_flow": null,
            "grid_auto_rows": null,
            "grid_column": null,
            "grid_gap": null,
            "grid_row": null,
            "grid_template_areas": null,
            "grid_template_columns": null,
            "grid_template_rows": null,
            "height": null,
            "justify_content": null,
            "justify_items": null,
            "left": null,
            "margin": null,
            "max_height": null,
            "max_width": null,
            "min_height": null,
            "min_width": null,
            "object_fit": null,
            "object_position": null,
            "order": null,
            "overflow": null,
            "overflow_x": null,
            "overflow_y": null,
            "padding": null,
            "right": null,
            "top": null,
            "visibility": null,
            "width": null
          }
        },
        "417c57a8d14c4c0fabf6fb58c88259d6": {
          "model_module": "@jupyter-widgets/controls",
          "model_name": "ProgressStyleModel",
          "model_module_version": "1.5.0",
          "state": {
            "_model_module": "@jupyter-widgets/controls",
            "_model_module_version": "1.5.0",
            "_model_name": "ProgressStyleModel",
            "_view_count": null,
            "_view_module": "@jupyter-widgets/base",
            "_view_module_version": "1.2.0",
            "_view_name": "StyleView",
            "bar_color": null,
            "description_width": ""
          }
        },
        "91e5f1648c994b308aa443864adae0e5": {
          "model_module": "@jupyter-widgets/base",
          "model_name": "LayoutModel",
          "model_module_version": "1.2.0",
          "state": {
            "_model_module": "@jupyter-widgets/base",
            "_model_module_version": "1.2.0",
            "_model_name": "LayoutModel",
            "_view_count": null,
            "_view_module": "@jupyter-widgets/base",
            "_view_module_version": "1.2.0",
            "_view_name": "LayoutView",
            "align_content": null,
            "align_items": null,
            "align_self": null,
            "border": null,
            "bottom": null,
            "display": null,
            "flex": null,
            "flex_flow": null,
            "grid_area": null,
            "grid_auto_columns": null,
            "grid_auto_flow": null,
            "grid_auto_rows": null,
            "grid_column": null,
            "grid_gap": null,
            "grid_row": null,
            "grid_template_areas": null,
            "grid_template_columns": null,
            "grid_template_rows": null,
            "height": null,
            "justify_content": null,
            "justify_items": null,
            "left": null,
            "margin": null,
            "max_height": null,
            "max_width": null,
            "min_height": null,
            "min_width": null,
            "object_fit": null,
            "object_position": null,
            "order": null,
            "overflow": null,
            "overflow_x": null,
            "overflow_y": null,
            "padding": null,
            "right": null,
            "top": null,
            "visibility": null,
            "width": null
          }
        },
        "202295973dcc4116a3fd297491cd5928": {
          "model_module": "@jupyter-widgets/controls",
          "model_name": "DescriptionStyleModel",
          "model_module_version": "1.5.0",
          "state": {
            "_model_module": "@jupyter-widgets/controls",
            "_model_module_version": "1.5.0",
            "_model_name": "DescriptionStyleModel",
            "_view_count": null,
            "_view_module": "@jupyter-widgets/base",
            "_view_module_version": "1.2.0",
            "_view_name": "StyleView",
            "description_width": ""
          }
        },
        "987b39adae0741e38d75d2936d0a1d1a": {
          "model_module": "@jupyter-widgets/controls",
          "model_name": "HBoxModel",
          "model_module_version": "1.5.0",
          "state": {
            "_dom_classes": [],
            "_model_module": "@jupyter-widgets/controls",
            "_model_module_version": "1.5.0",
            "_model_name": "HBoxModel",
            "_view_count": null,
            "_view_module": "@jupyter-widgets/controls",
            "_view_module_version": "1.5.0",
            "_view_name": "HBoxView",
            "box_style": "",
            "children": [
              "IPY_MODEL_e6a1d2c0f825413488cc95f904bbce64",
              "IPY_MODEL_fd5919fc1abe4dec98dc6c7802ba6772",
              "IPY_MODEL_4844acdf7e1f421d86f11631f09b9a33"
            ],
            "layout": "IPY_MODEL_381bd99263a149d2a01d058fd9fb9a37"
          }
        },
        "e6a1d2c0f825413488cc95f904bbce64": {
          "model_module": "@jupyter-widgets/controls",
          "model_name": "HTMLModel",
          "model_module_version": "1.5.0",
          "state": {
            "_dom_classes": [],
            "_model_module": "@jupyter-widgets/controls",
            "_model_module_version": "1.5.0",
            "_model_name": "HTMLModel",
            "_view_count": null,
            "_view_module": "@jupyter-widgets/controls",
            "_view_module_version": "1.5.0",
            "_view_name": "HTMLView",
            "description": "",
            "description_tooltip": null,
            "layout": "IPY_MODEL_5e397dfed77f48209aee97173626fcd4",
            "placeholder": "​",
            "style": "IPY_MODEL_8a074821324a4803a197aca53c89528e",
            "value": "100%"
          }
        },
        "fd5919fc1abe4dec98dc6c7802ba6772": {
          "model_module": "@jupyter-widgets/controls",
          "model_name": "FloatProgressModel",
          "model_module_version": "1.5.0",
          "state": {
            "_dom_classes": [],
            "_model_module": "@jupyter-widgets/controls",
            "_model_module_version": "1.5.0",
            "_model_name": "FloatProgressModel",
            "_view_count": null,
            "_view_module": "@jupyter-widgets/controls",
            "_view_module_version": "1.5.0",
            "_view_name": "ProgressView",
            "bar_style": "success",
            "description": "",
            "description_tooltip": null,
            "layout": "IPY_MODEL_76d438fd4b8244c59532353f5637e0f4",
            "max": 100,
            "min": 0,
            "orientation": "horizontal",
            "style": "IPY_MODEL_2b8961ead25a4d2c97579e5f1238204f",
            "value": 100
          }
        },
        "4844acdf7e1f421d86f11631f09b9a33": {
          "model_module": "@jupyter-widgets/controls",
          "model_name": "HTMLModel",
          "model_module_version": "1.5.0",
          "state": {
            "_dom_classes": [],
            "_model_module": "@jupyter-widgets/controls",
            "_model_module_version": "1.5.0",
            "_model_name": "HTMLModel",
            "_view_count": null,
            "_view_module": "@jupyter-widgets/controls",
            "_view_module_version": "1.5.0",
            "_view_name": "HTMLView",
            "description": "",
            "description_tooltip": null,
            "layout": "IPY_MODEL_a6c5a463d8bd42cca26ac71c8be6255a",
            "placeholder": "​",
            "style": "IPY_MODEL_54ac419e6fad4fe0abd4590a72dfe16b",
            "value": " 100/100 [00:00&lt;00:00, 352.40it/s]"
          }
        },
        "381bd99263a149d2a01d058fd9fb9a37": {
          "model_module": "@jupyter-widgets/base",
          "model_name": "LayoutModel",
          "model_module_version": "1.2.0",
          "state": {
            "_model_module": "@jupyter-widgets/base",
            "_model_module_version": "1.2.0",
            "_model_name": "LayoutModel",
            "_view_count": null,
            "_view_module": "@jupyter-widgets/base",
            "_view_module_version": "1.2.0",
            "_view_name": "LayoutView",
            "align_content": null,
            "align_items": null,
            "align_self": null,
            "border": null,
            "bottom": null,
            "display": null,
            "flex": null,
            "flex_flow": null,
            "grid_area": null,
            "grid_auto_columns": null,
            "grid_auto_flow": null,
            "grid_auto_rows": null,
            "grid_column": null,
            "grid_gap": null,
            "grid_row": null,
            "grid_template_areas": null,
            "grid_template_columns": null,
            "grid_template_rows": null,
            "height": null,
            "justify_content": null,
            "justify_items": null,
            "left": null,
            "margin": null,
            "max_height": null,
            "max_width": null,
            "min_height": null,
            "min_width": null,
            "object_fit": null,
            "object_position": null,
            "order": null,
            "overflow": null,
            "overflow_x": null,
            "overflow_y": null,
            "padding": null,
            "right": null,
            "top": null,
            "visibility": null,
            "width": null
          }
        },
        "5e397dfed77f48209aee97173626fcd4": {
          "model_module": "@jupyter-widgets/base",
          "model_name": "LayoutModel",
          "model_module_version": "1.2.0",
          "state": {
            "_model_module": "@jupyter-widgets/base",
            "_model_module_version": "1.2.0",
            "_model_name": "LayoutModel",
            "_view_count": null,
            "_view_module": "@jupyter-widgets/base",
            "_view_module_version": "1.2.0",
            "_view_name": "LayoutView",
            "align_content": null,
            "align_items": null,
            "align_self": null,
            "border": null,
            "bottom": null,
            "display": null,
            "flex": null,
            "flex_flow": null,
            "grid_area": null,
            "grid_auto_columns": null,
            "grid_auto_flow": null,
            "grid_auto_rows": null,
            "grid_column": null,
            "grid_gap": null,
            "grid_row": null,
            "grid_template_areas": null,
            "grid_template_columns": null,
            "grid_template_rows": null,
            "height": null,
            "justify_content": null,
            "justify_items": null,
            "left": null,
            "margin": null,
            "max_height": null,
            "max_width": null,
            "min_height": null,
            "min_width": null,
            "object_fit": null,
            "object_position": null,
            "order": null,
            "overflow": null,
            "overflow_x": null,
            "overflow_y": null,
            "padding": null,
            "right": null,
            "top": null,
            "visibility": null,
            "width": null
          }
        },
        "8a074821324a4803a197aca53c89528e": {
          "model_module": "@jupyter-widgets/controls",
          "model_name": "DescriptionStyleModel",
          "model_module_version": "1.5.0",
          "state": {
            "_model_module": "@jupyter-widgets/controls",
            "_model_module_version": "1.5.0",
            "_model_name": "DescriptionStyleModel",
            "_view_count": null,
            "_view_module": "@jupyter-widgets/base",
            "_view_module_version": "1.2.0",
            "_view_name": "StyleView",
            "description_width": ""
          }
        },
        "76d438fd4b8244c59532353f5637e0f4": {
          "model_module": "@jupyter-widgets/base",
          "model_name": "LayoutModel",
          "model_module_version": "1.2.0",
          "state": {
            "_model_module": "@jupyter-widgets/base",
            "_model_module_version": "1.2.0",
            "_model_name": "LayoutModel",
            "_view_count": null,
            "_view_module": "@jupyter-widgets/base",
            "_view_module_version": "1.2.0",
            "_view_name": "LayoutView",
            "align_content": null,
            "align_items": null,
            "align_self": null,
            "border": null,
            "bottom": null,
            "display": null,
            "flex": null,
            "flex_flow": null,
            "grid_area": null,
            "grid_auto_columns": null,
            "grid_auto_flow": null,
            "grid_auto_rows": null,
            "grid_column": null,
            "grid_gap": null,
            "grid_row": null,
            "grid_template_areas": null,
            "grid_template_columns": null,
            "grid_template_rows": null,
            "height": null,
            "justify_content": null,
            "justify_items": null,
            "left": null,
            "margin": null,
            "max_height": null,
            "max_width": null,
            "min_height": null,
            "min_width": null,
            "object_fit": null,
            "object_position": null,
            "order": null,
            "overflow": null,
            "overflow_x": null,
            "overflow_y": null,
            "padding": null,
            "right": null,
            "top": null,
            "visibility": null,
            "width": null
          }
        },
        "2b8961ead25a4d2c97579e5f1238204f": {
          "model_module": "@jupyter-widgets/controls",
          "model_name": "ProgressStyleModel",
          "model_module_version": "1.5.0",
          "state": {
            "_model_module": "@jupyter-widgets/controls",
            "_model_module_version": "1.5.0",
            "_model_name": "ProgressStyleModel",
            "_view_count": null,
            "_view_module": "@jupyter-widgets/base",
            "_view_module_version": "1.2.0",
            "_view_name": "StyleView",
            "bar_color": null,
            "description_width": ""
          }
        },
        "a6c5a463d8bd42cca26ac71c8be6255a": {
          "model_module": "@jupyter-widgets/base",
          "model_name": "LayoutModel",
          "model_module_version": "1.2.0",
          "state": {
            "_model_module": "@jupyter-widgets/base",
            "_model_module_version": "1.2.0",
            "_model_name": "LayoutModel",
            "_view_count": null,
            "_view_module": "@jupyter-widgets/base",
            "_view_module_version": "1.2.0",
            "_view_name": "LayoutView",
            "align_content": null,
            "align_items": null,
            "align_self": null,
            "border": null,
            "bottom": null,
            "display": null,
            "flex": null,
            "flex_flow": null,
            "grid_area": null,
            "grid_auto_columns": null,
            "grid_auto_flow": null,
            "grid_auto_rows": null,
            "grid_column": null,
            "grid_gap": null,
            "grid_row": null,
            "grid_template_areas": null,
            "grid_template_columns": null,
            "grid_template_rows": null,
            "height": null,
            "justify_content": null,
            "justify_items": null,
            "left": null,
            "margin": null,
            "max_height": null,
            "max_width": null,
            "min_height": null,
            "min_width": null,
            "object_fit": null,
            "object_position": null,
            "order": null,
            "overflow": null,
            "overflow_x": null,
            "overflow_y": null,
            "padding": null,
            "right": null,
            "top": null,
            "visibility": null,
            "width": null
          }
        },
        "54ac419e6fad4fe0abd4590a72dfe16b": {
          "model_module": "@jupyter-widgets/controls",
          "model_name": "DescriptionStyleModel",
          "model_module_version": "1.5.0",
          "state": {
            "_model_module": "@jupyter-widgets/controls",
            "_model_module_version": "1.5.0",
            "_model_name": "DescriptionStyleModel",
            "_view_count": null,
            "_view_module": "@jupyter-widgets/base",
            "_view_module_version": "1.2.0",
            "_view_name": "StyleView",
            "description_width": ""
          }
        }
      }
    }
  },
  "cells": [
    {
      "cell_type": "markdown",
      "metadata": {
        "id": "view-in-github",
        "colab_type": "text"
      },
      "source": [
        "<a href=\"https://colab.research.google.com/github/jurados/NotesPytorch/blob/main/%5B02%5D_Linear_Regression_with_PyTorch.ipynb\" target=\"_parent\"><img src=\"https://colab.research.google.com/assets/colab-badge.svg\" alt=\"Open In Colab\"/></a>"
      ]
    },
    {
      "cell_type": "markdown",
      "source": [
        "https://www.youtube.com/watch?v=vo_fUOk-IKk&list=PLWKjhJtqVAbm3T2Eq1_KgloC7ogdXxdRa"
      ],
      "metadata": {
        "id": "cUmih5QLDsyV"
      }
    },
    {
      "cell_type": "markdown",
      "source": [
        "# 02 Linear Regression with PyTorch\n",
        "\n",
        "|Region|Temp. (F)|Reinfall (mm)|Humidity (%)|Apples (ton)|Oranges (ton)|\n",
        "|------|:------:|:------------:|:----------:|:----------:|:-----------:|\n",
        "|Kanto |73      |67            |43          |56          |70           |  \n",
        "|Johto |91      |88            |64          |81          |101          |  \n",
        "|Hoenn |87      |134           |58          |119         |133          |  \n",
        "|Sinnoh|102     |43            |37          |22          |37           |  \n",
        "|Unova |69      |96            |70          |103         |119          |  \n"
      ],
      "metadata": {
        "id": "cyhZ76VOV2yq"
      }
    },
    {
      "cell_type": "code",
      "source": [
        "# Inputs (temp, rainfall, humidity)\n",
        "inputs = np.array([[73,67,43],\n",
        "                   [91,88,64],\n",
        "                   [87,134,58],\n",
        "                   [102,43,37],\n",
        "                   [69,96,40]], dtype='float32')"
      ],
      "metadata": {
        "id": "OlLIxsRsV5XR"
      },
      "execution_count": null,
      "outputs": []
    },
    {
      "cell_type": "code",
      "source": [
        "# Targets (temp, rainfall, humidity)\n",
        "targets = np.array([[56,70],\n",
        "                   [81,101],\n",
        "                   [119,133],\n",
        "                   [22,37],\n",
        "                   [103,119]], dtype='float32')"
      ],
      "metadata": {
        "id": "1BnV161UX299"
      },
      "execution_count": null,
      "outputs": []
    },
    {
      "cell_type": "code",
      "source": [
        "# Convert inputs and targets to tensors\n",
        "inputs = torch.from_numpy(inputs)\n",
        "targets = torch.from_numpy(targets)\n",
        "inputs, targets"
      ],
      "metadata": {
        "colab": {
          "base_uri": "https://localhost:8080/"
        },
        "id": "iGNVWCjkbjz-",
        "outputId": "24a10e3f-1b97-424d-fb70-663ed0c7f9a7"
      },
      "execution_count": null,
      "outputs": [
        {
          "output_type": "execute_result",
          "data": {
            "text/plain": [
              "(tensor([[ 73.,  67.,  43.],\n",
              "         [ 91.,  88.,  64.],\n",
              "         [ 87., 134.,  58.],\n",
              "         [102.,  43.,  37.],\n",
              "         [ 69.,  96.,  40.]]),\n",
              " tensor([[ 56.,  70.],\n",
              "         [ 81., 101.],\n",
              "         [119., 133.],\n",
              "         [ 22.,  37.],\n",
              "         [103., 119.]]))"
            ]
          },
          "metadata": {},
          "execution_count": 32
        }
      ]
    },
    {
      "cell_type": "markdown",
      "source": [
        "## 2.1 Linear regression model from scratch\n",
        "\n",
        "The weights and biases (`w11`,`w12`,$\\cdots$ `w23`, `b1` and `b2`) can also be represented as matrices, initialized as random values."
      ],
      "metadata": {
        "id": "EyMl-kNFZizU"
      }
    },
    {
      "cell_type": "code",
      "source": [
        "# Weights and biases\n",
        "W = torch.rand(2,3, requires_grad=True)\n",
        "b = torch.rand(2,requires_grad=True)\n",
        "print(f'Weights:\\n{W}')\n",
        "print(f\"Biases:\\n{b}\")"
      ],
      "metadata": {
        "colab": {
          "base_uri": "https://localhost:8080/"
        },
        "id": "HZhY7fs-YPrX",
        "outputId": "7446794a-3517-466c-94c1-ac77f6077f35"
      },
      "execution_count": null,
      "outputs": [
        {
          "output_type": "stream",
          "name": "stdout",
          "text": [
            "Weights:\n",
            "tensor([[0.5785, 0.8296, 0.1514],\n",
            "        [0.1127, 0.5120, 0.2324]], requires_grad=True)\n",
            "Biases:\n",
            "tensor([0.3732, 0.3643], requires_grad=True)\n"
          ]
        }
      ]
    },
    {
      "cell_type": "markdown",
      "source": [
        "We can define the model as follows:"
      ],
      "metadata": {
        "id": "QZlOF90ea0yX"
      }
    },
    {
      "cell_type": "code",
      "source": [
        "model = lambda X: X @ W.t() + b"
      ],
      "metadata": {
        "id": "t6JjANT6aqv2"
      },
      "execution_count": null,
      "outputs": []
    },
    {
      "cell_type": "code",
      "source": [
        "# Generate predictions\n",
        "preds = model(inputs)\n",
        "preds"
      ],
      "metadata": {
        "colab": {
          "base_uri": "https://localhost:8080/"
        },
        "id": "0coitp7Ua8WD",
        "outputId": "a31c7273-7e4f-47a3-d45f-d7ea94452106"
      },
      "execution_count": null,
      "outputs": [
        {
          "output_type": "execute_result",
          "data": {
            "text/plain": [
              "tensor([[104.6970,  52.8924],\n",
              "        [135.7107,  70.5547],\n",
              "        [170.6506,  92.2628],\n",
              "        [100.6550,  42.4778],\n",
              "        [125.9877,  66.5932]], grad_fn=<AddBackward0>)"
            ]
          },
          "metadata": {},
          "execution_count": 55
        }
      ]
    },
    {
      "cell_type": "code",
      "source": [
        "# Compare with targets\n",
        "targets"
      ],
      "metadata": {
        "colab": {
          "base_uri": "https://localhost:8080/"
        },
        "id": "IyeAnfdMbat2",
        "outputId": "53c10d92-06a8-4f17-e55b-7f096bad0542"
      },
      "execution_count": null,
      "outputs": [
        {
          "output_type": "execute_result",
          "data": {
            "text/plain": [
              "tensor([[ 56.,  70.],\n",
              "        [ 81., 101.],\n",
              "        [119., 133.],\n",
              "        [ 22.,  37.],\n",
              "        [103., 119.]])"
            ]
          },
          "metadata": {},
          "execution_count": 56
        }
      ]
    },
    {
      "cell_type": "markdown",
      "source": [
        "## 2.2 Loss function\n",
        "We can compare the model's predictions with the actual targets, using the following method:\n",
        "- Calculate the difference between the two matrices(`preds` and `targets`).\n",
        "- Square all elements of the difference matrix to remove negative values.\n",
        "- Calculate the average of the elements in the resulting matrix.\n",
        "\n",
        "\n",
        "The result is a single number, known as the **Mean Squared Error** (MSE)."
      ],
      "metadata": {
        "id": "gq-N-HSLb9Ko"
      }
    },
    {
      "cell_type": "code",
      "source": [
        "# MSE loss\n",
        "def mse(t1,t2):\n",
        "  diff = t1 - t2\n",
        "  return torch.sum(diff*diff)/diff.numel()"
      ],
      "metadata": {
        "id": "t5LhjGw9b5rJ"
      },
      "execution_count": null,
      "outputs": []
    },
    {
      "cell_type": "markdown",
      "source": [
        "`torch.sum` return the sum of all the elements in a tensor, and the  `.numel` method return the number of elements in a tensor."
      ],
      "metadata": {
        "id": "FAxkZkY0crMr"
      }
    },
    {
      "cell_type": "code",
      "source": [
        "loss = mse(preds, targets)\n",
        "loss"
      ],
      "metadata": {
        "colab": {
          "base_uri": "https://localhost:8080/"
        },
        "id": "ZCOzkKAscqoq",
        "outputId": "f34467dd-4be8-48cc-955f-26b1f559bee4"
      },
      "execution_count": null,
      "outputs": [
        {
          "output_type": "execute_result",
          "data": {
            "text/plain": [
              "tensor(2040.3079, grad_fn=<DivBackward0>)"
            ]
          },
          "metadata": {},
          "execution_count": 58
        }
      ]
    },
    {
      "cell_type": "markdown",
      "source": [
        "## 2.3 Compute gradients"
      ],
      "metadata": {
        "id": "4EU4ARXydYtQ"
      }
    },
    {
      "cell_type": "code",
      "source": [
        "# Compute gradients\n",
        "loss.backward()"
      ],
      "metadata": {
        "id": "0-P-v95UdGIa"
      },
      "execution_count": null,
      "outputs": []
    },
    {
      "cell_type": "code",
      "source": [
        "# Gradients for weights\n",
        "print(W)\n",
        "print(W.grad)"
      ],
      "metadata": {
        "colab": {
          "base_uri": "https://localhost:8080/"
        },
        "id": "MeC4XEPodeYg",
        "outputId": "9bb60d1e-c017-4ea2-9734-d1083ce7fa9b"
      },
      "execution_count": null,
      "outputs": [
        {
          "output_type": "stream",
          "name": "stdout",
          "text": [
            "tensor([[0.5785, 0.8296, 0.1514],\n",
            "        [0.1127, 0.5120, 0.2324]], requires_grad=True)\n",
            "tensor([[ 4527.2246,  4117.4814,  2484.1870],\n",
            "        [-2124.1692, -2815.9377, -1388.0955]])\n"
          ]
        }
      ]
    },
    {
      "cell_type": "markdown",
      "source": [
        "We reset the greadients to zero by calling `.zero_()` method. We need to do this, because PyTorch accumulates, gradient i.e. the next times we call `.backward` on the loss the new gradient vfalues will get added to the existing gradient values, which may lead to unexpected results."
      ],
      "metadata": {
        "id": "dhHQjQewfBRV"
      }
    },
    {
      "cell_type": "code",
      "source": [
        "W.grad.zero_()\n",
        "b.grad.zero_()\n",
        "W.grad, b.grad"
      ],
      "metadata": {
        "colab": {
          "base_uri": "https://localhost:8080/"
        },
        "id": "VG5kF1zedh3P",
        "outputId": "b19f56e7-74fa-45c2-966d-325c94493654"
      },
      "execution_count": null,
      "outputs": [
        {
          "output_type": "execute_result",
          "data": {
            "text/plain": [
              "(tensor([[0., 0., 0.],\n",
              "         [0., 0., 0.]]),\n",
              " tensor([0., 0.]))"
            ]
          },
          "metadata": {},
          "execution_count": 63
        }
      ]
    },
    {
      "cell_type": "markdown",
      "source": [
        "## 2.4 Adjust weights and biases using gradient descent\n",
        "We'll reduce the loss and improve our model using the gradient descent optimization algorithm, which has the following steps.\n",
        "\n",
        "1. Generate predictions.\n",
        "2. Calculate the loss.\n",
        "3. Compute gradients, the weight and biases.\n",
        "4. Adjust the weights by sustracting a small quantity proportional to the gradient.\n",
        "5. Reset the gradietns to zero."
      ],
      "metadata": {
        "id": "u3UnaZwqobf7"
      }
    },
    {
      "cell_type": "code",
      "source": [
        "# Generate predictions\n",
        "preds = model(inputs)\n",
        "preds"
      ],
      "metadata": {
        "colab": {
          "base_uri": "https://localhost:8080/"
        },
        "id": "hpb0Lmo_fUsr",
        "outputId": "f99f7442-8c21-4e58-f309-0c03d65c99e5"
      },
      "execution_count": null,
      "outputs": [
        {
          "output_type": "execute_result",
          "data": {
            "text/plain": [
              "tensor([[104.6970,  52.8924],\n",
              "        [135.7107,  70.5547],\n",
              "        [170.6506,  92.2628],\n",
              "        [100.6550,  42.4778],\n",
              "        [125.9877,  66.5932]], grad_fn=<AddBackward0>)"
            ]
          },
          "metadata": {},
          "execution_count": 66
        }
      ]
    },
    {
      "cell_type": "code",
      "source": [
        "# Calculate the loss\n",
        "loss = mse(preds, targets)\n",
        "loss"
      ],
      "metadata": {
        "colab": {
          "base_uri": "https://localhost:8080/"
        },
        "id": "nX8ZhG1XqAkJ",
        "outputId": "187f79d1-10de-4dee-f321-c007c8258ff9"
      },
      "execution_count": null,
      "outputs": [
        {
          "output_type": "execute_result",
          "data": {
            "text/plain": [
              "tensor(2040.3079, grad_fn=<DivBackward0>)"
            ]
          },
          "metadata": {},
          "execution_count": 65
        }
      ]
    },
    {
      "cell_type": "code",
      "source": [
        "# Compute gradients\n",
        "loss.backward()\n",
        "W.grad, b.grad"
      ],
      "metadata": {
        "colab": {
          "base_uri": "https://localhost:8080/"
        },
        "id": "W7KegwklqCrB",
        "outputId": "08244128-736a-48ed-e6bb-0e4d4b111bda"
      },
      "execution_count": null,
      "outputs": [
        {
          "output_type": "execute_result",
          "data": {
            "text/plain": [
              "(tensor([[ 4527.2246,  4117.4814,  2484.1870],\n",
              "         [-2124.1692, -2815.9377, -1388.0955]]),\n",
              " tensor([ 51.3402, -27.0438]))"
            ]
          },
          "metadata": {},
          "execution_count": 67
        }
      ]
    },
    {
      "cell_type": "markdown",
      "source": [
        "Finally, we update the weights and biases using the gradietn computed above"
      ],
      "metadata": {
        "id": "9fWTIzs-qQ9S"
      }
    },
    {
      "cell_type": "code",
      "source": [
        "# Ajust weights and reset gradients\n",
        "with torch.inference_mode(): # We use this to indicate to PyTorch tath we shouldn't track, calculate or modify gradients while updating the weights and biases\n",
        "  W -= W.grad * 1e-5 # We multiplly the gradietns with a really small number (1e-5), to ensure that we don't modify the weights by a really large mount\n",
        "  b -= b.grad * 1e-5\n",
        "  W.grad.zero_()\n",
        "  b.grad.zero_()"
      ],
      "metadata": {
        "id": "CgrzHhwgqNhV"
      },
      "execution_count": null,
      "outputs": []
    },
    {
      "cell_type": "code",
      "source": [
        "W, b"
      ],
      "metadata": {
        "colab": {
          "base_uri": "https://localhost:8080/"
        },
        "id": "RJOtANJKrO9e",
        "outputId": "32dcf3c2-ecab-4150-d725-019fbad3e432"
      },
      "execution_count": null,
      "outputs": [
        {
          "output_type": "execute_result",
          "data": {
            "text/plain": [
              "(tensor([[0.5785, 0.8296, 0.1514],\n",
              "         [0.1127, 0.5120, 0.2324]], requires_grad=True),\n",
              " tensor([0.3732, 0.3643], requires_grad=True))"
            ]
          },
          "metadata": {},
          "execution_count": 68
        }
      ]
    },
    {
      "cell_type": "code",
      "source": [
        "# Calculate the loss\n",
        "loss = mse(preds, targets)\n",
        "loss"
      ],
      "metadata": {
        "colab": {
          "base_uri": "https://localhost:8080/"
        },
        "id": "7gDxqlc6rPzY",
        "outputId": "9695794a-9f8d-4bd8-9991-7936dff9b897"
      },
      "execution_count": null,
      "outputs": [
        {
          "output_type": "execute_result",
          "data": {
            "text/plain": [
              "tensor(2040.3079, grad_fn=<DivBackward0>)"
            ]
          },
          "metadata": {},
          "execution_count": 69
        }
      ]
    },
    {
      "cell_type": "markdown",
      "source": [
        "## 2.5 Train for multiple epochs"
      ],
      "metadata": {
        "id": "f9WEgFwTrXxl"
      }
    },
    {
      "cell_type": "code",
      "source": [
        "# Train for 100 epochs:\n",
        "for i in tqdm(range(100)):\n",
        "  preds = model(inputs)\n",
        "  loss = mse(preds, targets)\n",
        "  loss.backward()\n",
        "\n",
        "  with torch.no_grad():\n",
        "    W -= W.grad * 1e-5\n",
        "    b -= b.grad * 1e-5\n",
        "    W.grad.zero_()\n",
        "    b.grad.zero_()"
      ],
      "metadata": {
        "colab": {
          "base_uri": "https://localhost:8080/",
          "height": 49,
          "referenced_widgets": [
            "29971d92b1ec406494bbd0b02cea5e00",
            "b16c73a2ebdc4fd78e32ce6a788dde38",
            "cc81ab3d02ae48a881b6fb9dccbf0945",
            "31277cc389054d53960f491988fdc2e7",
            "63ba163d362c40f3a67f18c1b0f0db54",
            "8aff77f8c060405c8dd57f1e2558b618",
            "7e612e218559467bb6317d106263ede0",
            "1ca43fca10e041cda6973fe11ced8427",
            "417c57a8d14c4c0fabf6fb58c88259d6",
            "91e5f1648c994b308aa443864adae0e5",
            "202295973dcc4116a3fd297491cd5928"
          ]
        },
        "id": "T6hQFMW_rTAe",
        "outputId": "2c9665fa-044e-48eb-ad3d-f63b9cfed23f"
      },
      "execution_count": null,
      "outputs": [
        {
          "output_type": "display_data",
          "data": {
            "text/plain": [
              "  0%|          | 0/100 [00:00<?, ?it/s]"
            ],
            "application/vnd.jupyter.widget-view+json": {
              "version_major": 2,
              "version_minor": 0,
              "model_id": "29971d92b1ec406494bbd0b02cea5e00"
            }
          },
          "metadata": {}
        }
      ]
    },
    {
      "cell_type": "code",
      "source": [
        "preds = model(inputs)\n",
        "loss = mse(preds, targets)\n",
        "loss"
      ],
      "metadata": {
        "colab": {
          "base_uri": "https://localhost:8080/"
        },
        "id": "A6fjshbEruED",
        "outputId": "a88192a1-44ea-4a21-dce9-0a7cce2a6f0e"
      },
      "execution_count": null,
      "outputs": [
        {
          "output_type": "execute_result",
          "data": {
            "text/plain": [
              "tensor(95.2721, grad_fn=<DivBackward0>)"
            ]
          },
          "metadata": {},
          "execution_count": 74
        }
      ]
    },
    {
      "cell_type": "markdown",
      "source": [
        "## 2.6 Linear Regression using PyTorch buil-ins"
      ],
      "metadata": {
        "id": "hK546GigsYnJ"
      }
    },
    {
      "cell_type": "code",
      "source": [
        "import torch.nn as nn"
      ],
      "metadata": {
        "id": "fjLoETALsNMs"
      },
      "execution_count": null,
      "outputs": []
    },
    {
      "cell_type": "code",
      "source": [
        "# Inputs (temp, rainfall, humidity)\n",
        "inputs = np.array([[73,67,43],\n",
        "                   [91,88,64],\n",
        "                   [87,134,58],\n",
        "                   [102,43,37],\n",
        "                   [69,96,70],\n",
        "                   [73,67,43],\n",
        "                   [91,88,64],\n",
        "                   [87,134,58],\n",
        "                   [102,43,37],\n",
        "                   [69,96,70],\n",
        "                   [73,67,43],\n",
        "                   [91,88,64],\n",
        "                   [87,134,58],\n",
        "                   [102,43,37],\n",
        "                   [69,96,70]], dtype='float32')\n",
        "\n",
        "# Targets (temp, rainfall, humidity)\n",
        "targets = np.array([[56,70],\n",
        "                   [81,101],\n",
        "                   [119,133],\n",
        "                   [22,37],\n",
        "                   [103,119],\n",
        "                    [81,101],\n",
        "                   [119,133],\n",
        "                   [22,37],\n",
        "                   [103,119],\n",
        "                    [56,70],\n",
        "                    [81,101],\n",
        "                   [119,133],\n",
        "                   [22,37],\n",
        "                   [103,119],\n",
        "                    [22,37]], dtype='float32')\n",
        "\n",
        "inputs = torch.from_numpy(inputs)\n",
        "targets = torch.from_numpy(targets)"
      ],
      "metadata": {
        "id": "_vxLsVr0sjt5"
      },
      "execution_count": null,
      "outputs": []
    },
    {
      "cell_type": "markdown",
      "source": [
        "## 2.7 Dataset and DataLoader"
      ],
      "metadata": {
        "id": "8R5N7RYguAVa"
      }
    },
    {
      "cell_type": "markdown",
      "source": [
        "We'll create a `TensorDataset`, which allows access to rows from `inputs` and `targets` as tuples, and provides standard APIs for working with many different types of datasets in PyTorch."
      ],
      "metadata": {
        "id": "EbwrnI4Ru7TF"
      }
    },
    {
      "cell_type": "code",
      "source": [
        "from torch.utils.data import TensorDataset"
      ],
      "metadata": {
        "id": "7Mddu7Z4tibK"
      },
      "execution_count": null,
      "outputs": []
    },
    {
      "cell_type": "code",
      "source": [
        "# Define dataset\n",
        "train_dataset = TensorDataset(inputs, targets)\n",
        "train_dataset[:3]"
      ],
      "metadata": {
        "colab": {
          "base_uri": "https://localhost:8080/"
        },
        "id": "8zJD2WxduG0m",
        "outputId": "01390743-11d2-4669-e00a-344b8dde8f63"
      },
      "execution_count": null,
      "outputs": [
        {
          "output_type": "execute_result",
          "data": {
            "text/plain": [
              "(tensor([[ 73.,  67.,  43.],\n",
              "         [ 91.,  88.,  64.],\n",
              "         [ 87., 134.,  58.]]),\n",
              " tensor([[ 56.,  70.],\n",
              "         [ 81., 101.],\n",
              "         [119., 133.]]))"
            ]
          },
          "metadata": {},
          "execution_count": 88
        }
      ]
    },
    {
      "cell_type": "markdown",
      "source": [
        "We'll also create `DataLoader`, which can split the data into batches of a predefined size while training. It also provides other utilities like shuffling and random sampling of the data."
      ],
      "metadata": {
        "id": "cKR0sTHcu6Ha"
      }
    },
    {
      "cell_type": "code",
      "source": [
        "from torch.utils.data import DataLoader"
      ],
      "metadata": {
        "id": "VJx0DoAHuK3i"
      },
      "execution_count": null,
      "outputs": []
    },
    {
      "cell_type": "code",
      "source": [
        "# Define data lodaer\n",
        "batch_size = 5\n",
        "train_dataloader = DataLoader(dataset=train_dataset, batch_size=batch_size, shuffle=True)"
      ],
      "metadata": {
        "id": "itdwxoi4u493"
      },
      "execution_count": null,
      "outputs": []
    },
    {
      "cell_type": "code",
      "source": [
        "for x, y in train_dataloader:\n",
        "  print(x)\n",
        "  print(y)"
      ],
      "metadata": {
        "colab": {
          "base_uri": "https://localhost:8080/"
        },
        "id": "4vsJIP-owWp4",
        "outputId": "cafd387e-2c52-4782-8d15-3a8287e5942d"
      },
      "execution_count": null,
      "outputs": [
        {
          "output_type": "stream",
          "name": "stdout",
          "text": [
            "tensor([[ 87., 134.,  58.],\n",
            "        [102.,  43.,  37.],\n",
            "        [ 73.,  67.,  43.],\n",
            "        [ 69.,  96.,  70.],\n",
            "        [ 69.,  96.,  70.]])\n",
            "tensor([[119., 133.],\n",
            "        [103., 119.],\n",
            "        [ 81., 101.],\n",
            "        [103., 119.],\n",
            "        [ 56.,  70.]])\n",
            "tensor([[102.,  43.,  37.],\n",
            "        [ 73.,  67.,  43.],\n",
            "        [102.,  43.,  37.],\n",
            "        [ 87., 134.,  58.],\n",
            "        [ 91.,  88.,  64.]])\n",
            "tensor([[103., 119.],\n",
            "        [ 81., 101.],\n",
            "        [ 22.,  37.],\n",
            "        [ 22.,  37.],\n",
            "        [ 81., 101.]])\n",
            "tensor([[ 73.,  67.,  43.],\n",
            "        [ 87., 134.,  58.],\n",
            "        [ 69.,  96.,  70.],\n",
            "        [ 91.,  88.,  64.],\n",
            "        [ 91.,  88.,  64.]])\n",
            "tensor([[ 56.,  70.],\n",
            "        [ 22.,  37.],\n",
            "        [ 22.,  37.],\n",
            "        [119., 133.],\n",
            "        [119., 133.]])\n"
          ]
        }
      ]
    },
    {
      "cell_type": "markdown",
      "source": [
        "## 2.8 `nn.Linear`"
      ],
      "metadata": {
        "id": "f5M22v8sxeLt"
      }
    },
    {
      "cell_type": "code",
      "source": [
        "# Define model\n",
        "model = nn.Linear(in_features=3, out_features=2)\n",
        "print(f'weight model: {model.weight} and bias model: {model.bias}')"
      ],
      "metadata": {
        "colab": {
          "base_uri": "https://localhost:8080/"
        },
        "id": "5fi2Je9ZxHap",
        "outputId": "6963c5aa-be03-4a4f-c22b-0ec3a56a2a66"
      },
      "execution_count": null,
      "outputs": [
        {
          "output_type": "stream",
          "name": "stdout",
          "text": [
            "weight model: Parameter containing:\n",
            "tensor([[ 0.4197,  0.2760, -0.5534],\n",
            "        [-0.0582,  0.3293, -0.2790]], requires_grad=True) and bias model: Parameter containing:\n",
            "tensor([ 0.0629, -0.0830], requires_grad=True)\n"
          ]
        }
      ]
    },
    {
      "cell_type": "code",
      "source": [
        "# Parameters\n",
        "list(model.parameters()) # return a list containing all the weights and bias matrices present in the model"
      ],
      "metadata": {
        "colab": {
          "base_uri": "https://localhost:8080/"
        },
        "id": "PJtaVqqmxw4o",
        "outputId": "ae002518-c475-4e1e-8f37-f232ce13b253"
      },
      "execution_count": null,
      "outputs": [
        {
          "output_type": "execute_result",
          "data": {
            "text/plain": [
              "[Parameter containing:\n",
              " tensor([[ 0.4197,  0.2760, -0.5534],\n",
              "         [-0.0582,  0.3293, -0.2790]], requires_grad=True),\n",
              " Parameter containing:\n",
              " tensor([ 0.0629, -0.0830], requires_grad=True)]"
            ]
          },
          "metadata": {},
          "execution_count": 96
        }
      ]
    },
    {
      "cell_type": "code",
      "source": [
        "# Generate predictions\n",
        "preds = model(inputs)\n",
        "preds"
      ],
      "metadata": {
        "colab": {
          "base_uri": "https://localhost:8080/"
        },
        "id": "YWCaYlD01RDm",
        "outputId": "ff8b34a2-0929-4390-97cf-5d5ef5c8a90d"
      },
      "execution_count": null,
      "outputs": [
        {
          "output_type": "execute_result",
          "data": {
            "text/plain": [
              "tensor([[25.4018,  5.7355],\n",
              "        [27.1324,  5.7448],\n",
              "        [41.4715, 22.8009],\n",
              "        [34.2697, -2.1833],\n",
              "        [16.7860,  7.9866],\n",
              "        [25.4018,  5.7355],\n",
              "        [27.1324,  5.7448],\n",
              "        [41.4715, 22.8009],\n",
              "        [34.2697, -2.1833],\n",
              "        [16.7860,  7.9866],\n",
              "        [25.4018,  5.7355],\n",
              "        [27.1324,  5.7448],\n",
              "        [41.4715, 22.8009],\n",
              "        [34.2697, -2.1833],\n",
              "        [16.7860,  7.9866]], grad_fn=<AddmmBackward0>)"
            ]
          },
          "metadata": {},
          "execution_count": 97
        }
      ]
    },
    {
      "cell_type": "markdown",
      "source": [
        "## 2.9 Loss function\n",
        "Instead of defining a loss function manually, we can use the built-in loss function `mse_loss`"
      ],
      "metadata": {
        "id": "CZw-RwyZ1gzx"
      }
    },
    {
      "cell_type": "code",
      "source": [
        "# Import nn.functional\n",
        "import torch.nn.functional as F"
      ],
      "metadata": {
        "id": "2FfWMcy-1a-s"
      },
      "execution_count": null,
      "outputs": []
    },
    {
      "cell_type": "markdown",
      "source": [
        "The `nn.functional` package contains many useful loss function and several other utilities."
      ],
      "metadata": {
        "id": "kvNxr6_u1tV3"
      }
    },
    {
      "cell_type": "code",
      "source": [
        "# Define loss function\n",
        "loss_fn = F.mse_loss"
      ],
      "metadata": {
        "id": "-BmAroj61rqF"
      },
      "execution_count": null,
      "outputs": []
    },
    {
      "cell_type": "code",
      "source": [
        "loss = loss_fn(model(inputs), targets)\n",
        "loss"
      ],
      "metadata": {
        "colab": {
          "base_uri": "https://localhost:8080/"
        },
        "id": "LJ_MEQ1s10g_",
        "outputId": "763376eb-58fd-43e5-97f4-6d55826455e5"
      },
      "execution_count": null,
      "outputs": [
        {
          "output_type": "execute_result",
          "data": {
            "text/plain": [
              "tensor(5882.3721, grad_fn=<MseLossBackward0>)"
            ]
          },
          "metadata": {},
          "execution_count": 100
        }
      ]
    },
    {
      "cell_type": "markdown",
      "source": [
        "## 2.10 Optimizer"
      ],
      "metadata": {
        "id": "xLEhh_Cn2FmY"
      }
    },
    {
      "cell_type": "code",
      "source": [
        "# Define optimizer\n",
        "opt = torch.optim.SGD(params=model.parameters(), lr =1e-5)"
      ],
      "metadata": {
        "id": "dfmY2X5614Cy"
      },
      "execution_count": null,
      "outputs": []
    },
    {
      "cell_type": "markdown",
      "source": [
        "## 2.11 Train the model"
      ],
      "metadata": {
        "id": "xYkIal2R2bat"
      }
    },
    {
      "cell_type": "code",
      "source": [
        "# Utility function to train the mode\n",
        "def fit(num_epochs, model, loss_fn, opt, train_dataloader):\n",
        "\n",
        "  # Repeat for given number of epochs\n",
        "  for epoch in tqdm(range(num_epochs)):\n",
        "\n",
        "    # Train with batches of data:\n",
        "    for X_train, y_train in train_dataloader:\n",
        "\n",
        "      # 1. Generate predictions\n",
        "      pred = model(X_train)\n",
        "\n",
        "      # 2. Calculate loss\n",
        "      loss = loss_fn(pred, y_train)\n",
        "\n",
        "      # 3. Compute gradients\n",
        "      loss.backward()\n",
        "\n",
        "      # 4. Update parameters using gradients\n",
        "      opt.step()\n",
        "\n",
        "      # 5. Reset the gradient to zero\n",
        "      opt.zero_grad()\n",
        "\n",
        "    if (epoch+1) %10 == 0:\n",
        "      print(f\"Epoch: {epoch+1} | Loss: {loss.item():.4f}\")"
      ],
      "metadata": {
        "id": "6TuRoNKr2Z_k"
      },
      "execution_count": null,
      "outputs": []
    },
    {
      "cell_type": "markdown",
      "source": [
        "Instead of updating parameters (weights and biases) manually, we use `opt.step()` to perfom the update, and `opt.zero_grad()` to reset the gradients to zero."
      ],
      "metadata": {
        "id": "X1fHLbg53_2m"
      }
    },
    {
      "cell_type": "code",
      "source": [
        "fit(num_epochs=100,model=model,loss_fn=loss_fn,opt=opt,train_dataloader=train_dataloader)"
      ],
      "metadata": {
        "colab": {
          "base_uri": "https://localhost:8080/",
          "height": 223,
          "referenced_widgets": [
            "987b39adae0741e38d75d2936d0a1d1a",
            "e6a1d2c0f825413488cc95f904bbce64",
            "fd5919fc1abe4dec98dc6c7802ba6772",
            "4844acdf7e1f421d86f11631f09b9a33",
            "381bd99263a149d2a01d058fd9fb9a37",
            "5e397dfed77f48209aee97173626fcd4",
            "8a074821324a4803a197aca53c89528e",
            "76d438fd4b8244c59532353f5637e0f4",
            "2b8961ead25a4d2c97579e5f1238204f",
            "a6c5a463d8bd42cca26ac71c8be6255a",
            "54ac419e6fad4fe0abd4590a72dfe16b"
          ]
        },
        "id": "8TZj0XSk3-ZJ",
        "outputId": "b92acc35-58f8-4b23-9155-a619361d7988"
      },
      "execution_count": null,
      "outputs": [
        {
          "output_type": "display_data",
          "data": {
            "text/plain": [
              "  0%|          | 0/100 [00:00<?, ?it/s]"
            ],
            "application/vnd.jupyter.widget-view+json": {
              "version_major": 2,
              "version_minor": 0,
              "model_id": "987b39adae0741e38d75d2936d0a1d1a"
            }
          },
          "metadata": {}
        },
        {
          "output_type": "stream",
          "name": "stdout",
          "text": [
            "Epoch: 10 | Loss: 2970.0747\n",
            "Epoch: 20 | Loss: 1940.7731\n",
            "Epoch: 30 | Loss: 1057.7996\n",
            "Epoch: 40 | Loss: 1301.7987\n",
            "Epoch: 50 | Loss: 2324.1821\n",
            "Epoch: 60 | Loss: 1331.4520\n",
            "Epoch: 70 | Loss: 1843.0999\n",
            "Epoch: 80 | Loss: 1752.9121\n",
            "Epoch: 90 | Loss: 739.1357\n",
            "Epoch: 100 | Loss: 2137.1538\n"
          ]
        }
      ]
    },
    {
      "cell_type": "code",
      "source": [
        "# Generate predicitons\n",
        "preds = model(inputs)\n",
        "preds"
      ],
      "metadata": {
        "colab": {
          "base_uri": "https://localhost:8080/"
        },
        "id": "uCyAQt8Z4Zgs",
        "outputId": "5d59fcae-4925-4e90-ca73-ecacac19cdbc"
      },
      "execution_count": null,
      "outputs": [
        {
          "output_type": "execute_result",
          "data": {
            "text/plain": [
              "tensor([[ 62.4116,  74.8610],\n",
              "        [ 77.0069,  95.4333],\n",
              "        [ 75.5634,  90.3677],\n",
              "        [ 87.5529, 100.1554],\n",
              "        [ 57.4666,  76.5839],\n",
              "        [ 62.4116,  74.8610],\n",
              "        [ 77.0069,  95.4333],\n",
              "        [ 75.5634,  90.3677],\n",
              "        [ 87.5529, 100.1554],\n",
              "        [ 57.4666,  76.5839],\n",
              "        [ 62.4116,  74.8610],\n",
              "        [ 77.0069,  95.4333],\n",
              "        [ 75.5634,  90.3677],\n",
              "        [ 87.5529, 100.1554],\n",
              "        [ 57.4666,  76.5839]], grad_fn=<AddmmBackward0>)"
            ]
          },
          "metadata": {},
          "execution_count": 106
        }
      ]
    },
    {
      "cell_type": "code",
      "source": [],
      "metadata": {
        "id": "xE-ZLx3m4hfD"
      },
      "execution_count": null,
      "outputs": []
    },
    {
      "cell_type": "markdown",
      "source": [],
      "metadata": {
        "id": "x9N6TQwwKM5X"
      }
    }
  ]
}