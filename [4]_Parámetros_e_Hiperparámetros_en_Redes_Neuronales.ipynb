{
  "cells": [
    {
      "cell_type": "markdown",
      "metadata": {
        "id": "view-in-github",
        "colab_type": "text"
      },
      "source": [
        "<a href=\"https://colab.research.google.com/github/jurados/NotesPytorch/blob/main/%5B4%5D_Par%C3%A1metros_e_Hiperpar%C3%A1metros_en_Redes_Neuronales.ipynb\" target=\"_parent\"><img src=\"https://colab.research.google.com/assets/colab-badge.svg\" alt=\"Open In Colab\"/></a>"
      ]
    },
    {
      "cell_type": "code",
      "execution_count": null,
      "metadata": {
        "id": "pExV9tXpDb2_"
      },
      "outputs": [],
      "source": [
        "import numpy as np\n",
        "import matplotlib.pyplot as plt\n",
        "\n",
        "import tensorflow as tf\n",
        "from tensorflow import keras"
      ]
    },
    {
      "cell_type": "markdown",
      "metadata": {
        "id": "TV798ygOtr8g"
      },
      "source": [
        "# Parámetros e Hiperparámetros en Redes Neuronales"
      ]
    },
    {
      "cell_type": "markdown",
      "source": [
        "Los **parámetros** del modelo son internos a la red neuronal, por ejemplo, los pesos de las neuronas. Se estiman o aprenden automáticamente a partir de las muestras de entrenamiento. Esto parámetros también se utilizan para hacer prediccionesne un modelo ya entrenado qeu se encuentra en producción.\n",
        "\n",
        "Los **hiperparámetros** son parámetros externos al model en sí mismo, establecidos por el programador de la red neuronal, por ejemplo, seelccionando que función de activación o el tamaño de lote utilizado en el entrenamiento. Tiene un gran impacto en la precisión de una red neuronal y puede haber diferentes valores óptimos para diferentes hiperparámetros.\n",
        "\n",
        "Existen dos grandes grupos de hiperparámetros, pero se pueden clasificar en dos grandes grupos:\n",
        "\n",
        "- **Hiperparámetros a nivel de estructura y topología de la red neuronal:** Número de capas, número de neuronas por capa, sus funciones de activación, inicialización de los pesos, etc.\n",
        "- **Hiperparámetros a nivel de algoritmo de aprendizaje:** _epochs_, _batch size_, _learning rate_, _momentum_, etc.\n",
        "\n",
        "\n",
        "**Número de _epochs_:** Indica el número de veces que los datos de entrenamiento han pasado por la red neuronal en el proceso de entrenamiento. Un número alto de épocas provoca que el modelo se ajuste en exceso a los datos y puede tener problemas de generalización en el conjunto de datos de prueba y validación.\n",
        "\n",
        "**_Batch size_:** Se puede particiionar los datos de entrenamiento en lotes para pasarlo por la red. *batch_size* hace referencia al tamaño de estos lotes en una iteración del entrenamiento para actualizar el graediente.\n",
        "\n",
        "**_Learning rate_:** Los algoritmos de gradiente descendiente multiplican la magnitud del gradiente por un escalar conocido como rango de aprendizaje o _learning rate_.\n",
        "\n",
        "- Si este es demasiado grande, se están dando pasos normes que pdrían ser buenos para ir rápido en el proceso de aprendizaje, pero sus actualizaciones pueden terminar llevándolo a ubicaciones completamente aleatorias en la curva, saltándose el mínimo.\n",
        "- Si la taza de aprendizaje es demasiado pequeña, se harán avances costantes pero pequeños, generando así una mejor oportunidad de llegar a un mínimo local de la función de pérdida. Sin embargo, esto puede provocar que el proceso de aprendizaje sea extremadamente lento.\n",
        "\n",
        "**_Learning rate decay_:** Se usa para dismininuir el _learning rate_ a medida que van pasando las _epochs_.\n",
        "\n",
        "**_Momentum_:** Un avance tomara el promedio ponderado de los pasos anteriores para obtener así un poco de ímpetu y superar los _batches_ como una forma de noatascarse en los mínimos locales."
      ],
      "metadata": {
        "id": "GCXTTSVMdLFG"
      }
    },
    {
      "cell_type": "code",
      "execution_count": null,
      "metadata": {
        "id": "S-cHNL4v9McR"
      },
      "outputs": [],
      "source": [
        "from tensorflow.keras import optimizers\n",
        "\n",
        "sgd = optimizers.SGD(learning_rate=0.001,momentum=0.9, nesterov=True)"
      ]
    },
    {
      "cell_type": "markdown",
      "metadata": {
        "id": "5ENU9xIkWgg_"
      },
      "source": [
        "**Linear:** La funcipon de activación _linear_ es, básicamente, la función identidad en la que, en términos practicos, podemos decir que la señal no cambia.\n",
        "\n",
        "$$f(x) = x$$"
      ]
    },
    {
      "cell_type": "code",
      "execution_count": null,
      "metadata": {
        "id": "2WYZNR-ZWgg_",
        "outputId": "2a2cfde3-d2dd-411b-84e4-84ce53595e9f"
      },
      "outputs": [
        {
          "data": {
            "image/png": "[encoded data removed]",
            "text/plain": [
              "<Figure size 400x300 with 1 Axes>"
            ]
          },
          "metadata": {},
          "output_type": "display_data"
        }
      ],
      "source": [
        "x = np.linspace(-5,5,100)\n",
        "y = x\n",
        "\n",
        "fig, ax = plt.subplots(figsize=(4,3))\n",
        "ax.plot(x,y)\n",
        "ax.grid(True)"
      ]
    },
    {
      "cell_type": "markdown",
      "metadata": {
        "id": "Vr-UZg5ZWgg_"
      },
      "source": [
        "**Tanh:** El rango normzalizado de $\\text{tanh}$ está entre $-1$ y $1$\n",
        "\n",
        "$$\\tanh(x) = \\frac{\\sinh(x)}{\\cosh(x)}$$"
      ]
    },
    {
      "cell_type": "code",
      "execution_count": null,
      "metadata": {
        "id": "tefrCQkcWgg_",
        "outputId": "5a569487-017c-43d4-bf54-8a592b25c0eb"
      },
      "outputs": [
        {
          "data": {
            "image/png": "[encoded data removed]",
            "text/plain": [
              "<Figure size 400x300 with 1 Axes>"
            ]
          },
          "metadata": {},
          "output_type": "display_data"
        }
      ],
      "source": [
        "x = np.linspace(-5,5,100)\n",
        "y = np.tanh(x)\n",
        "\n",
        "fig, ax = plt.subplots(figsize=(4,3))\n",
        "ax.plot(x,y)\n",
        "ax.grid(True)"
      ]
    },
    {
      "cell_type": "markdown",
      "metadata": {
        "id": "Wx7Z5eMbWghA"
      },
      "source": [
        "**ReLU:** La función de activación _Rectified Linear Unit_ (ReLU) que es de la forma.\n",
        "\n",
        "$$f(x) = \\begin{cases}\n",
        "s $ s\n",
        "\\end{cases}$$"
      ]
    },
    {
      "cell_type": "code",
      "execution_count": null,
      "metadata": {
        "id": "vlSgE3BFWghA"
      },
      "outputs": [],
      "source": [
        "x = np.linspace(-5,5,100)\n",
        "y = np.where(x > 1)"
      ]
    },
    {
      "cell_type": "code",
      "execution_count": null,
      "metadata": {
        "id": "hP8_bI7iWghA",
        "outputId": "7f0ecb85-4cd9-40af-f28f-d51d82e58a36"
      },
      "outputs": [
        {
          "data": {
            "text/plain": [
              "(array([60, 61, 62, 63, 64, 65, 66, 67, 68, 69, 70, 71, 72, 73, 74, 75, 76,\n",
              "        77, 78, 79, 80, 81, 82, 83, 84, 85, 86, 87, 88, 89, 90, 91, 92, 93,\n",
              "        94, 95, 96, 97, 98, 99]),)"
            ]
          },
          "execution_count": 21,
          "metadata": {},
          "output_type": "execute_result"
        }
      ],
      "source": [
        "y"
      ]
    }
  ],
  "metadata": {
    "colab": {
      "collapsed_sections": [
        "TV798ygOtr8g"
      ],
      "provenance": [],
      "include_colab_link": true
    },
    "kernelspec": {
      "display_name": "Python 3",
      "name": "python3"
    },
    "language_info": {
      "codemirror_mode": {
        "name": "ipython",
        "version": 3
      },
      "file_extension": ".py",
      "mimetype": "text/x-python",
      "name": "python",
      "nbconvert_exporter": "python",
      "pygments_lexer": "ipython3",
      "version": "3.10.12"
    }
  },
  "nbformat": 4,
  "nbformat_minor": 0
}