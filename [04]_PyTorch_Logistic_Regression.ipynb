{
  "nbformat": 4,
  "nbformat_minor": 0,
  "metadata": {
    "colab": {
      "provenance": [],
      "collapsed_sections": [
        "pSkzYrnuKOyd"
      ],
      "authorship_tag": "ABX9TyOumaq5XMhqZJzPwj3XTI//",
      "include_colab_link": true
    },
    "kernelspec": {
      "name": "python3",
      "display_name": "Python 3"
    },
    "language_info": {
      "name": "python"
    },
    "widgets": {
      "application/vnd.jupyter.widget-state+json": {
        "c8ff9e45f0e9484d8cc0d16f5a13263c": {
          "model_module": "@jupyter-widgets/controls",
          "model_name": "HBoxModel",
          "model_module_version": "1.5.0",
          "state": {
            "_dom_classes": [],
            "_model_module": "@jupyter-widgets/controls",
            "_model_module_version": "1.5.0",
            "_model_name": "HBoxModel",
            "_view_count": null,
            "_view_module": "@jupyter-widgets/controls",
            "_view_module_version": "1.5.0",
            "_view_name": "HBoxView",
            "box_style": "",
            "children": [
              "IPY_MODEL_2a85d75962384f21b24e041ebcb2bee9",
              "IPY_MODEL_f17029b448e64d56a34380825327aa16",
              "IPY_MODEL_88e112602e274e1a933fad0b85ade6f6"
            ],
            "layout": "IPY_MODEL_933d10078ac84afcae3cba1487d1e7ec"
          }
        },
        "2a85d75962384f21b24e041ebcb2bee9": {
          "model_module": "@jupyter-widgets/controls",
          "model_name": "HTMLModel",
          "model_module_version": "1.5.0",
          "state": {
            "_dom_classes": [],
            "_model_module": "@jupyter-widgets/controls",
            "_model_module_version": "1.5.0",
            "_model_name": "HTMLModel",
            "_view_count": null,
            "_view_module": "@jupyter-widgets/controls",
            "_view_module_version": "1.5.0",
            "_view_name": "HTMLView",
            "description": "",
            "description_tooltip": null,
            "layout": "IPY_MODEL_b2533f45f5734ddba50ee3c9ed6df0d4",
            "placeholder": "​",
            "style": "IPY_MODEL_f6fd671e4c254778bf129d43d7bf48fa",
            "value": "100%"
          }
        },
        "f17029b448e64d56a34380825327aa16": {
          "model_module": "@jupyter-widgets/controls",
          "model_name": "FloatProgressModel",
          "model_module_version": "1.5.0",
          "state": {
            "_dom_classes": [],
            "_model_module": "@jupyter-widgets/controls",
            "_model_module_version": "1.5.0",
            "_model_name": "FloatProgressModel",
            "_view_count": null,
            "_view_module": "@jupyter-widgets/controls",
            "_view_module_version": "1.5.0",
            "_view_name": "ProgressView",
            "bar_style": "success",
            "description": "",
            "description_tooltip": null,
            "layout": "IPY_MODEL_a11c4bc9d98d4eafbb4dbfff6f67a538",
            "max": 5,
            "min": 0,
            "orientation": "horizontal",
            "style": "IPY_MODEL_2a4c1445f5ee418c8069e775d089fb6f",
            "value": 5
          }
        },
        "88e112602e274e1a933fad0b85ade6f6": {
          "model_module": "@jupyter-widgets/controls",
          "model_name": "HTMLModel",
          "model_module_version": "1.5.0",
          "state": {
            "_dom_classes": [],
            "_model_module": "@jupyter-widgets/controls",
            "_model_module_version": "1.5.0",
            "_model_name": "HTMLModel",
            "_view_count": null,
            "_view_module": "@jupyter-widgets/controls",
            "_view_module_version": "1.5.0",
            "_view_name": "HTMLView",
            "description": "",
            "description_tooltip": null,
            "layout": "IPY_MODEL_5f376d05f5784c3e9fa6f3ff6700d708",
            "placeholder": "​",
            "style": "IPY_MODEL_477387116dc04bfdb70b2c7fc51ff2fa",
            "value": " 5/5 [00:42&lt;00:00,  8.54s/it]"
          }
        },
        "933d10078ac84afcae3cba1487d1e7ec": {
          "model_module": "@jupyter-widgets/base",
          "model_name": "LayoutModel",
          "model_module_version": "1.2.0",
          "state": {
            "_model_module": "@jupyter-widgets/base",
            "_model_module_version": "1.2.0",
            "_model_name": "LayoutModel",
            "_view_count": null,
            "_view_module": "@jupyter-widgets/base",
            "_view_module_version": "1.2.0",
            "_view_name": "LayoutView",
            "align_content": null,
            "align_items": null,
            "align_self": null,
            "border": null,
            "bottom": null,
            "display": null,
            "flex": null,
            "flex_flow": null,
            "grid_area": null,
            "grid_auto_columns": null,
            "grid_auto_flow": null,
            "grid_auto_rows": null,
            "grid_column": null,
            "grid_gap": null,
            "grid_row": null,
            "grid_template_areas": null,
            "grid_template_columns": null,
            "grid_template_rows": null,
            "height": null,
            "justify_content": null,
            "justify_items": null,
            "left": null,
            "margin": null,
            "max_height": null,
            "max_width": null,
            "min_height": null,
            "min_width": null,
            "object_fit": null,
            "object_position": null,
            "order": null,
            "overflow": null,
            "overflow_x": null,
            "overflow_y": null,
            "padding": null,
            "right": null,
            "top": null,
            "visibility": null,
            "width": null
          }
        },
        "b2533f45f5734ddba50ee3c9ed6df0d4": {
          "model_module": "@jupyter-widgets/base",
          "model_name": "LayoutModel",
          "model_module_version": "1.2.0",
          "state": {
            "_model_module": "@jupyter-widgets/base",
            "_model_module_version": "1.2.0",
            "_model_name": "LayoutModel",
            "_view_count": null,
            "_view_module": "@jupyter-widgets/base",
            "_view_module_version": "1.2.0",
            "_view_name": "LayoutView",
            "align_content": null,
            "align_items": null,
            "align_self": null,
            "border": null,
            "bottom": null,
            "display": null,
            "flex": null,
            "flex_flow": null,
            "grid_area": null,
            "grid_auto_columns": null,
            "grid_auto_flow": null,
            "grid_auto_rows": null,
            "grid_column": null,
            "grid_gap": null,
            "grid_row": null,
            "grid_template_areas": null,
            "grid_template_columns": null,
            "grid_template_rows": null,
            "height": null,
            "justify_content": null,
            "justify_items": null,
            "left": null,
            "margin": null,
            "max_height": null,
            "max_width": null,
            "min_height": null,
            "min_width": null,
            "object_fit": null,
            "object_position": null,
            "order": null,
            "overflow": null,
            "overflow_x": null,
            "overflow_y": null,
            "padding": null,
            "right": null,
            "top": null,
            "visibility": null,
            "width": null
          }
        },
        "f6fd671e4c254778bf129d43d7bf48fa": {
          "model_module": "@jupyter-widgets/controls",
          "model_name": "DescriptionStyleModel",
          "model_module_version": "1.5.0",
          "state": {
            "_model_module": "@jupyter-widgets/controls",
            "_model_module_version": "1.5.0",
            "_model_name": "DescriptionStyleModel",
            "_view_count": null,
            "_view_module": "@jupyter-widgets/base",
            "_view_module_version": "1.2.0",
            "_view_name": "StyleView",
            "description_width": ""
          }
        },
        "a11c4bc9d98d4eafbb4dbfff6f67a538": {
          "model_module": "@jupyter-widgets/base",
          "model_name": "LayoutModel",
          "model_module_version": "1.2.0",
          "state": {
            "_model_module": "@jupyter-widgets/base",
            "_model_module_version": "1.2.0",
            "_model_name": "LayoutModel",
            "_view_count": null,
            "_view_module": "@jupyter-widgets/base",
            "_view_module_version": "1.2.0",
            "_view_name": "LayoutView",
            "align_content": null,
            "align_items": null,
            "align_self": null,
            "border": null,
            "bottom": null,
            "display": null,
            "flex": null,
            "flex_flow": null,
            "grid_area": null,
            "grid_auto_columns": null,
            "grid_auto_flow": null,
            "grid_auto_rows": null,
            "grid_column": null,
            "grid_gap": null,
            "grid_row": null,
            "grid_template_areas": null,
            "grid_template_columns": null,
            "grid_template_rows": null,
            "height": null,
            "justify_content": null,
            "justify_items": null,
            "left": null,
            "margin": null,
            "max_height": null,
            "max_width": null,
            "min_height": null,
            "min_width": null,
            "object_fit": null,
            "object_position": null,
            "order": null,
            "overflow": null,
            "overflow_x": null,
            "overflow_y": null,
            "padding": null,
            "right": null,
            "top": null,
            "visibility": null,
            "width": null
          }
        },
        "2a4c1445f5ee418c8069e775d089fb6f": {
          "model_module": "@jupyter-widgets/controls",
          "model_name": "ProgressStyleModel",
          "model_module_version": "1.5.0",
          "state": {
            "_model_module": "@jupyter-widgets/controls",
            "_model_module_version": "1.5.0",
            "_model_name": "ProgressStyleModel",
            "_view_count": null,
            "_view_module": "@jupyter-widgets/base",
            "_view_module_version": "1.2.0",
            "_view_name": "StyleView",
            "bar_color": null,
            "description_width": ""
          }
        },
        "5f376d05f5784c3e9fa6f3ff6700d708": {
          "model_module": "@jupyter-widgets/base",
          "model_name": "LayoutModel",
          "model_module_version": "1.2.0",
          "state": {
            "_model_module": "@jupyter-widgets/base",
            "_model_module_version": "1.2.0",
            "_model_name": "LayoutModel",
            "_view_count": null,
            "_view_module": "@jupyter-widgets/base",
            "_view_module_version": "1.2.0",
            "_view_name": "LayoutView",
            "align_content": null,
            "align_items": null,
            "align_self": null,
            "border": null,
            "bottom": null,
            "display": null,
            "flex": null,
            "flex_flow": null,
            "grid_area": null,
            "grid_auto_columns": null,
            "grid_auto_flow": null,
            "grid_auto_rows": null,
            "grid_column": null,
            "grid_gap": null,
            "grid_row": null,
            "grid_template_areas": null,
            "grid_template_columns": null,
            "grid_template_rows": null,
            "height": null,
            "justify_content": null,
            "justify_items": null,
            "left": null,
            "margin": null,
            "max_height": null,
            "max_width": null,
            "min_height": null,
            "min_width": null,
            "object_fit": null,
            "object_position": null,
            "order": null,
            "overflow": null,
            "overflow_x": null,
            "overflow_y": null,
            "padding": null,
            "right": null,
            "top": null,
            "visibility": null,
            "width": null
          }
        },
        "477387116dc04bfdb70b2c7fc51ff2fa": {
          "model_module": "@jupyter-widgets/controls",
          "model_name": "DescriptionStyleModel",
          "model_module_version": "1.5.0",
          "state": {
            "_model_module": "@jupyter-widgets/controls",
            "_model_module_version": "1.5.0",
            "_model_name": "DescriptionStyleModel",
            "_view_count": null,
            "_view_module": "@jupyter-widgets/base",
            "_view_module_version": "1.2.0",
            "_view_name": "StyleView",
            "description_width": ""
          }
        },
        "49d33c4226c943d082e3270f7a26a00d": {
          "model_module": "@jupyter-widgets/controls",
          "model_name": "HBoxModel",
          "model_module_version": "1.5.0",
          "state": {
            "_dom_classes": [],
            "_model_module": "@jupyter-widgets/controls",
            "_model_module_version": "1.5.0",
            "_model_name": "HBoxModel",
            "_view_count": null,
            "_view_module": "@jupyter-widgets/controls",
            "_view_module_version": "1.5.0",
            "_view_name": "HBoxView",
            "box_style": "",
            "children": [
              "IPY_MODEL_4e4f3583ca724419a59c9aca41c6db70",
              "IPY_MODEL_b92e1c17ebcc4f73812c96db69086aae",
              "IPY_MODEL_90a87863ada043cfbceb29d3af8ea3b0"
            ],
            "layout": "IPY_MODEL_beb984c12ab74db39c7b3008c218085a"
          }
        },
        "4e4f3583ca724419a59c9aca41c6db70": {
          "model_module": "@jupyter-widgets/controls",
          "model_name": "HTMLModel",
          "model_module_version": "1.5.0",
          "state": {
            "_dom_classes": [],
            "_model_module": "@jupyter-widgets/controls",
            "_model_module_version": "1.5.0",
            "_model_name": "HTMLModel",
            "_view_count": null,
            "_view_module": "@jupyter-widgets/controls",
            "_view_module_version": "1.5.0",
            "_view_name": "HTMLView",
            "description": "",
            "description_tooltip": null,
            "layout": "IPY_MODEL_fc39d0f007874ad28a6e6db74e20c100",
            "placeholder": "​",
            "style": "IPY_MODEL_2b47767fbe92406caab09b229d8366c3",
            "value": "100%"
          }
        },
        "b92e1c17ebcc4f73812c96db69086aae": {
          "model_module": "@jupyter-widgets/controls",
          "model_name": "FloatProgressModel",
          "model_module_version": "1.5.0",
          "state": {
            "_dom_classes": [],
            "_model_module": "@jupyter-widgets/controls",
            "_model_module_version": "1.5.0",
            "_model_name": "FloatProgressModel",
            "_view_count": null,
            "_view_module": "@jupyter-widgets/controls",
            "_view_module_version": "1.5.0",
            "_view_name": "ProgressView",
            "bar_style": "success",
            "description": "",
            "description_tooltip": null,
            "layout": "IPY_MODEL_3f7c614cdf1e4360812968aca4ef8caf",
            "max": 5,
            "min": 0,
            "orientation": "horizontal",
            "style": "IPY_MODEL_4073fe788815444a8c67016a0de24783",
            "value": 5
          }
        },
        "90a87863ada043cfbceb29d3af8ea3b0": {
          "model_module": "@jupyter-widgets/controls",
          "model_name": "HTMLModel",
          "model_module_version": "1.5.0",
          "state": {
            "_dom_classes": [],
            "_model_module": "@jupyter-widgets/controls",
            "_model_module_version": "1.5.0",
            "_model_name": "HTMLModel",
            "_view_count": null,
            "_view_module": "@jupyter-widgets/controls",
            "_view_module_version": "1.5.0",
            "_view_name": "HTMLView",
            "description": "",
            "description_tooltip": null,
            "layout": "IPY_MODEL_89857fd59ef94642bc5b6a9758e5267a",
            "placeholder": "​",
            "style": "IPY_MODEL_e79a79d2f4e7444c8bce90cad1c43470",
            "value": " 5/5 [00:49&lt;00:00,  9.37s/it]"
          }
        },
        "beb984c12ab74db39c7b3008c218085a": {
          "model_module": "@jupyter-widgets/base",
          "model_name": "LayoutModel",
          "model_module_version": "1.2.0",
          "state": {
            "_model_module": "@jupyter-widgets/base",
            "_model_module_version": "1.2.0",
            "_model_name": "LayoutModel",
            "_view_count": null,
            "_view_module": "@jupyter-widgets/base",
            "_view_module_version": "1.2.0",
            "_view_name": "LayoutView",
            "align_content": null,
            "align_items": null,
            "align_self": null,
            "border": null,
            "bottom": null,
            "display": null,
            "flex": null,
            "flex_flow": null,
            "grid_area": null,
            "grid_auto_columns": null,
            "grid_auto_flow": null,
            "grid_auto_rows": null,
            "grid_column": null,
            "grid_gap": null,
            "grid_row": null,
            "grid_template_areas": null,
            "grid_template_columns": null,
            "grid_template_rows": null,
            "height": null,
            "justify_content": null,
            "justify_items": null,
            "left": null,
            "margin": null,
            "max_height": null,
            "max_width": null,
            "min_height": null,
            "min_width": null,
            "object_fit": null,
            "object_position": null,
            "order": null,
            "overflow": null,
            "overflow_x": null,
            "overflow_y": null,
            "padding": null,
            "right": null,
            "top": null,
            "visibility": null,
            "width": null
          }
        },
        "fc39d0f007874ad28a6e6db74e20c100": {
          "model_module": "@jupyter-widgets/base",
          "model_name": "LayoutModel",
          "model_module_version": "1.2.0",
          "state": {
            "_model_module": "@jupyter-widgets/base",
            "_model_module_version": "1.2.0",
            "_model_name": "LayoutModel",
            "_view_count": null,
            "_view_module": "@jupyter-widgets/base",
            "_view_module_version": "1.2.0",
            "_view_name": "LayoutView",
            "align_content": null,
            "align_items": null,
            "align_self": null,
            "border": null,
            "bottom": null,
            "display": null,
            "flex": null,
            "flex_flow": null,
            "grid_area": null,
            "grid_auto_columns": null,
            "grid_auto_flow": null,
            "grid_auto_rows": null,
            "grid_column": null,
            "grid_gap": null,
            "grid_row": null,
            "grid_template_areas": null,
            "grid_template_columns": null,
            "grid_template_rows": null,
            "height": null,
            "justify_content": null,
            "justify_items": null,
            "left": null,
            "margin": null,
            "max_height": null,
            "max_width": null,
            "min_height": null,
            "min_width": null,
            "object_fit": null,
            "object_position": null,
            "order": null,
            "overflow": null,
            "overflow_x": null,
            "overflow_y": null,
            "padding": null,
            "right": null,
            "top": null,
            "visibility": null,
            "width": null
          }
        },
        "2b47767fbe92406caab09b229d8366c3": {
          "model_module": "@jupyter-widgets/controls",
          "model_name": "DescriptionStyleModel",
          "model_module_version": "1.5.0",
          "state": {
            "_model_module": "@jupyter-widgets/controls",
            "_model_module_version": "1.5.0",
            "_model_name": "DescriptionStyleModel",
            "_view_count": null,
            "_view_module": "@jupyter-widgets/base",
            "_view_module_version": "1.2.0",
            "_view_name": "StyleView",
            "description_width": ""
          }
        },
        "3f7c614cdf1e4360812968aca4ef8caf": {
          "model_module": "@jupyter-widgets/base",
          "model_name": "LayoutModel",
          "model_module_version": "1.2.0",
          "state": {
            "_model_module": "@jupyter-widgets/base",
            "_model_module_version": "1.2.0",
            "_model_name": "LayoutModel",
            "_view_count": null,
            "_view_module": "@jupyter-widgets/base",
            "_view_module_version": "1.2.0",
            "_view_name": "LayoutView",
            "align_content": null,
            "align_items": null,
            "align_self": null,
            "border": null,
            "bottom": null,
            "display": null,
            "flex": null,
            "flex_flow": null,
            "grid_area": null,
            "grid_auto_columns": null,
            "grid_auto_flow": null,
            "grid_auto_rows": null,
            "grid_column": null,
            "grid_gap": null,
            "grid_row": null,
            "grid_template_areas": null,
            "grid_template_columns": null,
            "grid_template_rows": null,
            "height": null,
            "justify_content": null,
            "justify_items": null,
            "left": null,
            "margin": null,
            "max_height": null,
            "max_width": null,
            "min_height": null,
            "min_width": null,
            "object_fit": null,
            "object_position": null,
            "order": null,
            "overflow": null,
            "overflow_x": null,
            "overflow_y": null,
            "padding": null,
            "right": null,
            "top": null,
            "visibility": null,
            "width": null
          }
        },
        "4073fe788815444a8c67016a0de24783": {
          "model_module": "@jupyter-widgets/controls",
          "model_name": "ProgressStyleModel",
          "model_module_version": "1.5.0",
          "state": {
            "_model_module": "@jupyter-widgets/controls",
            "_model_module_version": "1.5.0",
            "_model_name": "ProgressStyleModel",
            "_view_count": null,
            "_view_module": "@jupyter-widgets/base",
            "_view_module_version": "1.2.0",
            "_view_name": "StyleView",
            "bar_color": null,
            "description_width": ""
          }
        },
        "89857fd59ef94642bc5b6a9758e5267a": {
          "model_module": "@jupyter-widgets/base",
          "model_name": "LayoutModel",
          "model_module_version": "1.2.0",
          "state": {
            "_model_module": "@jupyter-widgets/base",
            "_model_module_version": "1.2.0",
            "_model_name": "LayoutModel",
            "_view_count": null,
            "_view_module": "@jupyter-widgets/base",
            "_view_module_version": "1.2.0",
            "_view_name": "LayoutView",
            "align_content": null,
            "align_items": null,
            "align_self": null,
            "border": null,
            "bottom": null,
            "display": null,
            "flex": null,
            "flex_flow": null,
            "grid_area": null,
            "grid_auto_columns": null,
            "grid_auto_flow": null,
            "grid_auto_rows": null,
            "grid_column": null,
            "grid_gap": null,
            "grid_row": null,
            "grid_template_areas": null,
            "grid_template_columns": null,
            "grid_template_rows": null,
            "height": null,
            "justify_content": null,
            "justify_items": null,
            "left": null,
            "margin": null,
            "max_height": null,
            "max_width": null,
            "min_height": null,
            "min_width": null,
            "object_fit": null,
            "object_position": null,
            "order": null,
            "overflow": null,
            "overflow_x": null,
            "overflow_y": null,
            "padding": null,
            "right": null,
            "top": null,
            "visibility": null,
            "width": null
          }
        },
        "e79a79d2f4e7444c8bce90cad1c43470": {
          "model_module": "@jupyter-widgets/controls",
          "model_name": "DescriptionStyleModel",
          "model_module_version": "1.5.0",
          "state": {
            "_model_module": "@jupyter-widgets/controls",
            "_model_module_version": "1.5.0",
            "_model_name": "DescriptionStyleModel",
            "_view_count": null,
            "_view_module": "@jupyter-widgets/base",
            "_view_module_version": "1.2.0",
            "_view_name": "StyleView",
            "description_width": ""
          }
        },
        "6041b7e4b2fc4e84b302abd496744291": {
          "model_module": "@jupyter-widgets/controls",
          "model_name": "HBoxModel",
          "model_module_version": "1.5.0",
          "state": {
            "_dom_classes": [],
            "_model_module": "@jupyter-widgets/controls",
            "_model_module_version": "1.5.0",
            "_model_name": "HBoxModel",
            "_view_count": null,
            "_view_module": "@jupyter-widgets/controls",
            "_view_module_version": "1.5.0",
            "_view_name": "HBoxView",
            "box_style": "",
            "children": [
              "IPY_MODEL_4d8542421f774befbfc1355b0e510269",
              "IPY_MODEL_35920a16d43f4c6caeceac5c6b766f5e",
              "IPY_MODEL_f18d2dcbeb314b6f862b5b8295c327c3"
            ],
            "layout": "IPY_MODEL_0e35d9ff8303444c85feb27aaf622e09"
          }
        },
        "4d8542421f774befbfc1355b0e510269": {
          "model_module": "@jupyter-widgets/controls",
          "model_name": "HTMLModel",
          "model_module_version": "1.5.0",
          "state": {
            "_dom_classes": [],
            "_model_module": "@jupyter-widgets/controls",
            "_model_module_version": "1.5.0",
            "_model_name": "HTMLModel",
            "_view_count": null,
            "_view_module": "@jupyter-widgets/controls",
            "_view_module_version": "1.5.0",
            "_view_name": "HTMLView",
            "description": "",
            "description_tooltip": null,
            "layout": "IPY_MODEL_1979ed947fe24ac095f17e8afc65bdd3",
            "placeholder": "​",
            "style": "IPY_MODEL_a8742693672e4c04a539239b1dae62d3",
            "value": "100%"
          }
        },
        "35920a16d43f4c6caeceac5c6b766f5e": {
          "model_module": "@jupyter-widgets/controls",
          "model_name": "FloatProgressModel",
          "model_module_version": "1.5.0",
          "state": {
            "_dom_classes": [],
            "_model_module": "@jupyter-widgets/controls",
            "_model_module_version": "1.5.0",
            "_model_name": "FloatProgressModel",
            "_view_count": null,
            "_view_module": "@jupyter-widgets/controls",
            "_view_module_version": "1.5.0",
            "_view_name": "ProgressView",
            "bar_style": "success",
            "description": "",
            "description_tooltip": null,
            "layout": "IPY_MODEL_10040b85660047c297b654a1e1a610ea",
            "max": 5,
            "min": 0,
            "orientation": "horizontal",
            "style": "IPY_MODEL_d60cf938e8fa42a9b329ee4cd674835f",
            "value": 5
          }
        },
        "f18d2dcbeb314b6f862b5b8295c327c3": {
          "model_module": "@jupyter-widgets/controls",
          "model_name": "HTMLModel",
          "model_module_version": "1.5.0",
          "state": {
            "_dom_classes": [],
            "_model_module": "@jupyter-widgets/controls",
            "_model_module_version": "1.5.0",
            "_model_name": "HTMLModel",
            "_view_count": null,
            "_view_module": "@jupyter-widgets/controls",
            "_view_module_version": "1.5.0",
            "_view_name": "HTMLView",
            "description": "",
            "description_tooltip": null,
            "layout": "IPY_MODEL_e8f821c993d74a85ba10ea21dfa6d3bd",
            "placeholder": "​",
            "style": "IPY_MODEL_cd8d8d346bab461d9cccaed423a4dc51",
            "value": " 5/5 [00:44&lt;00:00,  8.79s/it]"
          }
        },
        "0e35d9ff8303444c85feb27aaf622e09": {
          "model_module": "@jupyter-widgets/base",
          "model_name": "LayoutModel",
          "model_module_version": "1.2.0",
          "state": {
            "_model_module": "@jupyter-widgets/base",
            "_model_module_version": "1.2.0",
            "_model_name": "LayoutModel",
            "_view_count": null,
            "_view_module": "@jupyter-widgets/base",
            "_view_module_version": "1.2.0",
            "_view_name": "LayoutView",
            "align_content": null,
            "align_items": null,
            "align_self": null,
            "border": null,
            "bottom": null,
            "display": null,
            "flex": null,
            "flex_flow": null,
            "grid_area": null,
            "grid_auto_columns": null,
            "grid_auto_flow": null,
            "grid_auto_rows": null,
            "grid_column": null,
            "grid_gap": null,
            "grid_row": null,
            "grid_template_areas": null,
            "grid_template_columns": null,
            "grid_template_rows": null,
            "height": null,
            "justify_content": null,
            "justify_items": null,
            "left": null,
            "margin": null,
            "max_height": null,
            "max_width": null,
            "min_height": null,
            "min_width": null,
            "object_fit": null,
            "object_position": null,
            "order": null,
            "overflow": null,
            "overflow_x": null,
            "overflow_y": null,
            "padding": null,
            "right": null,
            "top": null,
            "visibility": null,
            "width": null
          }
        },
        "1979ed947fe24ac095f17e8afc65bdd3": {
          "model_module": "@jupyter-widgets/base",
          "model_name": "LayoutModel",
          "model_module_version": "1.2.0",
          "state": {
            "_model_module": "@jupyter-widgets/base",
            "_model_module_version": "1.2.0",
            "_model_name": "LayoutModel",
            "_view_count": null,
            "_view_module": "@jupyter-widgets/base",
            "_view_module_version": "1.2.0",
            "_view_name": "LayoutView",
            "align_content": null,
            "align_items": null,
            "align_self": null,
            "border": null,
            "bottom": null,
            "display": null,
            "flex": null,
            "flex_flow": null,
            "grid_area": null,
            "grid_auto_columns": null,
            "grid_auto_flow": null,
            "grid_auto_rows": null,
            "grid_column": null,
            "grid_gap": null,
            "grid_row": null,
            "grid_template_areas": null,
            "grid_template_columns": null,
            "grid_template_rows": null,
            "height": null,
            "justify_content": null,
            "justify_items": null,
            "left": null,
            "margin": null,
            "max_height": null,
            "max_width": null,
            "min_height": null,
            "min_width": null,
            "object_fit": null,
            "object_position": null,
            "order": null,
            "overflow": null,
            "overflow_x": null,
            "overflow_y": null,
            "padding": null,
            "right": null,
            "top": null,
            "visibility": null,
            "width": null
          }
        },
        "a8742693672e4c04a539239b1dae62d3": {
          "model_module": "@jupyter-widgets/controls",
          "model_name": "DescriptionStyleModel",
          "model_module_version": "1.5.0",
          "state": {
            "_model_module": "@jupyter-widgets/controls",
            "_model_module_version": "1.5.0",
            "_model_name": "DescriptionStyleModel",
            "_view_count": null,
            "_view_module": "@jupyter-widgets/base",
            "_view_module_version": "1.2.0",
            "_view_name": "StyleView",
            "description_width": ""
          }
        },
        "10040b85660047c297b654a1e1a610ea": {
          "model_module": "@jupyter-widgets/base",
          "model_name": "LayoutModel",
          "model_module_version": "1.2.0",
          "state": {
            "_model_module": "@jupyter-widgets/base",
            "_model_module_version": "1.2.0",
            "_model_name": "LayoutModel",
            "_view_count": null,
            "_view_module": "@jupyter-widgets/base",
            "_view_module_version": "1.2.0",
            "_view_name": "LayoutView",
            "align_content": null,
            "align_items": null,
            "align_self": null,
            "border": null,
            "bottom": null,
            "display": null,
            "flex": null,
            "flex_flow": null,
            "grid_area": null,
            "grid_auto_columns": null,
            "grid_auto_flow": null,
            "grid_auto_rows": null,
            "grid_column": null,
            "grid_gap": null,
            "grid_row": null,
            "grid_template_areas": null,
            "grid_template_columns": null,
            "grid_template_rows": null,
            "height": null,
            "justify_content": null,
            "justify_items": null,
            "left": null,
            "margin": null,
            "max_height": null,
            "max_width": null,
            "min_height": null,
            "min_width": null,
            "object_fit": null,
            "object_position": null,
            "order": null,
            "overflow": null,
            "overflow_x": null,
            "overflow_y": null,
            "padding": null,
            "right": null,
            "top": null,
            "visibility": null,
            "width": null
          }
        },
        "d60cf938e8fa42a9b329ee4cd674835f": {
          "model_module": "@jupyter-widgets/controls",
          "model_name": "ProgressStyleModel",
          "model_module_version": "1.5.0",
          "state": {
            "_model_module": "@jupyter-widgets/controls",
            "_model_module_version": "1.5.0",
            "_model_name": "ProgressStyleModel",
            "_view_count": null,
            "_view_module": "@jupyter-widgets/base",
            "_view_module_version": "1.2.0",
            "_view_name": "StyleView",
            "bar_color": null,
            "description_width": ""
          }
        },
        "e8f821c993d74a85ba10ea21dfa6d3bd": {
          "model_module": "@jupyter-widgets/base",
          "model_name": "LayoutModel",
          "model_module_version": "1.2.0",
          "state": {
            "_model_module": "@jupyter-widgets/base",
            "_model_module_version": "1.2.0",
            "_model_name": "LayoutModel",
            "_view_count": null,
            "_view_module": "@jupyter-widgets/base",
            "_view_module_version": "1.2.0",
            "_view_name": "LayoutView",
            "align_content": null,
            "align_items": null,
            "align_self": null,
            "border": null,
            "bottom": null,
            "display": null,
            "flex": null,
            "flex_flow": null,
            "grid_area": null,
            "grid_auto_columns": null,
            "grid_auto_flow": null,
            "grid_auto_rows": null,
            "grid_column": null,
            "grid_gap": null,
            "grid_row": null,
            "grid_template_areas": null,
            "grid_template_columns": null,
            "grid_template_rows": null,
            "height": null,
            "justify_content": null,
            "justify_items": null,
            "left": null,
            "margin": null,
            "max_height": null,
            "max_width": null,
            "min_height": null,
            "min_width": null,
            "object_fit": null,
            "object_position": null,
            "order": null,
            "overflow": null,
            "overflow_x": null,
            "overflow_y": null,
            "padding": null,
            "right": null,
            "top": null,
            "visibility": null,
            "width": null
          }
        },
        "cd8d8d346bab461d9cccaed423a4dc51": {
          "model_module": "@jupyter-widgets/controls",
          "model_name": "DescriptionStyleModel",
          "model_module_version": "1.5.0",
          "state": {
            "_model_module": "@jupyter-widgets/controls",
            "_model_module_version": "1.5.0",
            "_model_name": "DescriptionStyleModel",
            "_view_count": null,
            "_view_module": "@jupyter-widgets/base",
            "_view_module_version": "1.2.0",
            "_view_name": "StyleView",
            "description_width": ""
          }
        },
        "ea67ec43b7704694879ff0e100854a95": {
          "model_module": "@jupyter-widgets/controls",
          "model_name": "HBoxModel",
          "model_module_version": "1.5.0",
          "state": {
            "_dom_classes": [],
            "_model_module": "@jupyter-widgets/controls",
            "_model_module_version": "1.5.0",
            "_model_name": "HBoxModel",
            "_view_count": null,
            "_view_module": "@jupyter-widgets/controls",
            "_view_module_version": "1.5.0",
            "_view_name": "HBoxView",
            "box_style": "",
            "children": [
              "IPY_MODEL_ac91544df32341e082eb4aabf9b8485f",
              "IPY_MODEL_58dc7089fd0e457789513e045cfe5be5",
              "IPY_MODEL_bd5fe0ebb13e41b983ec4349f1fedebd"
            ],
            "layout": "IPY_MODEL_e706fcd3fa5d436b816c95ee16484c70"
          }
        },
        "ac91544df32341e082eb4aabf9b8485f": {
          "model_module": "@jupyter-widgets/controls",
          "model_name": "HTMLModel",
          "model_module_version": "1.5.0",
          "state": {
            "_dom_classes": [],
            "_model_module": "@jupyter-widgets/controls",
            "_model_module_version": "1.5.0",
            "_model_name": "HTMLModel",
            "_view_count": null,
            "_view_module": "@jupyter-widgets/controls",
            "_view_module_version": "1.5.0",
            "_view_name": "HTMLView",
            "description": "",
            "description_tooltip": null,
            "layout": "IPY_MODEL_39608ccdf3964398aff91fac221b706f",
            "placeholder": "​",
            "style": "IPY_MODEL_7e7f0686080b4a4eb665b7b917568b03",
            "value": "100%"
          }
        },
        "58dc7089fd0e457789513e045cfe5be5": {
          "model_module": "@jupyter-widgets/controls",
          "model_name": "FloatProgressModel",
          "model_module_version": "1.5.0",
          "state": {
            "_dom_classes": [],
            "_model_module": "@jupyter-widgets/controls",
            "_model_module_version": "1.5.0",
            "_model_name": "FloatProgressModel",
            "_view_count": null,
            "_view_module": "@jupyter-widgets/controls",
            "_view_module_version": "1.5.0",
            "_view_name": "ProgressView",
            "bar_style": "success",
            "description": "",
            "description_tooltip": null,
            "layout": "IPY_MODEL_69efc35aac9f47569a34bdfaf048ee06",
            "max": 5,
            "min": 0,
            "orientation": "horizontal",
            "style": "IPY_MODEL_eee19bbea44949daadd0b270a5da6f96",
            "value": 5
          }
        },
        "bd5fe0ebb13e41b983ec4349f1fedebd": {
          "model_module": "@jupyter-widgets/controls",
          "model_name": "HTMLModel",
          "model_module_version": "1.5.0",
          "state": {
            "_dom_classes": [],
            "_model_module": "@jupyter-widgets/controls",
            "_model_module_version": "1.5.0",
            "_model_name": "HTMLModel",
            "_view_count": null,
            "_view_module": "@jupyter-widgets/controls",
            "_view_module_version": "1.5.0",
            "_view_name": "HTMLView",
            "description": "",
            "description_tooltip": null,
            "layout": "IPY_MODEL_5466f844334e47adbbd6eb244ff1e99e",
            "placeholder": "​",
            "style": "IPY_MODEL_807915a98ff5439ba108620ee1cb4f2e",
            "value": " 5/5 [00:44&lt;00:00,  9.07s/it]"
          }
        },
        "e706fcd3fa5d436b816c95ee16484c70": {
          "model_module": "@jupyter-widgets/base",
          "model_name": "LayoutModel",
          "model_module_version": "1.2.0",
          "state": {
            "_model_module": "@jupyter-widgets/base",
            "_model_module_version": "1.2.0",
            "_model_name": "LayoutModel",
            "_view_count": null,
            "_view_module": "@jupyter-widgets/base",
            "_view_module_version": "1.2.0",
            "_view_name": "LayoutView",
            "align_content": null,
            "align_items": null,
            "align_self": null,
            "border": null,
            "bottom": null,
            "display": null,
            "flex": null,
            "flex_flow": null,
            "grid_area": null,
            "grid_auto_columns": null,
            "grid_auto_flow": null,
            "grid_auto_rows": null,
            "grid_column": null,
            "grid_gap": null,
            "grid_row": null,
            "grid_template_areas": null,
            "grid_template_columns": null,
            "grid_template_rows": null,
            "height": null,
            "justify_content": null,
            "justify_items": null,
            "left": null,
            "margin": null,
            "max_height": null,
            "max_width": null,
            "min_height": null,
            "min_width": null,
            "object_fit": null,
            "object_position": null,
            "order": null,
            "overflow": null,
            "overflow_x": null,
            "overflow_y": null,
            "padding": null,
            "right": null,
            "top": null,
            "visibility": null,
            "width": null
          }
        },
        "39608ccdf3964398aff91fac221b706f": {
          "model_module": "@jupyter-widgets/base",
          "model_name": "LayoutModel",
          "model_module_version": "1.2.0",
          "state": {
            "_model_module": "@jupyter-widgets/base",
            "_model_module_version": "1.2.0",
            "_model_name": "LayoutModel",
            "_view_count": null,
            "_view_module": "@jupyter-widgets/base",
            "_view_module_version": "1.2.0",
            "_view_name": "LayoutView",
            "align_content": null,
            "align_items": null,
            "align_self": null,
            "border": null,
            "bottom": null,
            "display": null,
            "flex": null,
            "flex_flow": null,
            "grid_area": null,
            "grid_auto_columns": null,
            "grid_auto_flow": null,
            "grid_auto_rows": null,
            "grid_column": null,
            "grid_gap": null,
            "grid_row": null,
            "grid_template_areas": null,
            "grid_template_columns": null,
            "grid_template_rows": null,
            "height": null,
            "justify_content": null,
            "justify_items": null,
            "left": null,
            "margin": null,
            "max_height": null,
            "max_width": null,
            "min_height": null,
            "min_width": null,
            "object_fit": null,
            "object_position": null,
            "order": null,
            "overflow": null,
            "overflow_x": null,
            "overflow_y": null,
            "padding": null,
            "right": null,
            "top": null,
            "visibility": null,
            "width": null
          }
        },
        "7e7f0686080b4a4eb665b7b917568b03": {
          "model_module": "@jupyter-widgets/controls",
          "model_name": "DescriptionStyleModel",
          "model_module_version": "1.5.0",
          "state": {
            "_model_module": "@jupyter-widgets/controls",
            "_model_module_version": "1.5.0",
            "_model_name": "DescriptionStyleModel",
            "_view_count": null,
            "_view_module": "@jupyter-widgets/base",
            "_view_module_version": "1.2.0",
            "_view_name": "StyleView",
            "description_width": ""
          }
        },
        "69efc35aac9f47569a34bdfaf048ee06": {
          "model_module": "@jupyter-widgets/base",
          "model_name": "LayoutModel",
          "model_module_version": "1.2.0",
          "state": {
            "_model_module": "@jupyter-widgets/base",
            "_model_module_version": "1.2.0",
            "_model_name": "LayoutModel",
            "_view_count": null,
            "_view_module": "@jupyter-widgets/base",
            "_view_module_version": "1.2.0",
            "_view_name": "LayoutView",
            "align_content": null,
            "align_items": null,
            "align_self": null,
            "border": null,
            "bottom": null,
            "display": null,
            "flex": null,
            "flex_flow": null,
            "grid_area": null,
            "grid_auto_columns": null,
            "grid_auto_flow": null,
            "grid_auto_rows": null,
            "grid_column": null,
            "grid_gap": null,
            "grid_row": null,
            "grid_template_areas": null,
            "grid_template_columns": null,
            "grid_template_rows": null,
            "height": null,
            "justify_content": null,
            "justify_items": null,
            "left": null,
            "margin": null,
            "max_height": null,
            "max_width": null,
            "min_height": null,
            "min_width": null,
            "object_fit": null,
            "object_position": null,
            "order": null,
            "overflow": null,
            "overflow_x": null,
            "overflow_y": null,
            "padding": null,
            "right": null,
            "top": null,
            "visibility": null,
            "width": null
          }
        },
        "eee19bbea44949daadd0b270a5da6f96": {
          "model_module": "@jupyter-widgets/controls",
          "model_name": "ProgressStyleModel",
          "model_module_version": "1.5.0",
          "state": {
            "_model_module": "@jupyter-widgets/controls",
            "_model_module_version": "1.5.0",
            "_model_name": "ProgressStyleModel",
            "_view_count": null,
            "_view_module": "@jupyter-widgets/base",
            "_view_module_version": "1.2.0",
            "_view_name": "StyleView",
            "bar_color": null,
            "description_width": ""
          }
        },
        "5466f844334e47adbbd6eb244ff1e99e": {
          "model_module": "@jupyter-widgets/base",
          "model_name": "LayoutModel",
          "model_module_version": "1.2.0",
          "state": {
            "_model_module": "@jupyter-widgets/base",
            "_model_module_version": "1.2.0",
            "_model_name": "LayoutModel",
            "_view_count": null,
            "_view_module": "@jupyter-widgets/base",
            "_view_module_version": "1.2.0",
            "_view_name": "LayoutView",
            "align_content": null,
            "align_items": null,
            "align_self": null,
            "border": null,
            "bottom": null,
            "display": null,
            "flex": null,
            "flex_flow": null,
            "grid_area": null,
            "grid_auto_columns": null,
            "grid_auto_flow": null,
            "grid_auto_rows": null,
            "grid_column": null,
            "grid_gap": null,
            "grid_row": null,
            "grid_template_areas": null,
            "grid_template_columns": null,
            "grid_template_rows": null,
            "height": null,
            "justify_content": null,
            "justify_items": null,
            "left": null,
            "margin": null,
            "max_height": null,
            "max_width": null,
            "min_height": null,
            "min_width": null,
            "object_fit": null,
            "object_position": null,
            "order": null,
            "overflow": null,
            "overflow_x": null,
            "overflow_y": null,
            "padding": null,
            "right": null,
            "top": null,
            "visibility": null,
            "width": null
          }
        },
        "807915a98ff5439ba108620ee1cb4f2e": {
          "model_module": "@jupyter-widgets/controls",
          "model_name": "DescriptionStyleModel",
          "model_module_version": "1.5.0",
          "state": {
            "_model_module": "@jupyter-widgets/controls",
            "_model_module_version": "1.5.0",
            "_model_name": "DescriptionStyleModel",
            "_view_count": null,
            "_view_module": "@jupyter-widgets/base",
            "_view_module_version": "1.2.0",
            "_view_name": "StyleView",
            "description_width": ""
          }
        }
      }
    }
  },
  "cells": [
    {
      "cell_type": "markdown",
      "metadata": {
        "id": "view-in-github",
        "colab_type": "text"
      },
      "source": [
        "<a href=\"https://colab.research.google.com/github/jurados/NotesPytorch/blob/main/%5B04%5D_PyTorch_Logistic_Regression.ipynb\" target=\"_parent\"><img src=\"https://colab.research.google.com/assets/colab-badge.svg\" alt=\"Open In Colab\"/></a>"
      ]
    },
    {
      "cell_type": "code",
      "source": [
        "import numpy as np\n",
        "import pandas as pd\n",
        "import matplotlib.pyplot as plt\n",
        "\n",
        "import torch\n",
        "import torch.nn as nn\n",
        "import torch.nn.functional as F\n",
        "from torch.utils.data import random_split\n",
        "# Create DataLoader usint batches\n",
        "from torch.utils.data import DataLoader\n",
        "\n",
        "import torchvision\n",
        "import torchvision.transforms as transform\n",
        "from torchvision.datasets import MNIST\n",
        "\n",
        "from tqdm.auto import tqdm"
      ],
      "metadata": {
        "id": "iRJhk1YPKRFq"
      },
      "execution_count": 35,
      "outputs": []
    },
    {
      "cell_type": "code",
      "source": [
        "# Download training dataset\n",
        "train_dataset = MNIST(root='./', train=True, download=True)"
      ],
      "metadata": {
        "id": "PC83RVSOKsa2",
        "colab": {
          "base_uri": "https://localhost:8080/"
        },
        "outputId": "214682a6-00d3-4e48-eb20-6c624860011b"
      },
      "execution_count": 2,
      "outputs": [
        {
          "output_type": "stream",
          "name": "stdout",
          "text": [
            "Downloading http://yann.lecun.com/exdb/mnist/train-images-idx3-ubyte.gz\n",
            "Failed to download (trying next):\n",
            "HTTP Error 403: Forbidden\n",
            "\n",
            "Downloading https://ossci-datasets.s3.amazonaws.com/mnist/train-images-idx3-ubyte.gz\n",
            "Downloading https://ossci-datasets.s3.amazonaws.com/mnist/train-images-idx3-ubyte.gz to ./MNIST/raw/train-images-idx3-ubyte.gz\n"
          ]
        },
        {
          "output_type": "stream",
          "name": "stderr",
          "text": [
            "100%|██████████| 9912422/9912422 [00:01<00:00, 8653610.93it/s] \n"
          ]
        },
        {
          "output_type": "stream",
          "name": "stdout",
          "text": [
            "Extracting ./MNIST/raw/train-images-idx3-ubyte.gz to ./MNIST/raw\n",
            "\n",
            "Downloading http://yann.lecun.com/exdb/mnist/train-labels-idx1-ubyte.gz\n",
            "Failed to download (trying next):\n",
            "HTTP Error 403: Forbidden\n",
            "\n",
            "Downloading https://ossci-datasets.s3.amazonaws.com/mnist/train-labels-idx1-ubyte.gz\n",
            "Downloading https://ossci-datasets.s3.amazonaws.com/mnist/train-labels-idx1-ubyte.gz to ./MNIST/raw/train-labels-idx1-ubyte.gz\n"
          ]
        },
        {
          "output_type": "stream",
          "name": "stderr",
          "text": [
            "100%|██████████| 28881/28881 [00:00<00:00, 1832030.58it/s]"
          ]
        },
        {
          "output_type": "stream",
          "name": "stdout",
          "text": [
            "Extracting ./MNIST/raw/train-labels-idx1-ubyte.gz to ./MNIST/raw\n",
            "\n",
            "Downloading http://yann.lecun.com/exdb/mnist/t10k-images-idx3-ubyte.gz\n"
          ]
        },
        {
          "output_type": "stream",
          "name": "stderr",
          "text": [
            "\n"
          ]
        },
        {
          "output_type": "stream",
          "name": "stdout",
          "text": [
            "Failed to download (trying next):\n",
            "HTTP Error 403: Forbidden\n",
            "\n",
            "Downloading https://ossci-datasets.s3.amazonaws.com/mnist/t10k-images-idx3-ubyte.gz\n",
            "Downloading https://ossci-datasets.s3.amazonaws.com/mnist/t10k-images-idx3-ubyte.gz to ./MNIST/raw/t10k-images-idx3-ubyte.gz\n"
          ]
        },
        {
          "output_type": "stream",
          "name": "stderr",
          "text": [
            "100%|██████████| 1648877/1648877 [00:00<00:00, 14358420.96it/s]\n"
          ]
        },
        {
          "output_type": "stream",
          "name": "stdout",
          "text": [
            "Extracting ./MNIST/raw/t10k-images-idx3-ubyte.gz to ./MNIST/raw\n",
            "\n",
            "Downloading http://yann.lecun.com/exdb/mnist/t10k-labels-idx1-ubyte.gz\n",
            "Failed to download (trying next):\n",
            "HTTP Error 403: Forbidden\n",
            "\n",
            "Downloading https://ossci-datasets.s3.amazonaws.com/mnist/t10k-labels-idx1-ubyte.gz\n",
            "Downloading https://ossci-datasets.s3.amazonaws.com/mnist/t10k-labels-idx1-ubyte.gz to ./MNIST/raw/t10k-labels-idx1-ubyte.gz\n"
          ]
        },
        {
          "output_type": "stream",
          "name": "stderr",
          "text": [
            "100%|██████████| 4542/4542 [00:00<00:00, 4238159.90it/s]"
          ]
        },
        {
          "output_type": "stream",
          "name": "stdout",
          "text": [
            "Extracting ./MNIST/raw/t10k-labels-idx1-ubyte.gz to ./MNIST/raw\n",
            "\n"
          ]
        },
        {
          "output_type": "stream",
          "name": "stderr",
          "text": [
            "\n"
          ]
        }
      ]
    },
    {
      "cell_type": "code",
      "source": [
        "train_dataset"
      ],
      "metadata": {
        "colab": {
          "base_uri": "https://localhost:8080/"
        },
        "id": "mLDwJdlUK4GI",
        "outputId": "63ce672e-92bb-451a-e115-f32a2278019d"
      },
      "execution_count": 3,
      "outputs": [
        {
          "output_type": "execute_result",
          "data": {
            "text/plain": [
              "Dataset MNIST\n",
              "    Number of datapoints: 60000\n",
              "    Root location: ./\n",
              "    Split: Train"
            ]
          },
          "metadata": {},
          "execution_count": 3
        }
      ]
    },
    {
      "cell_type": "code",
      "source": [
        "len(train_dataset)"
      ],
      "metadata": {
        "colab": {
          "base_uri": "https://localhost:8080/"
        },
        "id": "guf5IfDiKyzp",
        "outputId": "7cdad1fb-5a1e-49f0-a063-519fa9cfe020"
      },
      "execution_count": 4,
      "outputs": [
        {
          "output_type": "execute_result",
          "data": {
            "text/plain": [
              "60000"
            ]
          },
          "metadata": {},
          "execution_count": 4
        }
      ]
    },
    {
      "cell_type": "code",
      "source": [
        "# Download training dataset\n",
        "test_dataset = MNIST(root='./', train=False, download=True)\n",
        "test_dataset"
      ],
      "metadata": {
        "colab": {
          "base_uri": "https://localhost:8080/"
        },
        "id": "r0uixkTVK2X-",
        "outputId": "d973cce4-d8b1-460f-ff11-859b1a634136"
      },
      "execution_count": 5,
      "outputs": [
        {
          "output_type": "execute_result",
          "data": {
            "text/plain": [
              "Dataset MNIST\n",
              "    Number of datapoints: 10000\n",
              "    Root location: ./\n",
              "    Split: Test"
            ]
          },
          "metadata": {},
          "execution_count": 5
        }
      ]
    },
    {
      "cell_type": "code",
      "source": [
        "len(test_dataset)"
      ],
      "metadata": {
        "colab": {
          "base_uri": "https://localhost:8080/"
        },
        "id": "23-R6W6BLkrI",
        "outputId": "fa4a2799-2e75-43c5-9c8a-7b66add9aa3f"
      },
      "execution_count": 6,
      "outputs": [
        {
          "output_type": "execute_result",
          "data": {
            "text/plain": [
              "10000"
            ]
          },
          "metadata": {},
          "execution_count": 6
        }
      ]
    },
    {
      "cell_type": "code",
      "source": [
        "img, label = train_dataset[0]\n",
        "plt.imshow(img, cmap='gray')\n",
        "plt.title(f'Label: {label}')\n",
        "plt.axis(False)"
      ],
      "metadata": {
        "colab": {
          "base_uri": "https://localhost:8080/",
          "height": 445
        },
        "id": "xm9hgJuSLyTe",
        "outputId": "ce8b0fc0-a7ee-4de9-dc3d-fbe1f8fbce8d"
      },
      "execution_count": 7,
      "outputs": [
        {
          "output_type": "execute_result",
          "data": {
            "text/plain": [
              "(-0.5, 27.5, 27.5, -0.5)"
            ]
          },
          "metadata": {},
          "execution_count": 7
        },
        {
          "output_type": "display_data",
          "data": {
            "text/plain": [
              "<Figure size 640x480 with 1 Axes>"
            ],
            "image/png": "[encoded data removed]"
          },
          "metadata": {}
        }
      ]
    },
    {
      "cell_type": "code",
      "source": [
        "# MNIST dataset (images and labels)\n",
        "train_dataset = MNIST(root='./', train=True, transform=transform.ToTensor())"
      ],
      "metadata": {
        "id": "Z78-IiIpMPRT"
      },
      "execution_count": 9,
      "outputs": []
    },
    {
      "cell_type": "code",
      "source": [
        "img, label = train_dataset[0]\n",
        "img.shape, label"
      ],
      "metadata": {
        "colab": {
          "base_uri": "https://localhost:8080/"
        },
        "id": "RXmaF7oxMagV",
        "outputId": "ad8b587c-9c17-4f79-f067-83ca4eda4dbe"
      },
      "execution_count": 10,
      "outputs": [
        {
          "output_type": "execute_result",
          "data": {
            "text/plain": [
              "(torch.Size([1, 28, 28]), 5)"
            ]
          },
          "metadata": {},
          "execution_count": 10
        }
      ]
    },
    {
      "cell_type": "code",
      "source": [
        "28*28*5"
      ],
      "metadata": {
        "colab": {
          "base_uri": "https://localhost:8080/"
        },
        "id": "2wzL0118OCbj",
        "outputId": "01894ffd-1742-42c0-ce5a-2cf6509a586a"
      },
      "execution_count": 11,
      "outputs": [
        {
          "output_type": "execute_result",
          "data": {
            "text/plain": [
              "3920"
            ]
          },
          "metadata": {},
          "execution_count": 11
        }
      ]
    },
    {
      "cell_type": "code",
      "source": [
        "print(img[:,10:15,10:15])\n",
        "print(torch.max(img), torch.min(img))"
      ],
      "metadata": {
        "colab": {
          "base_uri": "https://localhost:8080/"
        },
        "id": "zDa3UVgxM9fj",
        "outputId": "051ebaa8-b303-4afd-be8a-c284fdf70a68"
      },
      "execution_count": 12,
      "outputs": [
        {
          "output_type": "stream",
          "name": "stdout",
          "text": [
            "tensor([[[0.0039, 0.6039, 0.9922, 0.3529, 0.0000],\n",
            "         [0.0000, 0.5451, 0.9922, 0.7451, 0.0078],\n",
            "         [0.0000, 0.0431, 0.7451, 0.9922, 0.2745],\n",
            "         [0.0000, 0.0000, 0.1373, 0.9451, 0.8824],\n",
            "         [0.0000, 0.0000, 0.0000, 0.3176, 0.9412]]])\n",
            "tensor(1.) tensor(0.)\n"
          ]
        }
      ]
    },
    {
      "cell_type": "code",
      "source": [
        "plt.imshow(img[0,10:15,10:15],cmap='gray')\n",
        "plt.axis(False)"
      ],
      "metadata": {
        "id": "_LWqIxHyNKxD",
        "colab": {
          "base_uri": "https://localhost:8080/",
          "height": 423
        },
        "outputId": "c5485755-fc10-4fce-ae77-910f68f49c7b"
      },
      "execution_count": 13,
      "outputs": [
        {
          "output_type": "execute_result",
          "data": {
            "text/plain": [
              "(-0.5, 4.5, 4.5, -0.5)"
            ]
          },
          "metadata": {},
          "execution_count": 13
        },
        {
          "output_type": "display_data",
          "data": {
            "text/plain": [
              "<Figure size 640x480 with 1 Axes>"
            ],
            "image/png": "[encoded data removed]"
          },
          "metadata": {}
        }
      ]
    },
    {
      "cell_type": "markdown",
      "source": [
        "# Training and validation datasets\n",
        "\n",
        "While building real world machine learning models, it is quite common to split the dataset into 3 parts:\n",
        "\n",
        "1. **Training set:** Used to train the model, i.e. compute the loss and adjust the weights of the model using gradient descent.\n",
        "2. **Valdation set:** Used to evaluate the model while training, adjust hyperparameters (leraning rate, etc.) and pick the best version of the model.\n",
        "3. **Test set:** Used to compare different models, or different types of medelling approaches, and report the final accuracy of the model.\n",
        "\n",
        "We can divide using `random_split` method in PyTorch."
      ],
      "metadata": {
        "id": "Rblmu3CZpNsp"
      }
    },
    {
      "cell_type": "code",
      "source": [
        "train_dataset, validation_dataset = random_split(dataset=train_dataset, lengths= [50_000,10_000])\n",
        "len(train_dataset), len(validation_dataset)"
      ],
      "metadata": {
        "colab": {
          "base_uri": "https://localhost:8080/"
        },
        "id": "l1I4ln4yqKXd",
        "outputId": "4289f5f6-a154-48b7-c721-49101e4aa393"
      },
      "execution_count": 15,
      "outputs": [
        {
          "output_type": "execute_result",
          "data": {
            "text/plain": [
              "(50000, 10000)"
            ]
          },
          "metadata": {},
          "execution_count": 15
        }
      ]
    },
    {
      "cell_type": "code",
      "source": [
        "# Create DataLoader usint batches\n",
        "batch_size = 128\n",
        "\n",
        "train_dataloader = DataLoader(dataset=train_dataset, batch_size=batch_size, shuffle=True)\n",
        "val_dataloader = DataLoader(dataset=validation_dataset,batch_size=batch_size)"
      ],
      "metadata": {
        "id": "kyURmHSxqhGW"
      },
      "execution_count": 18,
      "outputs": []
    },
    {
      "cell_type": "markdown",
      "source": [
        "# Model\n",
        "\n",
        "- Since `nn.Linear` expects the each training example to be a vector, each 1x28x28 image tensor needs to be flattened out into a vector of size 784 (28*28), before being passed into the model."
      ],
      "metadata": {
        "id": "EHuJy1wS4ba5"
      }
    },
    {
      "cell_type": "code",
      "source": [
        "input_size = 28*28\n",
        "num_classes = 10\n",
        "\n",
        "# Logistic regression model\n",
        "model = nn.Linear(in_features = input_size, out_features = num_classes)"
      ],
      "metadata": {
        "id": "UuQCCgkq4SS1"
      },
      "execution_count": 20,
      "outputs": []
    },
    {
      "cell_type": "code",
      "source": [
        "model.weight.shape, model.bias.shape"
      ],
      "metadata": {
        "colab": {
          "base_uri": "https://localhost:8080/"
        },
        "id": "9sbFEOw75LjC",
        "outputId": "2f29a794-614e-4c91-e66f-4853c0e5516a"
      },
      "execution_count": 21,
      "outputs": [
        {
          "output_type": "execute_result",
          "data": {
            "text/plain": [
              "(torch.Size([10, 784]), torch.Size([10]))"
            ]
          },
          "metadata": {},
          "execution_count": 21
        }
      ]
    },
    {
      "cell_type": "code",
      "source": [
        "for imgs, labels in train_dataloader:\n",
        "  print(labels)\n",
        "  print(imgs.shape)\n",
        "  outputs = model(imgs)"
      ],
      "metadata": {
        "colab": {
          "base_uri": "https://localhost:8080/",
          "height": 443
        },
        "id": "LAeNyIOW5m93",
        "outputId": "e5c8c7e4-8e13-44e5-e26b-a8e58abd92eb"
      },
      "execution_count": 22,
      "outputs": [
        {
          "output_type": "stream",
          "name": "stdout",
          "text": [
            "tensor([8, 5, 2, 7, 7, 7, 5, 3, 5, 5, 3, 8, 9, 4, 4, 9, 9, 0, 5, 7, 5, 0, 6, 8,\n",
            "        8, 6, 2, 1, 6, 1, 5, 5, 6, 4, 2, 9, 1, 8, 5, 8, 3, 5, 0, 4, 9, 2, 4, 4,\n",
            "        6, 6, 4, 8, 9, 4, 5, 6, 6, 8, 9, 7, 7, 1, 0, 0, 7, 3, 7, 4, 8, 6, 9, 3,\n",
            "        0, 3, 5, 5, 6, 0, 7, 4, 6, 9, 3, 5, 0, 7, 9, 2, 2, 9, 1, 3, 7, 4, 9, 2,\n",
            "        2, 6, 5, 8, 3, 7, 5, 1, 9, 5, 4, 7, 9, 6, 2, 0, 4, 1, 6, 7, 5, 5, 9, 1,\n",
            "        3, 1, 5, 0, 5, 9, 3, 2])\n",
            "torch.Size([128, 1, 28, 28])\n"
          ]
        },
        {
          "output_type": "error",
          "ename": "RuntimeError",
          "evalue": "mat1 and mat2 shapes cannot be multiplied (3584x28 and 784x10)",
          "traceback": [
            "\u001b[0;31m---------------------------------------------------------------------------\u001b[0m",
            "\u001b[0;31mRuntimeError\u001b[0m                              Traceback (most recent call last)",
            "\u001b[0;32m<ipython-input-22-d80038f13427>\u001b[0m in \u001b[0;36m<cell line: 1>\u001b[0;34m()\u001b[0m\n\u001b[1;32m      2\u001b[0m   \u001b[0mprint\u001b[0m\u001b[0;34m(\u001b[0m\u001b[0mlabels\u001b[0m\u001b[0;34m)\u001b[0m\u001b[0;34m\u001b[0m\u001b[0;34m\u001b[0m\u001b[0m\n\u001b[1;32m      3\u001b[0m   \u001b[0mprint\u001b[0m\u001b[0;34m(\u001b[0m\u001b[0mimgs\u001b[0m\u001b[0;34m.\u001b[0m\u001b[0mshape\u001b[0m\u001b[0;34m)\u001b[0m\u001b[0;34m\u001b[0m\u001b[0;34m\u001b[0m\u001b[0m\n\u001b[0;32m----> 4\u001b[0;31m   \u001b[0moutputs\u001b[0m \u001b[0;34m=\u001b[0m \u001b[0mmodel\u001b[0m\u001b[0;34m(\u001b[0m\u001b[0mimgs\u001b[0m\u001b[0;34m)\u001b[0m\u001b[0;34m\u001b[0m\u001b[0;34m\u001b[0m\u001b[0m\n\u001b[0m",
            "\u001b[0;32m/usr/local/lib/python3.10/dist-packages/torch/nn/modules/module.py\u001b[0m in \u001b[0;36m_wrapped_call_impl\u001b[0;34m(self, *args, **kwargs)\u001b[0m\n\u001b[1;32m   1530\u001b[0m             \u001b[0;32mreturn\u001b[0m \u001b[0mself\u001b[0m\u001b[0;34m.\u001b[0m\u001b[0m_compiled_call_impl\u001b[0m\u001b[0;34m(\u001b[0m\u001b[0;34m*\u001b[0m\u001b[0margs\u001b[0m\u001b[0;34m,\u001b[0m \u001b[0;34m**\u001b[0m\u001b[0mkwargs\u001b[0m\u001b[0;34m)\u001b[0m  \u001b[0;31m# type: ignore[misc]\u001b[0m\u001b[0;34m\u001b[0m\u001b[0;34m\u001b[0m\u001b[0m\n\u001b[1;32m   1531\u001b[0m         \u001b[0;32melse\u001b[0m\u001b[0;34m:\u001b[0m\u001b[0;34m\u001b[0m\u001b[0;34m\u001b[0m\u001b[0m\n\u001b[0;32m-> 1532\u001b[0;31m             \u001b[0;32mreturn\u001b[0m \u001b[0mself\u001b[0m\u001b[0;34m.\u001b[0m\u001b[0m_call_impl\u001b[0m\u001b[0;34m(\u001b[0m\u001b[0;34m*\u001b[0m\u001b[0margs\u001b[0m\u001b[0;34m,\u001b[0m \u001b[0;34m**\u001b[0m\u001b[0mkwargs\u001b[0m\u001b[0;34m)\u001b[0m\u001b[0;34m\u001b[0m\u001b[0;34m\u001b[0m\u001b[0m\n\u001b[0m\u001b[1;32m   1533\u001b[0m \u001b[0;34m\u001b[0m\u001b[0m\n\u001b[1;32m   1534\u001b[0m     \u001b[0;32mdef\u001b[0m \u001b[0m_call_impl\u001b[0m\u001b[0;34m(\u001b[0m\u001b[0mself\u001b[0m\u001b[0;34m,\u001b[0m \u001b[0;34m*\u001b[0m\u001b[0margs\u001b[0m\u001b[0;34m,\u001b[0m \u001b[0;34m**\u001b[0m\u001b[0mkwargs\u001b[0m\u001b[0;34m)\u001b[0m\u001b[0;34m:\u001b[0m\u001b[0;34m\u001b[0m\u001b[0;34m\u001b[0m\u001b[0m\n",
            "\u001b[0;32m/usr/local/lib/python3.10/dist-packages/torch/nn/modules/module.py\u001b[0m in \u001b[0;36m_call_impl\u001b[0;34m(self, *args, **kwargs)\u001b[0m\n\u001b[1;32m   1539\u001b[0m                 \u001b[0;32mor\u001b[0m \u001b[0m_global_backward_pre_hooks\u001b[0m \u001b[0;32mor\u001b[0m \u001b[0m_global_backward_hooks\u001b[0m\u001b[0;34m\u001b[0m\u001b[0;34m\u001b[0m\u001b[0m\n\u001b[1;32m   1540\u001b[0m                 or _global_forward_hooks or _global_forward_pre_hooks):\n\u001b[0;32m-> 1541\u001b[0;31m             \u001b[0;32mreturn\u001b[0m \u001b[0mforward_call\u001b[0m\u001b[0;34m(\u001b[0m\u001b[0;34m*\u001b[0m\u001b[0margs\u001b[0m\u001b[0;34m,\u001b[0m \u001b[0;34m**\u001b[0m\u001b[0mkwargs\u001b[0m\u001b[0;34m)\u001b[0m\u001b[0;34m\u001b[0m\u001b[0;34m\u001b[0m\u001b[0m\n\u001b[0m\u001b[1;32m   1542\u001b[0m \u001b[0;34m\u001b[0m\u001b[0m\n\u001b[1;32m   1543\u001b[0m         \u001b[0;32mtry\u001b[0m\u001b[0;34m:\u001b[0m\u001b[0;34m\u001b[0m\u001b[0;34m\u001b[0m\u001b[0m\n",
            "\u001b[0;32m/usr/local/lib/python3.10/dist-packages/torch/nn/modules/linear.py\u001b[0m in \u001b[0;36mforward\u001b[0;34m(self, input)\u001b[0m\n\u001b[1;32m    114\u001b[0m \u001b[0;34m\u001b[0m\u001b[0m\n\u001b[1;32m    115\u001b[0m     \u001b[0;32mdef\u001b[0m \u001b[0mforward\u001b[0m\u001b[0;34m(\u001b[0m\u001b[0mself\u001b[0m\u001b[0;34m,\u001b[0m \u001b[0minput\u001b[0m\u001b[0;34m:\u001b[0m \u001b[0mTensor\u001b[0m\u001b[0;34m)\u001b[0m \u001b[0;34m->\u001b[0m \u001b[0mTensor\u001b[0m\u001b[0;34m:\u001b[0m\u001b[0;34m\u001b[0m\u001b[0;34m\u001b[0m\u001b[0m\n\u001b[0;32m--> 116\u001b[0;31m         \u001b[0;32mreturn\u001b[0m \u001b[0mF\u001b[0m\u001b[0;34m.\u001b[0m\u001b[0mlinear\u001b[0m\u001b[0;34m(\u001b[0m\u001b[0minput\u001b[0m\u001b[0;34m,\u001b[0m \u001b[0mself\u001b[0m\u001b[0;34m.\u001b[0m\u001b[0mweight\u001b[0m\u001b[0;34m,\u001b[0m \u001b[0mself\u001b[0m\u001b[0;34m.\u001b[0m\u001b[0mbias\u001b[0m\u001b[0;34m)\u001b[0m\u001b[0;34m\u001b[0m\u001b[0;34m\u001b[0m\u001b[0m\n\u001b[0m\u001b[1;32m    117\u001b[0m \u001b[0;34m\u001b[0m\u001b[0m\n\u001b[1;32m    118\u001b[0m     \u001b[0;32mdef\u001b[0m \u001b[0mextra_repr\u001b[0m\u001b[0;34m(\u001b[0m\u001b[0mself\u001b[0m\u001b[0;34m)\u001b[0m \u001b[0;34m->\u001b[0m \u001b[0mstr\u001b[0m\u001b[0;34m:\u001b[0m\u001b[0;34m\u001b[0m\u001b[0;34m\u001b[0m\u001b[0m\n",
            "\u001b[0;31mRuntimeError\u001b[0m: mat1 and mat2 shapes cannot be multiplied (3584x28 and 784x10)"
          ]
        }
      ]
    },
    {
      "cell_type": "code",
      "source": [
        "class MNISTModelV1(nn.Module):\n",
        "  def __init__(self):\n",
        "    super().__init__()\n",
        "    self.linear = nn.Linear(in_features = input_size, out_features = num_classes)\n",
        "\n",
        "  def forward(self,x):\n",
        "    x = x.reshape(-1,784)\n",
        "    out = self.linear(x)\n",
        "    return out\n",
        "\n",
        "model_v1 = MNISTModelV1()\n",
        "model_v1"
      ],
      "metadata": {
        "colab": {
          "base_uri": "https://localhost:8080/"
        },
        "id": "WFLLqaKn5zMr",
        "outputId": "71018179-21e7-4707-ba1d-7410d32309e4"
      },
      "execution_count": 23,
      "outputs": [
        {
          "output_type": "execute_result",
          "data": {
            "text/plain": [
              "MNISTModelV1(\n",
              "  (linear): Linear(in_features=784, out_features=10, bias=True)\n",
              ")"
            ]
          },
          "metadata": {},
          "execution_count": 23
        }
      ]
    },
    {
      "cell_type": "code",
      "source": [
        "list(model_v1.parameters())"
      ],
      "metadata": {
        "colab": {
          "base_uri": "https://localhost:8080/"
        },
        "id": "D4LFvniaQvO-",
        "outputId": "a90ca83c-e7a2-49e6-e6b5-39ff68297a2b"
      },
      "execution_count": 24,
      "outputs": [
        {
          "output_type": "execute_result",
          "data": {
            "text/plain": [
              "[Parameter containing:\n",
              " tensor([[ 0.0070, -0.0322, -0.0284,  ...,  0.0131,  0.0253,  0.0329],\n",
              "         [ 0.0051, -0.0044, -0.0032,  ..., -0.0114,  0.0113,  0.0034],\n",
              "         [ 0.0175, -0.0209, -0.0103,  ..., -0.0093,  0.0274, -0.0086],\n",
              "         ...,\n",
              "         [-0.0006,  0.0066,  0.0041,  ..., -0.0022,  0.0094,  0.0033],\n",
              "         [-0.0043, -0.0177,  0.0080,  ..., -0.0322, -0.0147,  0.0071],\n",
              "         [-0.0222, -0.0356,  0.0101,  ...,  0.0210,  0.0246,  0.0196]],\n",
              "        requires_grad=True),\n",
              " Parameter containing:\n",
              " tensor([ 0.0154,  0.0174,  0.0077,  0.0219, -0.0072, -0.0147, -0.0231, -0.0038,\n",
              "          0.0264,  0.0014], requires_grad=True)]"
            ]
          },
          "metadata": {},
          "execution_count": 24
        }
      ]
    },
    {
      "cell_type": "code",
      "source": [
        "for img, labels in train_dataloader:\n",
        "  print(f'Image shape: {img.shape}')\n",
        "  outputs = model_v1(img)\n",
        "\n",
        "print(f'Output shape: {outputs.shape}')\n",
        "print(f'Sample outputs: \\n {outputs[:2].data}')"
      ],
      "metadata": {
        "colab": {
          "base_uri": "https://localhost:8080/"
        },
        "id": "55GBR2oVRBBN",
        "outputId": "495a8103-c471-4fd7-9447-916aefe94ada"
      },
      "execution_count": 25,
      "outputs": [
        {
          "output_type": "stream",
          "name": "stdout",
          "text": [
            "Image shape: torch.Size([128, 1, 28, 28])\n",
            "Image shape: torch.Size([128, 1, 28, 28])\n",
            "Image shape: torch.Size([128, 1, 28, 28])\n",
            "Image shape: torch.Size([128, 1, 28, 28])\n",
            "Image shape: torch.Size([128, 1, 28, 28])\n",
            "Image shape: torch.Size([128, 1, 28, 28])\n",
            "Image shape: torch.Size([128, 1, 28, 28])\n",
            "Image shape: torch.Size([128, 1, 28, 28])\n",
            "Image shape: torch.Size([128, 1, 28, 28])\n",
            "Image shape: torch.Size([128, 1, 28, 28])\n",
            "Image shape: torch.Size([128, 1, 28, 28])\n",
            "Image shape: torch.Size([128, 1, 28, 28])\n",
            "Image shape: torch.Size([128, 1, 28, 28])\n",
            "Image shape: torch.Size([128, 1, 28, 28])\n",
            "Image shape: torch.Size([128, 1, 28, 28])\n",
            "Image shape: torch.Size([128, 1, 28, 28])\n",
            "Image shape: torch.Size([128, 1, 28, 28])\n",
            "Image shape: torch.Size([128, 1, 28, 28])\n",
            "Image shape: torch.Size([128, 1, 28, 28])\n",
            "Image shape: torch.Size([128, 1, 28, 28])\n",
            "Image shape: torch.Size([128, 1, 28, 28])\n",
            "Image shape: torch.Size([128, 1, 28, 28])\n",
            "Image shape: torch.Size([128, 1, 28, 28])\n",
            "Image shape: torch.Size([128, 1, 28, 28])\n",
            "Image shape: torch.Size([128, 1, 28, 28])\n",
            "Image shape: torch.Size([128, 1, 28, 28])\n",
            "Image shape: torch.Size([128, 1, 28, 28])\n",
            "Image shape: torch.Size([128, 1, 28, 28])\n",
            "Image shape: torch.Size([128, 1, 28, 28])\n",
            "Image shape: torch.Size([128, 1, 28, 28])\n",
            "Image shape: torch.Size([128, 1, 28, 28])\n",
            "Image shape: torch.Size([128, 1, 28, 28])\n",
            "Image shape: torch.Size([128, 1, 28, 28])\n",
            "Image shape: torch.Size([128, 1, 28, 28])\n",
            "Image shape: torch.Size([128, 1, 28, 28])\n",
            "Image shape: torch.Size([128, 1, 28, 28])\n",
            "Image shape: torch.Size([128, 1, 28, 28])\n",
            "Image shape: torch.Size([128, 1, 28, 28])\n",
            "Image shape: torch.Size([128, 1, 28, 28])\n",
            "Image shape: torch.Size([128, 1, 28, 28])\n",
            "Image shape: torch.Size([128, 1, 28, 28])\n",
            "Image shape: torch.Size([128, 1, 28, 28])\n",
            "Image shape: torch.Size([128, 1, 28, 28])\n",
            "Image shape: torch.Size([128, 1, 28, 28])\n",
            "Image shape: torch.Size([128, 1, 28, 28])\n",
            "Image shape: torch.Size([128, 1, 28, 28])\n",
            "Image shape: torch.Size([128, 1, 28, 28])\n",
            "Image shape: torch.Size([128, 1, 28, 28])\n",
            "Image shape: torch.Size([128, 1, 28, 28])\n",
            "Image shape: torch.Size([128, 1, 28, 28])\n",
            "Image shape: torch.Size([128, 1, 28, 28])\n",
            "Image shape: torch.Size([128, 1, 28, 28])\n",
            "Image shape: torch.Size([128, 1, 28, 28])\n",
            "Image shape: torch.Size([128, 1, 28, 28])\n",
            "Image shape: torch.Size([128, 1, 28, 28])\n",
            "Image shape: torch.Size([128, 1, 28, 28])\n",
            "Image shape: torch.Size([128, 1, 28, 28])\n",
            "Image shape: torch.Size([128, 1, 28, 28])\n",
            "Image shape: torch.Size([128, 1, 28, 28])\n",
            "Image shape: torch.Size([128, 1, 28, 28])\n",
            "Image shape: torch.Size([128, 1, 28, 28])\n",
            "Image shape: torch.Size([128, 1, 28, 28])\n",
            "Image shape: torch.Size([128, 1, 28, 28])\n",
            "Image shape: torch.Size([128, 1, 28, 28])\n",
            "Image shape: torch.Size([128, 1, 28, 28])\n",
            "Image shape: torch.Size([128, 1, 28, 28])\n",
            "Image shape: torch.Size([128, 1, 28, 28])\n",
            "Image shape: torch.Size([128, 1, 28, 28])\n",
            "Image shape: torch.Size([128, 1, 28, 28])\n",
            "Image shape: torch.Size([128, 1, 28, 28])\n",
            "Image shape: torch.Size([128, 1, 28, 28])\n",
            "Image shape: torch.Size([128, 1, 28, 28])\n",
            "Image shape: torch.Size([128, 1, 28, 28])\n",
            "Image shape: torch.Size([128, 1, 28, 28])\n",
            "Image shape: torch.Size([128, 1, 28, 28])\n",
            "Image shape: torch.Size([128, 1, 28, 28])\n",
            "Image shape: torch.Size([128, 1, 28, 28])\n",
            "Image shape: torch.Size([128, 1, 28, 28])\n",
            "Image shape: torch.Size([128, 1, 28, 28])\n",
            "Image shape: torch.Size([128, 1, 28, 28])\n",
            "Image shape: torch.Size([128, 1, 28, 28])\n",
            "Image shape: torch.Size([128, 1, 28, 28])\n",
            "Image shape: torch.Size([128, 1, 28, 28])\n",
            "Image shape: torch.Size([128, 1, 28, 28])\n",
            "Image shape: torch.Size([128, 1, 28, 28])\n",
            "Image shape: torch.Size([128, 1, 28, 28])\n",
            "Image shape: torch.Size([128, 1, 28, 28])\n",
            "Image shape: torch.Size([128, 1, 28, 28])\n",
            "Image shape: torch.Size([128, 1, 28, 28])\n",
            "Image shape: torch.Size([128, 1, 28, 28])\n",
            "Image shape: torch.Size([128, 1, 28, 28])\n",
            "Image shape: torch.Size([128, 1, 28, 28])\n",
            "Image shape: torch.Size([128, 1, 28, 28])\n",
            "Image shape: torch.Size([128, 1, 28, 28])\n",
            "Image shape: torch.Size([128, 1, 28, 28])\n",
            "Image shape: torch.Size([128, 1, 28, 28])\n",
            "Image shape: torch.Size([128, 1, 28, 28])\n",
            "Image shape: torch.Size([128, 1, 28, 28])\n",
            "Image shape: torch.Size([128, 1, 28, 28])\n",
            "Image shape: torch.Size([128, 1, 28, 28])\n",
            "Image shape: torch.Size([128, 1, 28, 28])\n",
            "Image shape: torch.Size([128, 1, 28, 28])\n",
            "Image shape: torch.Size([128, 1, 28, 28])\n",
            "Image shape: torch.Size([128, 1, 28, 28])\n",
            "Image shape: torch.Size([128, 1, 28, 28])\n",
            "Image shape: torch.Size([128, 1, 28, 28])\n",
            "Image shape: torch.Size([128, 1, 28, 28])\n",
            "Image shape: torch.Size([128, 1, 28, 28])\n",
            "Image shape: torch.Size([128, 1, 28, 28])\n",
            "Image shape: torch.Size([128, 1, 28, 28])\n",
            "Image shape: torch.Size([128, 1, 28, 28])\n",
            "Image shape: torch.Size([128, 1, 28, 28])\n",
            "Image shape: torch.Size([128, 1, 28, 28])\n",
            "Image shape: torch.Size([128, 1, 28, 28])\n",
            "Image shape: torch.Size([128, 1, 28, 28])\n",
            "Image shape: torch.Size([128, 1, 28, 28])\n",
            "Image shape: torch.Size([128, 1, 28, 28])\n",
            "Image shape: torch.Size([128, 1, 28, 28])\n",
            "Image shape: torch.Size([128, 1, 28, 28])\n",
            "Image shape: torch.Size([128, 1, 28, 28])\n",
            "Image shape: torch.Size([128, 1, 28, 28])\n",
            "Image shape: torch.Size([128, 1, 28, 28])\n",
            "Image shape: torch.Size([128, 1, 28, 28])\n",
            "Image shape: torch.Size([128, 1, 28, 28])\n",
            "Image shape: torch.Size([128, 1, 28, 28])\n",
            "Image shape: torch.Size([128, 1, 28, 28])\n",
            "Image shape: torch.Size([128, 1, 28, 28])\n",
            "Image shape: torch.Size([128, 1, 28, 28])\n",
            "Image shape: torch.Size([128, 1, 28, 28])\n",
            "Image shape: torch.Size([128, 1, 28, 28])\n",
            "Image shape: torch.Size([128, 1, 28, 28])\n",
            "Image shape: torch.Size([128, 1, 28, 28])\n",
            "Image shape: torch.Size([128, 1, 28, 28])\n",
            "Image shape: torch.Size([128, 1, 28, 28])\n",
            "Image shape: torch.Size([128, 1, 28, 28])\n",
            "Image shape: torch.Size([128, 1, 28, 28])\n",
            "Image shape: torch.Size([128, 1, 28, 28])\n",
            "Image shape: torch.Size([128, 1, 28, 28])\n",
            "Image shape: torch.Size([128, 1, 28, 28])\n",
            "Image shape: torch.Size([128, 1, 28, 28])\n",
            "Image shape: torch.Size([128, 1, 28, 28])\n",
            "Image shape: torch.Size([128, 1, 28, 28])\n",
            "Image shape: torch.Size([128, 1, 28, 28])\n",
            "Image shape: torch.Size([128, 1, 28, 28])\n",
            "Image shape: torch.Size([128, 1, 28, 28])\n",
            "Image shape: torch.Size([128, 1, 28, 28])\n",
            "Image shape: torch.Size([128, 1, 28, 28])\n",
            "Image shape: torch.Size([128, 1, 28, 28])\n",
            "Image shape: torch.Size([128, 1, 28, 28])\n",
            "Image shape: torch.Size([128, 1, 28, 28])\n",
            "Image shape: torch.Size([128, 1, 28, 28])\n",
            "Image shape: torch.Size([128, 1, 28, 28])\n",
            "Image shape: torch.Size([128, 1, 28, 28])\n",
            "Image shape: torch.Size([128, 1, 28, 28])\n",
            "Image shape: torch.Size([128, 1, 28, 28])\n",
            "Image shape: torch.Size([128, 1, 28, 28])\n",
            "Image shape: torch.Size([128, 1, 28, 28])\n",
            "Image shape: torch.Size([128, 1, 28, 28])\n",
            "Image shape: torch.Size([128, 1, 28, 28])\n",
            "Image shape: torch.Size([128, 1, 28, 28])\n",
            "Image shape: torch.Size([128, 1, 28, 28])\n",
            "Image shape: torch.Size([128, 1, 28, 28])\n",
            "Image shape: torch.Size([128, 1, 28, 28])\n",
            "Image shape: torch.Size([128, 1, 28, 28])\n",
            "Image shape: torch.Size([128, 1, 28, 28])\n",
            "Image shape: torch.Size([128, 1, 28, 28])\n",
            "Image shape: torch.Size([128, 1, 28, 28])\n",
            "Image shape: torch.Size([128, 1, 28, 28])\n",
            "Image shape: torch.Size([128, 1, 28, 28])\n",
            "Image shape: torch.Size([128, 1, 28, 28])\n",
            "Image shape: torch.Size([128, 1, 28, 28])\n",
            "Image shape: torch.Size([128, 1, 28, 28])\n",
            "Image shape: torch.Size([128, 1, 28, 28])\n",
            "Image shape: torch.Size([128, 1, 28, 28])\n",
            "Image shape: torch.Size([128, 1, 28, 28])\n",
            "Image shape: torch.Size([128, 1, 28, 28])\n",
            "Image shape: torch.Size([128, 1, 28, 28])\n",
            "Image shape: torch.Size([128, 1, 28, 28])\n",
            "Image shape: torch.Size([128, 1, 28, 28])\n",
            "Image shape: torch.Size([128, 1, 28, 28])\n",
            "Image shape: torch.Size([128, 1, 28, 28])\n",
            "Image shape: torch.Size([128, 1, 28, 28])\n",
            "Image shape: torch.Size([128, 1, 28, 28])\n",
            "Image shape: torch.Size([128, 1, 28, 28])\n",
            "Image shape: torch.Size([128, 1, 28, 28])\n",
            "Image shape: torch.Size([128, 1, 28, 28])\n",
            "Image shape: torch.Size([128, 1, 28, 28])\n",
            "Image shape: torch.Size([128, 1, 28, 28])\n",
            "Image shape: torch.Size([128, 1, 28, 28])\n",
            "Image shape: torch.Size([128, 1, 28, 28])\n",
            "Image shape: torch.Size([128, 1, 28, 28])\n",
            "Image shape: torch.Size([128, 1, 28, 28])\n",
            "Image shape: torch.Size([128, 1, 28, 28])\n",
            "Image shape: torch.Size([128, 1, 28, 28])\n",
            "Image shape: torch.Size([128, 1, 28, 28])\n",
            "Image shape: torch.Size([128, 1, 28, 28])\n",
            "Image shape: torch.Size([128, 1, 28, 28])\n",
            "Image shape: torch.Size([128, 1, 28, 28])\n",
            "Image shape: torch.Size([128, 1, 28, 28])\n",
            "Image shape: torch.Size([128, 1, 28, 28])\n",
            "Image shape: torch.Size([128, 1, 28, 28])\n",
            "Image shape: torch.Size([128, 1, 28, 28])\n",
            "Image shape: torch.Size([128, 1, 28, 28])\n",
            "Image shape: torch.Size([128, 1, 28, 28])\n",
            "Image shape: torch.Size([128, 1, 28, 28])\n",
            "Image shape: torch.Size([128, 1, 28, 28])\n",
            "Image shape: torch.Size([128, 1, 28, 28])\n",
            "Image shape: torch.Size([128, 1, 28, 28])\n",
            "Image shape: torch.Size([128, 1, 28, 28])\n",
            "Image shape: torch.Size([128, 1, 28, 28])\n",
            "Image shape: torch.Size([128, 1, 28, 28])\n",
            "Image shape: torch.Size([128, 1, 28, 28])\n",
            "Image shape: torch.Size([128, 1, 28, 28])\n",
            "Image shape: torch.Size([128, 1, 28, 28])\n",
            "Image shape: torch.Size([128, 1, 28, 28])\n",
            "Image shape: torch.Size([128, 1, 28, 28])\n",
            "Image shape: torch.Size([128, 1, 28, 28])\n",
            "Image shape: torch.Size([128, 1, 28, 28])\n",
            "Image shape: torch.Size([128, 1, 28, 28])\n",
            "Image shape: torch.Size([128, 1, 28, 28])\n",
            "Image shape: torch.Size([128, 1, 28, 28])\n",
            "Image shape: torch.Size([128, 1, 28, 28])\n",
            "Image shape: torch.Size([128, 1, 28, 28])\n",
            "Image shape: torch.Size([128, 1, 28, 28])\n",
            "Image shape: torch.Size([128, 1, 28, 28])\n",
            "Image shape: torch.Size([128, 1, 28, 28])\n",
            "Image shape: torch.Size([128, 1, 28, 28])\n",
            "Image shape: torch.Size([128, 1, 28, 28])\n",
            "Image shape: torch.Size([128, 1, 28, 28])\n",
            "Image shape: torch.Size([128, 1, 28, 28])\n",
            "Image shape: torch.Size([128, 1, 28, 28])\n",
            "Image shape: torch.Size([128, 1, 28, 28])\n",
            "Image shape: torch.Size([128, 1, 28, 28])\n",
            "Image shape: torch.Size([128, 1, 28, 28])\n",
            "Image shape: torch.Size([128, 1, 28, 28])\n",
            "Image shape: torch.Size([128, 1, 28, 28])\n",
            "Image shape: torch.Size([128, 1, 28, 28])\n",
            "Image shape: torch.Size([128, 1, 28, 28])\n",
            "Image shape: torch.Size([128, 1, 28, 28])\n",
            "Image shape: torch.Size([128, 1, 28, 28])\n",
            "Image shape: torch.Size([128, 1, 28, 28])\n",
            "Image shape: torch.Size([128, 1, 28, 28])\n",
            "Image shape: torch.Size([128, 1, 28, 28])\n",
            "Image shape: torch.Size([128, 1, 28, 28])\n",
            "Image shape: torch.Size([128, 1, 28, 28])\n",
            "Image shape: torch.Size([128, 1, 28, 28])\n",
            "Image shape: torch.Size([128, 1, 28, 28])\n",
            "Image shape: torch.Size([128, 1, 28, 28])\n",
            "Image shape: torch.Size([128, 1, 28, 28])\n",
            "Image shape: torch.Size([128, 1, 28, 28])\n",
            "Image shape: torch.Size([128, 1, 28, 28])\n",
            "Image shape: torch.Size([128, 1, 28, 28])\n",
            "Image shape: torch.Size([128, 1, 28, 28])\n",
            "Image shape: torch.Size([128, 1, 28, 28])\n",
            "Image shape: torch.Size([128, 1, 28, 28])\n",
            "Image shape: torch.Size([128, 1, 28, 28])\n",
            "Image shape: torch.Size([128, 1, 28, 28])\n",
            "Image shape: torch.Size([128, 1, 28, 28])\n",
            "Image shape: torch.Size([128, 1, 28, 28])\n",
            "Image shape: torch.Size([128, 1, 28, 28])\n",
            "Image shape: torch.Size([128, 1, 28, 28])\n",
            "Image shape: torch.Size([128, 1, 28, 28])\n",
            "Image shape: torch.Size([128, 1, 28, 28])\n",
            "Image shape: torch.Size([128, 1, 28, 28])\n",
            "Image shape: torch.Size([128, 1, 28, 28])\n",
            "Image shape: torch.Size([128, 1, 28, 28])\n",
            "Image shape: torch.Size([128, 1, 28, 28])\n",
            "Image shape: torch.Size([128, 1, 28, 28])\n",
            "Image shape: torch.Size([128, 1, 28, 28])\n",
            "Image shape: torch.Size([128, 1, 28, 28])\n",
            "Image shape: torch.Size([128, 1, 28, 28])\n",
            "Image shape: torch.Size([128, 1, 28, 28])\n",
            "Image shape: torch.Size([128, 1, 28, 28])\n",
            "Image shape: torch.Size([128, 1, 28, 28])\n",
            "Image shape: torch.Size([128, 1, 28, 28])\n",
            "Image shape: torch.Size([128, 1, 28, 28])\n",
            "Image shape: torch.Size([128, 1, 28, 28])\n",
            "Image shape: torch.Size([128, 1, 28, 28])\n",
            "Image shape: torch.Size([128, 1, 28, 28])\n",
            "Image shape: torch.Size([128, 1, 28, 28])\n",
            "Image shape: torch.Size([128, 1, 28, 28])\n",
            "Image shape: torch.Size([128, 1, 28, 28])\n",
            "Image shape: torch.Size([128, 1, 28, 28])\n",
            "Image shape: torch.Size([128, 1, 28, 28])\n",
            "Image shape: torch.Size([128, 1, 28, 28])\n",
            "Image shape: torch.Size([128, 1, 28, 28])\n",
            "Image shape: torch.Size([128, 1, 28, 28])\n",
            "Image shape: torch.Size([128, 1, 28, 28])\n",
            "Image shape: torch.Size([128, 1, 28, 28])\n",
            "Image shape: torch.Size([128, 1, 28, 28])\n",
            "Image shape: torch.Size([128, 1, 28, 28])\n",
            "Image shape: torch.Size([128, 1, 28, 28])\n",
            "Image shape: torch.Size([128, 1, 28, 28])\n",
            "Image shape: torch.Size([128, 1, 28, 28])\n",
            "Image shape: torch.Size([128, 1, 28, 28])\n",
            "Image shape: torch.Size([128, 1, 28, 28])\n",
            "Image shape: torch.Size([128, 1, 28, 28])\n",
            "Image shape: torch.Size([128, 1, 28, 28])\n",
            "Image shape: torch.Size([128, 1, 28, 28])\n",
            "Image shape: torch.Size([128, 1, 28, 28])\n",
            "Image shape: torch.Size([128, 1, 28, 28])\n",
            "Image shape: torch.Size([128, 1, 28, 28])\n",
            "Image shape: torch.Size([128, 1, 28, 28])\n",
            "Image shape: torch.Size([128, 1, 28, 28])\n",
            "Image shape: torch.Size([128, 1, 28, 28])\n",
            "Image shape: torch.Size([128, 1, 28, 28])\n",
            "Image shape: torch.Size([128, 1, 28, 28])\n",
            "Image shape: torch.Size([128, 1, 28, 28])\n",
            "Image shape: torch.Size([128, 1, 28, 28])\n",
            "Image shape: torch.Size([128, 1, 28, 28])\n",
            "Image shape: torch.Size([128, 1, 28, 28])\n",
            "Image shape: torch.Size([128, 1, 28, 28])\n",
            "Image shape: torch.Size([128, 1, 28, 28])\n",
            "Image shape: torch.Size([128, 1, 28, 28])\n",
            "Image shape: torch.Size([128, 1, 28, 28])\n",
            "Image shape: torch.Size([128, 1, 28, 28])\n",
            "Image shape: torch.Size([128, 1, 28, 28])\n",
            "Image shape: torch.Size([128, 1, 28, 28])\n",
            "Image shape: torch.Size([128, 1, 28, 28])\n",
            "Image shape: torch.Size([128, 1, 28, 28])\n",
            "Image shape: torch.Size([128, 1, 28, 28])\n",
            "Image shape: torch.Size([128, 1, 28, 28])\n",
            "Image shape: torch.Size([128, 1, 28, 28])\n",
            "Image shape: torch.Size([128, 1, 28, 28])\n",
            "Image shape: torch.Size([128, 1, 28, 28])\n",
            "Image shape: torch.Size([128, 1, 28, 28])\n",
            "Image shape: torch.Size([128, 1, 28, 28])\n",
            "Image shape: torch.Size([128, 1, 28, 28])\n",
            "Image shape: torch.Size([128, 1, 28, 28])\n",
            "Image shape: torch.Size([128, 1, 28, 28])\n",
            "Image shape: torch.Size([128, 1, 28, 28])\n",
            "Image shape: torch.Size([128, 1, 28, 28])\n",
            "Image shape: torch.Size([128, 1, 28, 28])\n",
            "Image shape: torch.Size([128, 1, 28, 28])\n",
            "Image shape: torch.Size([128, 1, 28, 28])\n",
            "Image shape: torch.Size([128, 1, 28, 28])\n",
            "Image shape: torch.Size([128, 1, 28, 28])\n",
            "Image shape: torch.Size([128, 1, 28, 28])\n",
            "Image shape: torch.Size([128, 1, 28, 28])\n",
            "Image shape: torch.Size([128, 1, 28, 28])\n",
            "Image shape: torch.Size([128, 1, 28, 28])\n",
            "Image shape: torch.Size([128, 1, 28, 28])\n",
            "Image shape: torch.Size([128, 1, 28, 28])\n",
            "Image shape: torch.Size([128, 1, 28, 28])\n",
            "Image shape: torch.Size([128, 1, 28, 28])\n",
            "Image shape: torch.Size([128, 1, 28, 28])\n",
            "Image shape: torch.Size([128, 1, 28, 28])\n",
            "Image shape: torch.Size([128, 1, 28, 28])\n",
            "Image shape: torch.Size([128, 1, 28, 28])\n",
            "Image shape: torch.Size([128, 1, 28, 28])\n",
            "Image shape: torch.Size([128, 1, 28, 28])\n",
            "Image shape: torch.Size([128, 1, 28, 28])\n",
            "Image shape: torch.Size([128, 1, 28, 28])\n",
            "Image shape: torch.Size([128, 1, 28, 28])\n",
            "Image shape: torch.Size([128, 1, 28, 28])\n",
            "Image shape: torch.Size([128, 1, 28, 28])\n",
            "Image shape: torch.Size([128, 1, 28, 28])\n",
            "Image shape: torch.Size([128, 1, 28, 28])\n",
            "Image shape: torch.Size([128, 1, 28, 28])\n",
            "Image shape: torch.Size([128, 1, 28, 28])\n",
            "Image shape: torch.Size([128, 1, 28, 28])\n",
            "Image shape: torch.Size([128, 1, 28, 28])\n",
            "Image shape: torch.Size([128, 1, 28, 28])\n",
            "Image shape: torch.Size([128, 1, 28, 28])\n",
            "Image shape: torch.Size([128, 1, 28, 28])\n",
            "Image shape: torch.Size([128, 1, 28, 28])\n",
            "Image shape: torch.Size([128, 1, 28, 28])\n",
            "Image shape: torch.Size([128, 1, 28, 28])\n",
            "Image shape: torch.Size([128, 1, 28, 28])\n",
            "Image shape: torch.Size([128, 1, 28, 28])\n",
            "Image shape: torch.Size([128, 1, 28, 28])\n",
            "Image shape: torch.Size([128, 1, 28, 28])\n",
            "Image shape: torch.Size([128, 1, 28, 28])\n",
            "Image shape: torch.Size([128, 1, 28, 28])\n",
            "Image shape: torch.Size([128, 1, 28, 28])\n",
            "Image shape: torch.Size([128, 1, 28, 28])\n",
            "Image shape: torch.Size([128, 1, 28, 28])\n",
            "Image shape: torch.Size([128, 1, 28, 28])\n",
            "Image shape: torch.Size([128, 1, 28, 28])\n",
            "Image shape: torch.Size([128, 1, 28, 28])\n",
            "Image shape: torch.Size([128, 1, 28, 28])\n",
            "Image shape: torch.Size([128, 1, 28, 28])\n",
            "Image shape: torch.Size([128, 1, 28, 28])\n",
            "Image shape: torch.Size([128, 1, 28, 28])\n",
            "Image shape: torch.Size([128, 1, 28, 28])\n",
            "Image shape: torch.Size([128, 1, 28, 28])\n",
            "Image shape: torch.Size([128, 1, 28, 28])\n",
            "Image shape: torch.Size([128, 1, 28, 28])\n",
            "Image shape: torch.Size([128, 1, 28, 28])\n",
            "Image shape: torch.Size([128, 1, 28, 28])\n",
            "Image shape: torch.Size([80, 1, 28, 28])\n",
            "Output shape: torch.Size([80, 10])\n",
            "Sample outputs: \n",
            " tensor([[-0.1844, -0.0678, -0.3644, -0.3510, -0.2128, -0.3808, -0.3099,  0.3153,\n",
            "          0.0200, -0.3692],\n",
            "        [ 0.0160,  0.2060,  0.1567, -0.4677, -0.3191, -0.2037, -0.3507,  0.2780,\n",
            "          0.0333,  0.0139]])\n"
          ]
        }
      ]
    },
    {
      "cell_type": "code",
      "source": [
        "# Apply softmax for each output row\n",
        "probs = F.softmax(outputs, dim=1)\n",
        "\n",
        "# Look at sample probabilities\n",
        "print(f\"Sample probabilities:\\n {probs[:2].data}\")\n",
        "\n",
        "# Add up the probabilities of an output row\n",
        "print(f\"Sum: {torch.sum(probs[0]).item()}\")"
      ],
      "metadata": {
        "colab": {
          "base_uri": "https://localhost:8080/"
        },
        "id": "336-dovISe-r",
        "outputId": "625df3c6-ef69-4508-f602-40b1f5bb7094"
      },
      "execution_count": 27,
      "outputs": [
        {
          "output_type": "stream",
          "name": "stdout",
          "text": [
            "Sample probabilities:\n",
            " tensor([[0.0982, 0.1103, 0.0820, 0.0831, 0.0954, 0.0807, 0.0866, 0.1618, 0.1204,\n",
            "         0.0816],\n",
            "        [0.1052, 0.1273, 0.1211, 0.0649, 0.0753, 0.0845, 0.0729, 0.1368, 0.1071,\n",
            "         0.1050]])\n",
            "Sum: 1.0\n"
          ]
        }
      ]
    },
    {
      "cell_type": "code",
      "source": [
        "max_probs, preds = torch.max(probs, dim=1)\n",
        "preds, max_probs"
      ],
      "metadata": {
        "colab": {
          "base_uri": "https://localhost:8080/"
        },
        "id": "3DWw5_lzTFqc",
        "outputId": "878d850d-99e1-4f62-ad1f-bd339dd868cc"
      },
      "execution_count": 28,
      "outputs": [
        {
          "output_type": "execute_result",
          "data": {
            "text/plain": [
              "(tensor([7, 7, 2, 1, 7, 1, 8, 1, 1, 1, 2, 1, 7, 7, 1, 2, 7, 7, 7, 1, 7, 1, 1, 2,\n",
              "         1, 1, 7, 1, 6, 1, 1, 1, 8, 0, 1, 1, 1, 1, 7, 8, 1, 1, 7, 3, 1, 1, 7, 2,\n",
              "         7, 1, 1, 2, 7, 1, 2, 7, 7, 2, 1, 7, 7, 1, 1, 1, 1, 1, 3, 7, 1, 9, 1, 7,\n",
              "         1, 7, 1, 1, 7, 1, 7, 1]),\n",
              " tensor([0.1618, 0.1368, 0.1224, 0.1408, 0.1448, 0.1595, 0.1247, 0.1253, 0.1314,\n",
              "         0.1452, 0.1139, 0.1713, 0.1141, 0.1377, 0.1358, 0.1280, 0.1553, 0.1227,\n",
              "         0.1464, 0.1320, 0.1758, 0.1734, 0.1249, 0.1162, 0.1479, 0.1563, 0.1446,\n",
              "         0.1295, 0.1319, 0.1427, 0.1174, 0.1349, 0.1194, 0.1380, 0.1311, 0.1333,\n",
              "         0.1278, 0.1179, 0.1436, 0.1261, 0.1778, 0.1384, 0.1415, 0.1219, 0.1889,\n",
              "         0.1529, 0.1693, 0.1204, 0.1247, 0.1407, 0.1583, 0.1249, 0.1496, 0.1206,\n",
              "         0.1192, 0.1236, 0.1274, 0.1353, 0.1853, 0.1509, 0.1281, 0.1501, 0.1419,\n",
              "         0.1528, 0.1787, 0.1327, 0.1174, 0.1524, 0.1155, 0.1125, 0.1618, 0.1332,\n",
              "         0.1561, 0.1653, 0.1499, 0.1317, 0.1631, 0.1387, 0.1382, 0.1210],\n",
              "        grad_fn=<MaxBackward0>))"
            ]
          },
          "metadata": {},
          "execution_count": 28
        }
      ]
    },
    {
      "cell_type": "markdown",
      "source": [
        "# Evaluation metrics and loss function"
      ],
      "metadata": {
        "id": "kHqRPL_PUx6Y"
      }
    },
    {
      "cell_type": "code",
      "source": [
        "def accuracy(outputs, labels):\n",
        "  _ , preds = torch.max(outputs, dim=1)\n",
        "  return torch.tensor(torch.sum(preds == labels).item() / len(preds))"
      ],
      "metadata": {
        "id": "nxPBbPQCVGte"
      },
      "execution_count": 29,
      "outputs": []
    },
    {
      "cell_type": "code",
      "source": [
        "accuracy(outputs, labels)"
      ],
      "metadata": {
        "colab": {
          "base_uri": "https://localhost:8080/"
        },
        "id": "wgWq49PIVTVq",
        "outputId": "0bef4dc6-5f34-40ca-b762-181ddb7bbbfa"
      },
      "execution_count": 30,
      "outputs": [
        {
          "output_type": "execute_result",
          "data": {
            "text/plain": [
              "tensor(0.0375)"
            ]
          },
          "metadata": {},
          "execution_count": 30
        }
      ]
    },
    {
      "cell_type": "code",
      "source": [
        "# Use cross-entropy\n",
        "loss_fn = F.cross_entropy"
      ],
      "metadata": {
        "id": "87R33e8HVYpw"
      },
      "execution_count": 31,
      "outputs": []
    },
    {
      "cell_type": "code",
      "source": [
        "loss = loss_fn(outputs, labels)\n",
        "loss"
      ],
      "metadata": {
        "colab": {
          "base_uri": "https://localhost:8080/"
        },
        "id": "3GmvORMGWDDK",
        "outputId": "be4fb57d-ae68-4818-c629-177406f46ee1"
      },
      "execution_count": 32,
      "outputs": [
        {
          "output_type": "execute_result",
          "data": {
            "text/plain": [
              "tensor(2.3548, grad_fn=<NllLossBackward0>)"
            ]
          },
          "metadata": {},
          "execution_count": 32
        }
      ]
    },
    {
      "cell_type": "markdown",
      "source": [
        "# Training the model\n",
        "\n",
        "The pseudocode of this process is:\n",
        "\n",
        "```\n",
        "for epoch in range(num_epochs):\n",
        "  # Training phase\n",
        "  for batch in train_dataloader:\n",
        "    # Generate predictions\n",
        "    # Calculate loss\n",
        "    # Compute gradients\n",
        "    # Update weights\n",
        "    # Reset gradients\n",
        "\n",
        "  # Validation phase\n",
        "  for batch in val_dataloader:\n",
        "    # Generate predictions\n",
        "    # Calculate loss\n",
        "    # Calculate metrics (accuracy etc.)\n",
        "\n",
        "  # Calculate average validation loss & metrics\n",
        "\n",
        "  # Log epochs, loss & metrics for inspection\n",
        "```"
      ],
      "metadata": {
        "id": "ssPh7pcgfM3Q"
      }
    },
    {
      "cell_type": "code",
      "source": [
        "class MNISTModelV2(nn.Module):\n",
        "  def __init__(self):\n",
        "    super().__init__()\n",
        "    self.linear = nn.Linear(in_features = input_size, out_features = num_classes)\n",
        "\n",
        "  def forward(self,x):\n",
        "    x = x.reshape(-1,784)\n",
        "    out = self.linear(x)\n",
        "    return out\n",
        "\n",
        "  def training_step(self, batch):\n",
        "    imgs, labels = batch\n",
        "    out = self(imgs)                    # Generate predictions\n",
        "    loss = F.cross_entropy(out, labels) # Calculate loss\n",
        "    return loss\n",
        "\n",
        "  def validation_step(self, batch):\n",
        "    imgs, labels = batch\n",
        "    out = self(imgs)                    # Generate predictions\n",
        "    loss = F.cross_entropy(out, labels) # Calculate loss\n",
        "    acc = accuracy(out, labels)         # Calculate accuracy\n",
        "    return {'val_loss':loss, 'val_acc': acc}\n",
        "\n",
        "  def validation_epoch_end(self, outputs):\n",
        "    batch_losses = [x['val_loss'] for x in outputs]\n",
        "    epoch_loss = torch.stack(batch_losses).mean() # Combine losses\n",
        "    batch_accs = [x['val_acc'] for x in outputs]\n",
        "    epoch_acc = torch.stack(batch_accs).mean()    # Combine accuracies\n",
        "    return {'val_loss': epoch_loss.item(), 'val_acc': epoch_acc.item()}\n",
        "\n",
        "  def epoch_end(self, epoch, result):\n",
        "      print(f\"Epoch {epoch+1}: val_loss = {result['val_loss']:.4f}, val_acc = {result['val_acc']:.4f}\")\n",
        "\n",
        "model_v2 = MNISTModelV2()\n",
        "model_v2"
      ],
      "metadata": {
        "colab": {
          "base_uri": "https://localhost:8080/"
        },
        "id": "ZaqeSThZWG7b",
        "outputId": "f0b1462d-62bc-47b5-fbb4-01c617a32952"
      },
      "execution_count": 50,
      "outputs": [
        {
          "output_type": "execute_result",
          "data": {
            "text/plain": [
              "MNISTModelV2(\n",
              "  (linear): Linear(in_features=784, out_features=10, bias=True)\n",
              ")"
            ]
          },
          "metadata": {},
          "execution_count": 50
        }
      ]
    },
    {
      "cell_type": "markdown",
      "source": [
        "Now we'll define an `evaluate` function, which will perform the validation phase, and a `fit` function which will perform the entire training preocess."
      ],
      "metadata": {
        "id": "sQXBlXqf9vaU"
      }
    },
    {
      "cell_type": "code",
      "source": [
        "def evaluate(model, val_dataloader):\n",
        "  outputs = [model.validation_step(batch) for batch in val_dataloader]\n",
        "  return model.validation_epoch_end(outputs)\n",
        "\n",
        "def fit(epochs, lr, model, train_dataloader, val_dataloader, opt_func = torch.optim.SGD):\n",
        "  history = []\n",
        "  optimizer = opt_func(model.parameters(), lr)\n",
        "  for epoch in tqdm(range(epochs)):\n",
        "    # Training phase\n",
        "    for batch in train_dataloader:\n",
        "      loss = model.training_step(batch)\n",
        "      loss.backward()\n",
        "      optimizer.step()\n",
        "      optimizer.zero_grad()\n",
        "    #Validation phase\n",
        "    result = evaluate(model, val_dataloader)\n",
        "    model.epoch_end(epoch,result)\n",
        "    history.append(result)\n",
        "\n",
        "  return history"
      ],
      "metadata": {
        "id": "N3F1T_pK9tGd"
      },
      "execution_count": 45,
      "outputs": []
    },
    {
      "cell_type": "code",
      "source": [
        "result_0 = evaluate(model_v2, val_dataloader)\n",
        "result_0"
      ],
      "metadata": {
        "colab": {
          "base_uri": "https://localhost:8080/"
        },
        "id": "PakyIiES_XYf",
        "outputId": "6745fe6c-5587-480e-fe97-2314982110d8"
      },
      "execution_count": 46,
      "outputs": [
        {
          "output_type": "execute_result",
          "data": {
            "text/plain": [
              "{'val_loss': 2.3378281593322754, 'val_acc': 0.10779272019863129}"
            ]
          },
          "metadata": {},
          "execution_count": 46
        }
      ]
    },
    {
      "cell_type": "code",
      "source": [
        "history_1 = fit(epochs=5, lr=0.01, model=model_v2, train_dataloader=train_dataloader, val_dataloader=val_dataloader)"
      ],
      "metadata": {
        "colab": {
          "base_uri": "https://localhost:8080/",
          "height": 136,
          "referenced_widgets": [
            "c8ff9e45f0e9484d8cc0d16f5a13263c",
            "2a85d75962384f21b24e041ebcb2bee9",
            "f17029b448e64d56a34380825327aa16",
            "88e112602e274e1a933fad0b85ade6f6",
            "933d10078ac84afcae3cba1487d1e7ec",
            "b2533f45f5734ddba50ee3c9ed6df0d4",
            "f6fd671e4c254778bf129d43d7bf48fa",
            "a11c4bc9d98d4eafbb4dbfff6f67a538",
            "2a4c1445f5ee418c8069e775d089fb6f",
            "5f376d05f5784c3e9fa6f3ff6700d708",
            "477387116dc04bfdb70b2c7fc51ff2fa"
          ]
        },
        "id": "VUGk81AN_cM6",
        "outputId": "34459e95-6c4d-486a-9b1c-30504d23e30a"
      },
      "execution_count": 51,
      "outputs": [
        {
          "output_type": "display_data",
          "data": {
            "text/plain": [
              "  0%|          | 0/5 [00:00<?, ?it/s]"
            ],
            "application/vnd.jupyter.widget-view+json": {
              "version_major": 2,
              "version_minor": 0,
              "model_id": "c8ff9e45f0e9484d8cc0d16f5a13263c"
            }
          },
          "metadata": {}
        },
        {
          "output_type": "stream",
          "name": "stdout",
          "text": [
            "Epoch 1: val_loss = 0.8912, val_acc = 0.8318\n",
            "Epoch 2: val_loss = 0.6699, val_acc = 0.8536\n",
            "Epoch 3: val_loss = 0.5794, val_acc = 0.8649\n",
            "Epoch 4: val_loss = 0.5282, val_acc = 0.8733\n",
            "Epoch 5: val_loss = 0.4947, val_acc = 0.8784\n"
          ]
        }
      ]
    },
    {
      "cell_type": "code",
      "source": [
        "history_2 = fit(5, 0.001, model_v2, train_dataloader, val_dataloader)"
      ],
      "metadata": {
        "colab": {
          "base_uri": "https://localhost:8080/",
          "height": 136,
          "referenced_widgets": [
            "49d33c4226c943d082e3270f7a26a00d",
            "4e4f3583ca724419a59c9aca41c6db70",
            "b92e1c17ebcc4f73812c96db69086aae",
            "90a87863ada043cfbceb29d3af8ea3b0",
            "beb984c12ab74db39c7b3008c218085a",
            "fc39d0f007874ad28a6e6db74e20c100",
            "2b47767fbe92406caab09b229d8366c3",
            "3f7c614cdf1e4360812968aca4ef8caf",
            "4073fe788815444a8c67016a0de24783",
            "89857fd59ef94642bc5b6a9758e5267a",
            "e79a79d2f4e7444c8bce90cad1c43470"
          ]
        },
        "id": "wdSWa_mzAj2D",
        "outputId": "6724b1a0-fc14-4cf2-ea09-784fb8cc521c"
      },
      "execution_count": 52,
      "outputs": [
        {
          "output_type": "display_data",
          "data": {
            "text/plain": [
              "  0%|          | 0/5 [00:00<?, ?it/s]"
            ],
            "application/vnd.jupyter.widget-view+json": {
              "version_major": 2,
              "version_minor": 0,
              "model_id": "49d33c4226c943d082e3270f7a26a00d"
            }
          },
          "metadata": {}
        },
        {
          "output_type": "stream",
          "name": "stdout",
          "text": [
            "Epoch 1: val_loss = 0.4920, val_acc = 0.8794\n",
            "Epoch 2: val_loss = 0.4894, val_acc = 0.8798\n",
            "Epoch 3: val_loss = 0.4868, val_acc = 0.8801\n",
            "Epoch 4: val_loss = 0.4843, val_acc = 0.8811\n",
            "Epoch 5: val_loss = 0.4819, val_acc = 0.8816\n"
          ]
        }
      ]
    },
    {
      "cell_type": "code",
      "source": [
        "history_3 = fit(5, 0.001, model_v2, train_dataloader, val_dataloader)"
      ],
      "metadata": {
        "colab": {
          "base_uri": "https://localhost:8080/",
          "height": 136,
          "referenced_widgets": [
            "6041b7e4b2fc4e84b302abd496744291",
            "4d8542421f774befbfc1355b0e510269",
            "35920a16d43f4c6caeceac5c6b766f5e",
            "f18d2dcbeb314b6f862b5b8295c327c3",
            "0e35d9ff8303444c85feb27aaf622e09",
            "1979ed947fe24ac095f17e8afc65bdd3",
            "a8742693672e4c04a539239b1dae62d3",
            "10040b85660047c297b654a1e1a610ea",
            "d60cf938e8fa42a9b329ee4cd674835f",
            "e8f821c993d74a85ba10ea21dfa6d3bd",
            "cd8d8d346bab461d9cccaed423a4dc51"
          ]
        },
        "id": "rMZM3BISBScR",
        "outputId": "1432f05b-1892-4cfc-fe48-6e7f561595ce"
      },
      "execution_count": 54,
      "outputs": [
        {
          "output_type": "display_data",
          "data": {
            "text/plain": [
              "  0%|          | 0/5 [00:00<?, ?it/s]"
            ],
            "application/vnd.jupyter.widget-view+json": {
              "version_major": 2,
              "version_minor": 0,
              "model_id": "6041b7e4b2fc4e84b302abd496744291"
            }
          },
          "metadata": {}
        },
        {
          "output_type": "stream",
          "name": "stdout",
          "text": [
            "Epoch 1: val_loss = 0.4796, val_acc = 0.8817\n",
            "Epoch 2: val_loss = 0.4773, val_acc = 0.8820\n",
            "Epoch 3: val_loss = 0.4751, val_acc = 0.8827\n",
            "Epoch 4: val_loss = 0.4730, val_acc = 0.8831\n",
            "Epoch 5: val_loss = 0.4709, val_acc = 0.8835\n"
          ]
        }
      ]
    },
    {
      "cell_type": "code",
      "source": [
        "history_4 = fit(5, 0.001, model_v2, train_dataloader, val_dataloader)"
      ],
      "metadata": {
        "colab": {
          "base_uri": "https://localhost:8080/",
          "height": 136,
          "referenced_widgets": [
            "ea67ec43b7704694879ff0e100854a95",
            "ac91544df32341e082eb4aabf9b8485f",
            "58dc7089fd0e457789513e045cfe5be5",
            "bd5fe0ebb13e41b983ec4349f1fedebd",
            "e706fcd3fa5d436b816c95ee16484c70",
            "39608ccdf3964398aff91fac221b706f",
            "7e7f0686080b4a4eb665b7b917568b03",
            "69efc35aac9f47569a34bdfaf048ee06",
            "eee19bbea44949daadd0b270a5da6f96",
            "5466f844334e47adbbd6eb244ff1e99e",
            "807915a98ff5439ba108620ee1cb4f2e"
          ]
        },
        "id": "ohEifHNkBSvM",
        "outputId": "e3435549-153f-4dc2-876a-d17cc20ba016"
      },
      "execution_count": 55,
      "outputs": [
        {
          "output_type": "display_data",
          "data": {
            "text/plain": [
              "  0%|          | 0/5 [00:00<?, ?it/s]"
            ],
            "application/vnd.jupyter.widget-view+json": {
              "version_major": 2,
              "version_minor": 0,
              "model_id": "ea67ec43b7704694879ff0e100854a95"
            }
          },
          "metadata": {}
        },
        {
          "output_type": "stream",
          "name": "stdout",
          "text": [
            "Epoch 1: val_loss = 0.4688, val_acc = 0.8838\n",
            "Epoch 2: val_loss = 0.4668, val_acc = 0.8840\n",
            "Epoch 3: val_loss = 0.4649, val_acc = 0.8842\n",
            "Epoch 4: val_loss = 0.4631, val_acc = 0.8845\n",
            "Epoch 5: val_loss = 0.4612, val_acc = 0.8845\n"
          ]
        }
      ]
    },
    {
      "cell_type": "code",
      "source": [
        "history = [result_0] + histoy_1 + history_2 + history_3 + history_4\n",
        "accuracies = [result['val_acc'] for result in history]\n",
        "plt.plot(accuracies, '-x')\n",
        "plt.xlabel('epoch')\n",
        "plt.ylabel('accuracy')\n",
        "plt.title('Accuracy vs. No. of epochs');"
      ],
      "metadata": {
        "colab": {
          "base_uri": "https://localhost:8080/",
          "height": 472
        },
        "id": "S7lwm60_BUBj",
        "outputId": "c1ae2d76-a10c-4180-edcd-204946ba555c"
      },
      "execution_count": 56,
      "outputs": [
        {
          "output_type": "display_data",
          "data": {
            "text/plain": [
              "<Figure size 640x480 with 1 Axes>"
            ],
            "image/png": "[encoded data removed]"
          },
          "metadata": {}
        }
      ]
    }
  ]
}