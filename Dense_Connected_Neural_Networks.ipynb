{
  "cells": [
    {
      "cell_type": "markdown",
      "metadata": {
        "id": "view-in-github",
        "colab_type": "text"
      },
      "source": [
        "<a href=\"https://colab.research.google.com/github/jurados/NotesPytorch/blob/main/Dense_Connected_Neural_Networks.ipynb\" target=\"_parent\"><img src=\"https://colab.research.google.com/assets/colab-badge.svg\" alt=\"Open In Colab\"/></a>"
      ]
    },
    {
      "cell_type": "code",
      "execution_count": null,
      "metadata": {
        "id": "pExV9tXpDb2_"
      },
      "outputs": [],
      "source": [
        "import numpy as np\n",
        "import matplotlib.pyplot as plt\n",
        "\n",
        "import tensorflow as tf\n",
        "from tensorflow import keras"
      ]
    },
    {
      "cell_type": "markdown",
      "metadata": {
        "id": "cxc2SP0vyeY1"
      },
      "source": [
        "# Redes Neuronales Densamente Conectadas"
      ]
    },
    {
      "cell_type": "markdown",
      "source": [
        "**Training:** Se crea o se *aprende* del modelo, a partir de las muestras de entrada que se tienen etiquetadas.\n",
        "\n",
        "**Inference:** Proceso de hacer predicciones mediante la aplicación del modelo ya entrando a muestra de las que no se dispone de etiqueta y que se quiere predecir\n",
        "\n",
        "$$y = wx+b$$\n",
        "\n",
        "donde\n",
        "- $y$ es la etiqueta de una muestra de entrada\n",
        "- $x$ representa las característica de la muestra\n",
        "- $w$ es la pendiente de la recta  y  que se llama weight y es uno de los dos parámetros que tendrá que aprender el modelo durante el proceso de entramiento para poder usarlo lueo para la inferencia.\n",
        "- $b$ es lo que se llama *bias*. Otro de los parámetros que deben ser aprendidos por el modelo.\n",
        "\n",
        "De manera general:\n",
        "\n",
        "$$y = \\sum_i w_i x_i + b = \\mathbf{w}^{T}\\mathbf{X} + b$$\n",
        "\n",
        "os algoritmos de regresión modelan la relación entre las distintas features utilzando una media de error, la loss que se intentará minimizar en un proceso iterativo para poder realizar predicciones.\n",
        "\n",
        "La regresión logística da una salida discreta y la regresión líneal da como salida continua."
      ],
      "metadata": {
        "id": "Aael684Qmh0h"
      }
    },
    {
      "cell_type": "markdown",
      "metadata": {
        "id": "77FxUdGuDOWd"
      },
      "source": []
    },
    {
      "cell_type": "code",
      "execution_count": null,
      "metadata": {
        "colab": {
          "base_uri": "https://localhost:8080/",
          "height": 291
        },
        "id": "xwX3O6h-CDHs",
        "outputId": "65c862cd-f04c-4f7d-fd58-861454589a61"
      },
      "outputs": [
        {
          "data": {
            "image/png": "[encoded data removed]",
            "text/plain": [
              "<Figure size 400x300 with 1 Axes>"
            ]
          },
          "metadata": {},
          "output_type": "display_data"
        }
      ],
      "source": [
        "z = np.linspace(-6,6)\n",
        "y = 1/(1+np.exp(-z))\n",
        "fig, ax = plt.subplots(figsize=(4,3))\n",
        "ax.plot(z,y)\n",
        "ax.grid(True)"
      ]
    },
    {
      "cell_type": "markdown",
      "metadata": {
        "id": "InbyJ96YG8EH"
      },
      "source": [
        "## Redes Neuronales"
      ]
    },
    {
      "cell_type": "markdown",
      "metadata": {
        "id": "o55iccjDG_6y"
      },
      "source": [
        "### Perceptron\n",
        "\n",
        "Es un algoritmo de __clasificación__, también es referenciada en la literatura como _linear threshold unit_ (LTU). Las entradas y salidas ahora son números y cada conexión de entrada está asociada con un _weight_; luego, se aplica una funciín de activación."
      ]
    },
    {
      "cell_type": "markdown",
      "metadata": {
        "id": "0s426UHjIRJT"
      },
      "source": [
        "### Perceptrón Multicapa\n",
        "\n",
        "Una red neural compuesta por varios perceptrones.\n",
        "\n",
        "Cuando todas las neuronas de una capa están conectadas a todas las neuronas de la capa anterior, la capa se denomina capa completamente conectada o capa densa.\n",
        "\n",
        "En la literatura se refiere a un perceptrón multicapa, o _Multi-Layer Perceptron_  (MLP), cuando nos encontramos con redes neuronales que tiene una capa de entrada (_input layer_), una o más capas compuestas por perceptrones llamdas capas ocultas (_hidden layers_), y una capa final con varios perceptrones llamada la capa de salida (_output layer_).\n",
        "\n",
        "\n",
        "\n"
      ]
    },
    {
      "cell_type": "markdown",
      "metadata": {
        "id": "SEdqGiVtShZM"
      },
      "source": [
        "Se refiere a _Deep Learning_ cuando el modelo basado en redes neuronales está compuesto por múltiples capas ocultas."
      ]
    },
    {
      "cell_type": "markdown",
      "metadata": {
        "id": "NQosonY9IRA1"
      },
      "source": [
        "Cuando queremos clasificar con más de dos clases y, en concreto, cuando las clases son exclusivas, debemos usar la función de activación _softmax_ que nos garantiza quet odas las probabilidad estimadas son entre 0 y 1 y que suman 1."
      ]
    },
    {
      "cell_type": "markdown",
      "metadata": {
        "id": "LIlYRzdSV9ZS"
      },
      "source": [
        "## _Softmax_\n",
        "\n",
        "Se basa en calcular las __evidencias__ de que una determinada imagen pertenece a una clase en particular, y luego se convierten estas evidencias en probabilidad de que pertenezca a cada una de las posibles clases."
      ]
    },
    {
      "cell_type": "code",
      "execution_count": null,
      "metadata": {
        "colab": {
          "base_uri": "https://localhost:8080/"
        },
        "id": "sJdqfL2PD-ko",
        "outputId": "f00f9eb0-4dc3-472e-9c3b-f61dfefeac4f"
      },
      "outputs": [
        {
          "name": "stdout",
          "output_type": "stream",
          "text": [
            "Downloading data from https://storage.googleapis.com/tensorflow/tf-keras-datasets/mnist.npz\n",
            "11490434/11490434 [==============================] - 0s 0us/step\n"
          ]
        }
      ],
      "source": [
        "mnist = tf.keras.datasets.mnist\n",
        "\n",
        "(x_train, y_train), (x_test, y_test) = mnist.load_data()"
      ]
    },
    {
      "cell_type": "code",
      "execution_count": null,
      "metadata": {
        "colab": {
          "base_uri": "https://localhost:8080/",
          "height": 448
        },
        "id": "l0yEqTeMDhvS",
        "outputId": "e6735252-5750-463f-f7d9-ab69b1e28b90"
      },
      "outputs": [
        {
          "data": {
            "text/plain": [
              "<matplotlib.image.AxesImage at 0x7a770fa7a8c0>"
            ]
          },
          "execution_count": 10,
          "metadata": {},
          "output_type": "execute_result"
        },
        {
          "data": {
            "image/png": "[encoded data removed]",
            "text/plain": [
              "<Figure size 640x480 with 1 Axes>"
            ]
          },
          "metadata": {},
          "output_type": "display_data"
        }
      ],
      "source": [
        "plt.imshow(x_train[8], cmap=plt.cm.binary)"
      ]
    },
    {
      "cell_type": "code",
      "execution_count": null,
      "metadata": {
        "colab": {
          "base_uri": "https://localhost:8080/"
        },
        "id": "7vlLrLbLqKuL",
        "outputId": "515d1d7d-3a96-4a76-c2cd-284bd590333e"
      },
      "outputs": [
        {
          "name": "stdout",
          "output_type": "stream",
          "text": [
            "[[  0   0   0   0   0   0   0   0   0   0   0   0   0   0   0   0   0   0   0   0   0   0   0   0   0   0   0   0]\n",
            " [  0   0   0   0   0   0   0   0   0   0   0   0   0   0   0   0   0   0   0   0   0   0   0   0   0   0   0   0]\n",
            " [  0   0   0   0   0   0   0   0   0   0   0   0   0   0   0   0   0   0   0   0   0   0   0   0   0   0   0   0]\n",
            " [  0   0   0   0   0   0   0   0   0   0   0   0   0   0   0   0   0   0   0   0   0   0   0   0   0   0   0   0]\n",
            " [  0   0   0   0   0   0   0   0   0   0   0   0   0   0   0   0   0   0   0   0   0   0   0   0   0   0   0   0]\n",
            " [  0   0   0   0   0   0   0   0   0   0   0   0   5  63 197   0   0   0   0   0   0   0   0   0   0   0   0   0]\n",
            " [  0   0   0   0   0   0   0   0   0   0   0   0  20 254 230  24   0   0   0   0   0   0   0   0   0   0   0   0]\n",
            " [  0   0   0   0   0   0   0   0   0   0   0   0  20 254 254  48   0   0   0   0   0   0   0   0   0   0   0   0]\n",
            " [  0   0   0   0   0   0   0   0   0   0   0   0  20 254 255  48   0   0   0   0   0   0   0   0   0   0   0   0]\n",
            " [  0   0   0   0   0   0   0   0   0   0   0   0  20 254 254  57   0   0   0   0   0   0   0   0   0   0   0   0]\n",
            " [  0   0   0   0   0   0   0   0   0   0   0   0  20 254 254 108   0   0   0   0   0   0   0   0   0   0   0   0]\n",
            " [  0   0   0   0   0   0   0   0   0   0   0   0  16 239 254 143   0   0   0   0   0   0   0   0   0   0   0   0]\n",
            " [  0   0   0   0   0   0   0   0   0   0   0   0   0 178 254 143   0   0   0   0   0   0   0   0   0   0   0   0]\n",
            " [  0   0   0   0   0   0   0   0   0   0   0   0   0 178 254 143   0   0   0   0   0   0   0   0   0   0   0   0]\n",
            " [  0   0   0   0   0   0   0   0   0   0   0   0   0 178 254 162   0   0   0   0   0   0   0   0   0   0   0   0]\n",
            " [  0   0   0   0   0   0   0   0   0   0   0   0   0 178 254 240   0   0   0   0   0   0   0   0   0   0   0   0]\n",
            " [  0   0   0   0   0   0   0   0   0   0   0   0   0 113 254 240   0   0   0   0   0   0   0   0   0   0   0   0]\n",
            " [  0   0   0   0   0   0   0   0   0   0   0   0   0  83 254 245  31   0   0   0   0   0   0   0   0   0   0   0]\n",
            " [  0   0   0   0   0   0   0   0   0   0   0   0   0  79 254 246  38   0   0   0   0   0   0   0   0   0   0   0]\n",
            " [  0   0   0   0   0   0   0   0   0   0   0   0   0   0 214 254 150   0   0   0   0   0   0   0   0   0   0   0]\n",
            " [  0   0   0   0   0   0   0   0   0   0   0   0   0   0 144 241   8   0   0   0   0   0   0   0   0   0   0   0]\n",
            " [  0   0   0   0   0   0   0   0   0   0   0   0   0   0 144 240   2   0   0   0   0   0   0   0   0   0   0   0]\n",
            " [  0   0   0   0   0   0   0   0   0   0   0   0   0   0 144 254  82   0   0   0   0   0   0   0   0   0   0   0]\n",
            " [  0   0   0   0   0   0   0   0   0   0   0   0   0   0 230 247  40   0   0   0   0   0   0   0   0   0   0   0]\n",
            " [  0   0   0   0   0   0   0   0   0   0   0   0   0   0 168 209  31   0   0   0   0   0   0   0   0   0   0   0]\n",
            " [  0   0   0   0   0   0   0   0   0   0   0   0   0   0   0   0   0   0   0   0   0   0   0   0   0   0   0   0]\n",
            " [  0   0   0   0   0   0   0   0   0   0   0   0   0   0   0   0   0   0   0   0   0   0   0   0   0   0   0   0]\n",
            " [  0   0   0   0   0   0   0   0   0   0   0   0   0   0   0   0   0   0   0   0   0   0   0   0   0   0   0   0]]\n"
          ]
        }
      ],
      "source": [
        "np.set_printoptions(precision=2, suppress=True, linewidth=120)\n",
        "print(np.matrix(x_train[8]))"
      ]
    },
    {
      "cell_type": "markdown",
      "metadata": {
        "id": "-8qr5jZvxTO8"
      },
      "source": [
        "_softmax_ usa el valor exponencial de las evidencias calculadas y, luego, las normaliza de mode que sumen uno, formando una distribución de probabilidad. La probabilidad de pertenencia a la clase $i$ es:\n",
        "\n",
        "$$\\text{softmax}_i = \\frac{e^{\\text{evidencia}_i}}{\\displaystyle{\\sum_j e^{\\text{evidencia}_j}}}$$\n",
        "\n",
        "Se consigue que la unidad más de evidencia tiene un efecto multiplicador y una unidad menos tiene el efecto invero."
      ]
    },
    {
      "cell_type": "code",
      "execution_count": null,
      "metadata": {
        "colab": {
          "base_uri": "https://localhost:8080/"
        },
        "id": "SwHcHIACqfO0",
        "outputId": "ca8c74c9-01a8-455b-bceb-47d597468550"
      },
      "outputs": [
        {
          "name": "stdout",
          "output_type": "stream",
          "text": [
            "Model: \"sequential\"\n",
            "_________________________________________________________________\n",
            " Layer (type)                Output Shape              Param #   \n",
            "=================================================================\n",
            " FC1 (Dense)                 (None, 10)                7850      \n",
            "                                                                 \n",
            "=================================================================\n",
            "Total params: 7850 (30.66 KB)\n",
            "Trainable params: 7850 (30.66 KB)\n",
            "Non-trainable params: 0 (0.00 Byte)\n",
            "_________________________________________________________________\n",
            "1875/1875 [==============================] - 5s 2ms/step - loss: 0.4680 - accuracy: 0.8787\n",
            "313/313 - 1s - loss: 0.3135 - accuracy: 0.9144 - 558ms/epoch - 2ms/step\n"
          ]
        },
        {
          "data": {
            "text/plain": [
              "[0.3134835958480835, 0.9143999814987183]"
            ]
          },
          "execution_count": 12,
          "metadata": {},
          "output_type": "execute_result"
        }
      ],
      "source": [
        "x_train = x_train.reshape((60000, 784))\n",
        "x_test = x_test.reshape((10000, 784))\n",
        "x_train, x_test = x_train / 255.0, x_test / 255.0\n",
        "\n",
        "model = tf.keras.models.Sequential([\n",
        "  tf.keras.layers.Dense(10, activation='softmax', name=\"FC1\", input_shape=(784,))\n",
        "])\n",
        "model.summary()\n",
        "\n",
        "model.compile(optimizer='adam',\n",
        "              loss='sparse_categorical_crossentropy',\n",
        "              metrics=['accuracy'])\n",
        "\n",
        "model.fit(x_train, y_train, epochs=1)\n",
        "\n",
        "model.evaluate(x_test,  y_test, verbose=2)\n"
      ]
    },
    {
      "cell_type": "code",
      "execution_count": null,
      "metadata": {
        "colab": {
          "base_uri": "https://localhost:8080/",
          "height": 448
        },
        "id": "GbLlxh5lyCIx",
        "outputId": "7a69d36d-7080-4348-eca2-cc58469e2374"
      },
      "outputs": [
        {
          "data": {
            "text/plain": [
              "<matplotlib.image.AxesImage at 0x7a77139e8280>"
            ]
          },
          "execution_count": 14,
          "metadata": {},
          "output_type": "execute_result"
        },
        {
          "data": {
            "image/png": "[encoded data removed]",
            "text/plain": [
              "<Figure size 640x480 with 1 Axes>"
            ]
          },
          "metadata": {},
          "output_type": "display_data"
        }
      ],
      "source": [
        "w = model.get_weights()\n",
        "w = np.asarray(w[0])\n",
        "plt.figure()\n",
        "plt.imshow(w[:,0].reshape([28,28]), cmap=plt.get_cmap('binary'))"
      ]
    },
    {
      "cell_type": "code",
      "execution_count": null,
      "metadata": {
        "colab": {
          "base_uri": "https://localhost:8080/",
          "height": 448
        },
        "id": "rXqXgrV2yI8-",
        "outputId": "11bdc43b-a842-4278-c875-4a398a044bb9"
      },
      "outputs": [
        {
          "data": {
            "text/plain": [
              "<matplotlib.image.AxesImage at 0x7a7713a3f460>"
            ]
          },
          "execution_count": 15,
          "metadata": {},
          "output_type": "execute_result"
        },
        {
          "data": {
            "image/png": "[encoded data removed]",
            "text/plain": [
              "<Figure size 640x480 with 1 Axes>"
            ]
          },
          "metadata": {},
          "output_type": "display_data"
        }
      ],
      "source": [
        "w = model.get_weights()\n",
        "w = np.asarray(w[0])\n",
        "plt.figure()\n",
        "plt.imshow(w[:,3].reshape([28,28]), cmap=plt.get_cmap('seismic_r'))"
      ]
    }
  ],
  "metadata": {
    "colab": {
      "provenance": [],
      "include_colab_link": true
    },
    "kernelspec": {
      "display_name": "Python 3",
      "name": "python3"
    },
    "language_info": {
      "codemirror_mode": {
        "name": "ipython",
        "version": 3
      },
      "file_extension": ".py",
      "mimetype": "text/x-python",
      "name": "python",
      "nbconvert_exporter": "python",
      "pygments_lexer": "ipython3",
      "version": "3.10.12"
    }
  },
  "nbformat": 4,
  "nbformat_minor": 0
}