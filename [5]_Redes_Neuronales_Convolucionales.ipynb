{
  "cells": [
    {
      "cell_type": "markdown",
      "metadata": {
        "id": "view-in-github",
        "colab_type": "text"
      },
      "source": [
        "<a href=\"https://colab.research.google.com/github/jurados/NotesPytorch/blob/main/%5B5%5D_Redes_Neuronales_Convolucionales.ipynb\" target=\"_parent\"><img src=\"https://colab.research.google.com/assets/colab-badge.svg\" alt=\"Open In Colab\"/></a>"
      ]
    },
    {
      "cell_type": "code",
      "execution_count": null,
      "metadata": {
        "id": "pExV9tXpDb2_"
      },
      "outputs": [],
      "source": [
        "import numpy as np\n",
        "import matplotlib.pyplot as plt\n",
        "\n",
        "import tensorflow as tf\n",
        "from tensorflow import keras"
      ]
    },
    {
      "cell_type": "markdown",
      "metadata": {
        "id": "BmreeGeqWghA"
      },
      "source": [
        "# Redes Neuronales Convolucionales\n",
        "\n"
      ]
    },
    {
      "cell_type": "markdown",
      "source": [
        "Una Red Neuronal Convolucional (_Convulational Neural Networks_ con los acrónimos CNN o ConvNets) hacen la suposición explícita de que las entradas son imágenes, cosas que nos permiten codificar ciertas propiedades en la arquitectura para reconocer elementos concretos en las imágenes."
      ],
      "metadata": {
        "id": "FPkBcuG7dNvh"
      }
    },
    {
      "cell_type": "markdown",
      "metadata": {
        "id": "TsK3fYfJWghA"
      },
      "source": [
        "## Componentes Básicos de una Red Neuronal Convolucional\n",
        "\n",
        "**Convolución:** La capa convulacional aprenden patrones locales dentro de la imagen en pequeñas ventadas de dos dimensiones.\n",
        "El propósito principal de una capa convolucional es detectar características o rasgos visuales en las imágenes como aristas, líneas, gotas de color. Una vez aprendida una característica en un punto concreto de la imagen, la puede reconocer después en cualquier parte de la misma.\n",
        "Las capas convulacionales pueden aprender jerarquías espaciales de patrones, preservando así relaciones espaciales.\n",
        "\n",
        "En redes neuronales convolucionales se pueden usar diferentes longitudes de pasos de avance (el parámetro llamado ***stride***).\n",
        "\n",
        "Se puede aplicar una ténica de relleno de ceros alrededor del margen de la imagen para mejorar el resultado del barrido que se realiza con la ventana que se va deslizando. El parámetro para definir este relleno recibe el nombre de ***padding***.\n",
        "\n",
        "Para conectar cada neurona de la capa oculta con las neuronas que le corresponden a la capa de entrada se usa un valor de sesgo _b_ y una matriz de pesos _W_ de tamaño $5 \\times 5$ que se llama _kernel_ o _filter_. El valor de cada punto de la capa oculta corresponde al producto escalar entre el filtro y el conjunto de las neuronas de la capa de entrada.\n",
        "\n",
        "**Pooling:** Se puede traducir como \"agrupación\" que suelen ser aplicadas inmediatamente después de las capas convolucionales. Hacen una simplificación de la información recogida por la capa convolucional y crean una versión condensada de la información contenida en esta capa.\n",
        "La más habitual y que se usa en casi todos es la conocida como _max-pooling_. También se puede utilizar _average-pooling_."
      ]
    },
    {
      "cell_type": "code",
      "source": [
        "from tensorflow.keras import Sequential\n",
        "from tensorflow.keras import layers\n",
        "from tensorflow.keras.layers import Conv2D\n",
        "from tensorflow.keras.layers import MaxPooling2D"
      ],
      "metadata": {
        "id": "vLKfxfF98VPn"
      },
      "execution_count": null,
      "outputs": []
    },
    {
      "cell_type": "code",
      "execution_count": null,
      "metadata": {
        "id": "JAa0pDDdWghA"
      },
      "outputs": [],
      "source": [
        "model = Sequential()\n",
        "model.add(Conv2D(filters=32,kernel_size=(5,5),strides=1,padding='valid',\n",
        "          activation='relu',input_shape=(28,28,1)))\n",
        "model.add(MaxPooling2D(pool_size=(2,2)))"
      ]
    },
    {
      "cell_type": "code",
      "execution_count": null,
      "metadata": {
        "id": "61oecHngWghA",
        "outputId": "6525b2aa-5e3e-4ee2-db32-4a3b9bb72e8b",
        "colab": {
          "base_uri": "https://localhost:8080/"
        }
      },
      "outputs": [
        {
          "output_type": "stream",
          "name": "stdout",
          "text": [
            "Model: \"sequential\"\n",
            "_________________________________________________________________\n",
            " Layer (type)                Output Shape              Param #   \n",
            "=================================================================\n",
            " conv2d (Conv2D)             (None, 24, 24, 32)        832       \n",
            "                                                                 \n",
            " max_pooling2d (MaxPooling2  (None, 12, 12, 32)        0         \n",
            " D)                                                              \n",
            "                                                                 \n",
            "=================================================================\n",
            "Total params: 832 (3.25 KB)\n",
            "Trainable params: 832 (3.25 KB)\n",
            "Non-trainable params: 0 (0.00 Byte)\n",
            "_________________________________________________________________\n"
          ]
        }
      ],
      "source": [
        "model.summary()"
      ]
    },
    {
      "cell_type": "code",
      "execution_count": null,
      "metadata": {
        "id": "Pu9cW4uyWghB",
        "outputId": "7c7aca75-40c1-4a50-90a8-852e8852cd96",
        "colab": {
          "base_uri": "https://localhost:8080/"
        }
      },
      "outputs": [
        {
          "output_type": "stream",
          "name": "stdout",
          "text": [
            "Model: \"sequential\"\n",
            "_________________________________________________________________\n",
            " Layer (type)                Output Shape              Param #   \n",
            "=================================================================\n",
            " conv2d (Conv2D)             (None, 24, 24, 32)        832       \n",
            "                                                                 \n",
            " max_pooling2d (MaxPooling2  (None, 12, 12, 32)        0         \n",
            " D)                                                              \n",
            "                                                                 \n",
            " conv2d_1 (Conv2D)           (None, 8, 8, 64)          51264     \n",
            "                                                                 \n",
            " max_pooling2d_1 (MaxPoolin  (None, 4, 4, 64)          0         \n",
            " g2D)                                                            \n",
            "                                                                 \n",
            "=================================================================\n",
            "Total params: 52096 (203.50 KB)\n",
            "Trainable params: 52096 (203.50 KB)\n",
            "Non-trainable params: 0 (0.00 Byte)\n",
            "_________________________________________________________________\n"
          ]
        }
      ],
      "source": [
        "model.add(Conv2D(filters=64,kernel_size=(5,5),strides=1,padding='valid',\n",
        "          activation='relu',input_shape=(28,28,1)))\n",
        "model.add(MaxPooling2D(pool_size=(2,2)))\n",
        "model.summary()"
      ]
    },
    {
      "cell_type": "code",
      "execution_count": null,
      "metadata": {
        "id": "PH3Ulv6lWghB"
      },
      "outputs": [],
      "source": [
        "model.add(layers.Flatten())\n",
        "model.add(layers.Dense(units=10, activation='softmax'))"
      ]
    },
    {
      "cell_type": "code",
      "execution_count": null,
      "metadata": {
        "id": "NAPhFSBQWghB",
        "outputId": "5944d98c-51b8-40fd-e68f-4f31f2860c6f",
        "colab": {
          "base_uri": "https://localhost:8080/"
        }
      },
      "outputs": [
        {
          "output_type": "stream",
          "name": "stdout",
          "text": [
            "Model: \"sequential\"\n",
            "_________________________________________________________________\n",
            " Layer (type)                Output Shape              Param #   \n",
            "=================================================================\n",
            " conv2d (Conv2D)             (None, 24, 24, 32)        832       \n",
            "                                                                 \n",
            " max_pooling2d (MaxPooling2  (None, 12, 12, 32)        0         \n",
            " D)                                                              \n",
            "                                                                 \n",
            " conv2d_1 (Conv2D)           (None, 8, 8, 64)          51264     \n",
            "                                                                 \n",
            " max_pooling2d_1 (MaxPoolin  (None, 4, 4, 64)          0         \n",
            " g2D)                                                            \n",
            "                                                                 \n",
            " flatten (Flatten)           (None, 1024)              0         \n",
            "                                                                 \n",
            " dense (Dense)               (None, 10)                10250     \n",
            "                                                                 \n",
            "=================================================================\n",
            "Total params: 62346 (243.54 KB)\n",
            "Trainable params: 62346 (243.54 KB)\n",
            "Non-trainable params: 0 (0.00 Byte)\n",
            "_________________________________________________________________\n"
          ]
        }
      ],
      "source": [
        "model.summary()"
      ]
    },
    {
      "cell_type": "code",
      "execution_count": null,
      "metadata": {
        "id": "q3CUhWtEWghB",
        "outputId": "8cffefc8-daa7-4f2f-9caf-fbaffec4e068",
        "colab": {
          "base_uri": "https://localhost:8080/"
        }
      },
      "outputs": [
        {
          "output_type": "stream",
          "name": "stdout",
          "text": [
            "Epoch 1/5\n",
            "600/600 [==============================] - 59s 96ms/step - loss: 0.8655 - accuracy: 0.7743\n",
            "Epoch 2/5\n",
            "600/600 [==============================] - 57s 96ms/step - loss: 0.2678 - accuracy: 0.9214\n",
            "Epoch 3/5\n",
            "600/600 [==============================] - 55s 91ms/step - loss: 0.1941 - accuracy: 0.9431\n",
            "Epoch 4/5\n",
            "600/600 [==============================] - 56s 93ms/step - loss: 0.1560 - accuracy: 0.9543\n",
            "Epoch 5/5\n",
            "600/600 [==============================] - 54s 91ms/step - loss: 0.1318 - accuracy: 0.9617\n",
            "313/313 [==============================] - 3s 10ms/step - loss: 0.1055 - accuracy: 0.9698\n",
            "Test Accuracy:  0.9697999954223633\n"
          ]
        }
      ],
      "source": [
        "from tensorflow.keras.utils import to_categorical\n",
        "\n",
        "mnist = tf.keras.datasets.mnist\n",
        "(train_images, train_labels), (test_images, test_labels) = mnist.load_data()\n",
        "\n",
        "train_images = train_images.reshape((60000,28,28,1))\n",
        "train_images = train_images.astype('float32')/255\n",
        "\n",
        "test_images = test_images.reshape((10000,28,28,1))\n",
        "test_images = test_images.astype('float32')/255\n",
        "\n",
        "train_labels = to_categorical(train_labels)\n",
        "test_labels  = to_categorical(test_labels)\n",
        "\n",
        "model.compile(loss='categorical_crossentropy',\n",
        "              optimizer='sgd',\n",
        "              metrics=['accuracy'])\n",
        "model.fit(train_images, train_labels,batch_size = 100,\n",
        "          epochs=5,verbose=1)\n",
        "\n",
        "test_loss, test_acc = model.evaluate(test_images, test_labels)\n",
        "\n",
        "print('Test Accuracy: ', test_acc)"
      ]
    },
    {
      "cell_type": "markdown",
      "source": [
        "**Tamaño y Número de Filtros:** El tamño de la ventana (*window_height* $\\times$ *window_width*). Casi siempre es $3 \\times 3$ o $5\\times 5$. El número de filtros que nos indica el número de características que se quieren manejar (*output_depth*) que se acostumbra a ser de 32 a 64.\n",
        "\n",
        "`Conv2D(output_depth, (window_height, window_width))`\n",
        "\n",
        "**Padding:** Se usa cuando se quiere obtener un tensor de salida de las mismas dimensiones que la entrada. Se agregan ceros (_zero-padding_) alrededor de las imágenes de entrada antes de hacer deslizar la ventana por ella.\n",
        "\n",
        "**Stride:** Indica el número de pasos en que se mueve la ventana de los filtros. Valores grandes de _stride_ grandes hacen decrecer el tamaño de la informaicón que pasará a la siguiente capa."
      ],
      "metadata": {
        "id": "Jw2AgZ17c_cq"
      }
    },
    {
      "cell_type": "code",
      "execution_count": null,
      "metadata": {
        "id": "nygHtoUkWghB"
      },
      "outputs": [],
      "source": [
        "fashion_mnist = keras.datasets.fashion_mnist\n",
        "\n",
        "(train_images, train_labels), (test_images, test_labels) = fashion_mnist.load_data()\n",
        "\n",
        "class_names = ['T-shirt/top','Trouser','Fullover','Dress',\n",
        "               'Coat','Sandal','Shirt','Sneker','Bag',\n",
        "               'Ankle boot']\n",
        "\n",
        "train_images = train_images.reshape((60000, 28,28,1))\n",
        "train_images = train_images.astype('float32')/255\n",
        "\n",
        "test_images = test_images.reshape((10000, 28,28,1))\n",
        "test_images = test_images.astype('float32')/255"
      ]
    },
    {
      "cell_type": "code",
      "source": [
        "model = Sequential()\n",
        "model.add(Conv2D(filters=32,kernel_size=(5,5),strides=1,padding='same',\n",
        "          activation='relu',input_shape=(28,28,1)))\n",
        "model.add(MaxPooling2D(pool_size=(2,2)))\n",
        "model.add(Conv2D(filters=64,kernel_size=(5,5),strides=1,padding='same',\n",
        "          activation='relu',input_shape=(28,28,1)))\n",
        "model.add(MaxPooling2D(pool_size=(2,2)))\n",
        "model.add(layers.Flatten())\n",
        "model.add(layers.Dense(units=10, activation='softmax'))\n",
        "\n",
        "model.compile(loss='sparse_categorical_crossentropy',\n",
        "              optimizer='adam',\n",
        "              metrics=['accuracy'])\n",
        "model.fit(train_images, train_labels, epochs=5)\n",
        "\n",
        "test_loss, test_acc = model.evaluate(test_images, test_labels)\n",
        "\n",
        "print('Test Accuracy: ', test_acc)"
      ],
      "metadata": {
        "colab": {
          "base_uri": "https://localhost:8080/"
        },
        "id": "HqU0s67i7h74",
        "outputId": "80345c40-250e-4a08-a886-5bdb706f0d6e"
      },
      "execution_count": null,
      "outputs": [
        {
          "output_type": "stream",
          "name": "stdout",
          "text": [
            "Epoch 1/5\n",
            "1875/1875 [==============================] - 204s 108ms/step - loss: 0.4161 - accuracy: 0.8511\n",
            "Epoch 2/5\n",
            "1875/1875 [==============================] - 162s 86ms/step - loss: 0.2813 - accuracy: 0.8988\n",
            "Epoch 3/5\n",
            "1875/1875 [==============================] - 164s 87ms/step - loss: 0.2414 - accuracy: 0.9132\n",
            "Epoch 4/5\n",
            "1875/1875 [==============================] - 185s 99ms/step - loss: 0.2122 - accuracy: 0.9217\n",
            "Epoch 5/5\n",
            "1875/1875 [==============================] - 163s 87ms/step - loss: 0.1888 - accuracy: 0.9313\n",
            "313/313 [==============================] - 7s 21ms/step - loss: 0.2548 - accuracy: 0.9088\n",
            "Test Accuracy:  0.9088000059127808\n"
          ]
        }
      ]
    },
    {
      "cell_type": "markdown",
      "source": [
        "- La capa *BatchNormalization* la idea es normalizar las entradas de la capa de tal manera que tengan una activación de salida media de cero y una desviación estándar de uno.\n",
        "- La capa *Dropout* ayuda a mitigar el sobreajuste de modelos. Se basa en ignorar ciertos conjuntos de neuronas de la red neuronal durante la fase de entrenamiento de manera aleatoria."
      ],
      "metadata": {
        "id": "M1nLr5ktATY5"
      }
    },
    {
      "cell_type": "code",
      "source": [
        "from tensorflow.keras.layers import Dropout, BatchNormalization\n",
        "from tensorflow.keras.layers import Flatten, Dense\n",
        "\n",
        "def make_model():\n",
        "  model = Sequential()\n",
        "  model.add(Conv2D(filters=32, kernel_size=(3,3),\n",
        "                   activation='relu',strides=1,padding='same',\n",
        "                   input_shape=(28,28,1)))\n",
        "  model.add(BatchNormalization())\n",
        "\n",
        "  model.add(Conv2D(filters=32, kernel_size=(3,3),\n",
        "                   activation='relu',strides=1,padding='same'))\n",
        "  model.add(BatchNormalization())\n",
        "  model.add(Dropout(rate=0.25))\n",
        "\n",
        "  model.add(Conv2D(filters=64, kernel_size=(3,3),\n",
        "                   activation='relu',strides=1,padding='same'))\n",
        "  model.add(MaxPooling2D(pool_size=(2,2)))\n",
        "  model.add(Dropout(rate=0.25))\n",
        "\n",
        "  model.add(Conv2D(filters=128, kernel_size=(3,3),\n",
        "                   activation='relu',strides=1,padding='same'))\n",
        "  model.add(BatchNormalization())\n",
        "  model.add(Dropout(rate=0.25))\n",
        "\n",
        "  model.add(Flatten())\n",
        "  model.add(Dense(units=512, activation='relu'))\n",
        "  model.add(BatchNormalization())\n",
        "  model.add(Dropout(rate=0.5))\n",
        "  model.add(Dense(units=128, activation='relu'))\n",
        "  model.add(BatchNormalization())\n",
        "  model.add(Dropout(rate=0.5))\n",
        "  model.add(Dense(units=10, activation='softmax'))\n",
        "\n",
        "  return model"
      ],
      "metadata": {
        "id": "u6Zr-NsJASVl"
      },
      "execution_count": null,
      "outputs": []
    },
    {
      "cell_type": "code",
      "source": [
        "model = make_model()\n",
        "\n",
        "model.compile(optimizer='adam',\n",
        "              loss='sparse_categorical_crossentropy',\n",
        "              metrics=['accuracy'])\n",
        "\n",
        "model.fit(train_images, train_labels, epochs=5)\n",
        "\n",
        "test_loss, test_acc = model.evaluate(test_images, test_labels)\n",
        "print('\\nTest accuracy:', test_acc)"
      ],
      "metadata": {
        "colab": {
          "base_uri": "https://localhost:8080/"
        },
        "id": "jGOL-o3aD_gO",
        "outputId": "b554dedd-03c4-4412-a84d-2924b8e52086"
      },
      "execution_count": null,
      "outputs": [
        {
          "output_type": "stream",
          "name": "stdout",
          "text": [
            "Epoch 1/5\n",
            "1875/1875 [==============================] - 1274s 677ms/step - loss: 0.5085 - accuracy: 0.8223\n",
            "Epoch 2/5\n",
            "1875/1875 [==============================] - 1142s 609ms/step - loss: 0.3224 - accuracy: 0.8860\n",
            "Epoch 3/5\n",
            "1875/1875 [==============================] - 1163s 620ms/step - loss: 0.2759 - accuracy: 0.9039\n",
            "Epoch 4/5\n",
            "1875/1875 [==============================] - 1218s 650ms/step - loss: 0.2462 - accuracy: 0.9127\n",
            "Epoch 5/5\n",
            "1875/1875 [==============================] - 1178s 628ms/step - loss: 0.2253 - accuracy: 0.9204\n",
            "313/313 [==============================] - 29s 91ms/step - loss: 0.2064 - accuracy: 0.9254\n",
            "\n",
            "Test accuracy: 0.9254000186920166\n"
          ]
        }
      ]
    },
    {
      "cell_type": "markdown",
      "source": [
        "_LearningRateScheduler_ coge la función de disminución de pasos como argumento y devuelve las tasas de aprendizaje actualizadas para usar en el optimizador en cada _epoch."
      ],
      "metadata": {
        "id": "nsBRPgrFAQF7"
      }
    },
    {
      "cell_type": "code",
      "source": [
        "model = make_model()\n",
        "\n",
        "model.compile(optimizer='adam',\n",
        "              loss='sparse_categorical_crossentropy',\n",
        "              metrics=['accuracy'])\n",
        "\n",
        "reduce_lr = tf.keras.callbacks.LearningRateScheduler(lambda x: 1e-3 * 0.9**x)\n",
        "\n",
        "model.fit(train_images, train_labels, epochs=30,\n",
        "          callbacks=[reduce_lr])\n",
        "\n",
        "test_loss, test_acc = model.evaluate(test_images, test_labels)\n",
        "print('\\nTest accuracy:', test_acc)"
      ],
      "metadata": {
        "colab": {
          "base_uri": "https://localhost:8080/",
          "height": 220
        },
        "id": "10YPGxLQ84DI",
        "outputId": "921b4bf9-68d5-4ed0-a063-e4950491f66a"
      },
      "execution_count": null,
      "outputs": [
        {
          "output_type": "error",
          "ename": "NameError",
          "evalue": "name 'rf' is not defined",
          "traceback": [
            "\u001b[0;31m---------------------------------------------------------------------------\u001b[0m",
            "\u001b[0;31mNameError\u001b[0m                                 Traceback (most recent call last)",
            "\u001b[0;32m<ipython-input-16-b491df2b7392>\u001b[0m in \u001b[0;36m<cell line: 7>\u001b[0;34m()\u001b[0m\n\u001b[1;32m      5\u001b[0m               metrics=['accuracy'])\n\u001b[1;32m      6\u001b[0m \u001b[0;34m\u001b[0m\u001b[0m\n\u001b[0;32m----> 7\u001b[0;31m \u001b[0mreduce_lr\u001b[0m \u001b[0;34m=\u001b[0m \u001b[0mrf\u001b[0m\u001b[0;34m.\u001b[0m\u001b[0mkeras\u001b[0m\u001b[0;34m.\u001b[0m\u001b[0mcallbacks\u001b[0m\u001b[0;34m.\u001b[0m\u001b[0mLearningRateScheduler\u001b[0m\u001b[0;34m(\u001b[0m\u001b[0;32mlambda\u001b[0m \u001b[0mx\u001b[0m\u001b[0;34m:\u001b[0m \u001b[0;36m1e-3\u001b[0m \u001b[0;34m*\u001b[0m \u001b[0;36m0.9\u001b[0m\u001b[0;34m**\u001b[0m\u001b[0mx\u001b[0m\u001b[0;34m)\u001b[0m\u001b[0;34m\u001b[0m\u001b[0;34m\u001b[0m\u001b[0m\n\u001b[0m\u001b[1;32m      8\u001b[0m \u001b[0;34m\u001b[0m\u001b[0m\n\u001b[1;32m      9\u001b[0m model.fit(train_images, train_labels, epochs=30,\n",
            "\u001b[0;31mNameError\u001b[0m: name 'rf' is not defined"
          ]
        }
      ]
    },
    {
      "cell_type": "markdown",
      "source": [
        "Un `callbacks` es una herramienta para personalizar el comportamiento de un modelo de Keras durante el entramineto, evaluación o inferencia del modelo de Keras."
      ],
      "metadata": {
        "id": "h2e_GrW4OzNO"
      }
    }
  ],
  "metadata": {
    "colab": {
      "collapsed_sections": [
        "BmreeGeqWghA"
      ],
      "provenance": [],
      "include_colab_link": true
    },
    "kernelspec": {
      "display_name": "Python 3",
      "name": "python3"
    },
    "language_info": {
      "codemirror_mode": {
        "name": "ipython",
        "version": 3
      },
      "file_extension": ".py",
      "mimetype": "text/x-python",
      "name": "python",
      "nbconvert_exporter": "python",
      "pygments_lexer": "ipython3",
      "version": "3.10.12"
    }
  },
  "nbformat": 4,
  "nbformat_minor": 0
}