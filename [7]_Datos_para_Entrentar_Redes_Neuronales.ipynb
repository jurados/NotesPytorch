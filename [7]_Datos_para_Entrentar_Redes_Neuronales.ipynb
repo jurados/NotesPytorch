{
  "cells": [
    {
      "cell_type": "markdown",
      "metadata": {
        "id": "view-in-github",
        "colab_type": "text"
      },
      "source": [
        "<a href=\"https://colab.research.google.com/github/jurados/NotesPytorch/blob/main/%5B7%5D_Datos_para_Entrentar_Redes_Neuronales.ipynb\" target=\"_parent\"><img src=\"https://colab.research.google.com/assets/colab-badge.svg\" alt=\"Open In Colab\"/></a>"
      ]
    },
    {
      "cell_type": "code",
      "execution_count": null,
      "metadata": {
        "id": "pExV9tXpDb2_"
      },
      "outputs": [],
      "source": [
        "import numpy as np\n",
        "import matplotlib.pyplot as plt\n",
        "\n",
        "import tensorflow as tf\n",
        "from tensorflow import keras"
      ]
    },
    {
      "cell_type": "markdown",
      "source": [
        "# Datos para Entrentar Redes Neuronales"
      ],
      "metadata": {
        "id": "WG3X2xENWIXB"
      }
    },
    {
      "cell_type": "markdown",
      "source": [
        "- COCO\n",
        "- ImageNet\n",
        "- Open Images\n",
        "- Visual Question Answering\n",
        "- SVHN\n",
        "- CIFAR-10/100,\n",
        "- Fashion-MNIST\n",
        "- IMDB Reviews\n",
        "- Twenty Newsgroups\n",
        "- Reuters-21578\n",
        "- WordNet\n",
        "- Yelp Reviews\n",
        "- Wikipedia Corpus\n",
        "- Blog Authorship Corpus\n",
        "- Machine Translation of European Languages\n",
        "- Free Spoken Digit Dataset\n",
        "- Free Music Archive\n",
        "- Ballroom\n",
        "- The Million Songí\n",
        "- LibriSpeech\n",
        "- VoxCeleb\n",
        "- The Boston Housing\n",
        "- Pascal\n",
        "- CVPPP Plant Leaf Segmentation\n",
        "- Cityscapes"
      ],
      "metadata": {
        "id": "C3g9Bm5gWVFA"
      }
    },
    {
      "cell_type": "code",
      "source": [
        "from google.colab import drive\n",
        "drive.mount('/gdrive')\n",
        "%cd /gdrive\n",
        "\n",
        "zip_path = '/gdrive/MyDrive/(POSGRADO) Cursos/Python Deep Learning - Jordi Torres/archive.zip'"
      ],
      "metadata": {
        "colab": {
          "base_uri": "https://localhost:8080/"
        },
        "id": "7JlnBmWAduRW",
        "outputId": "da98833d-995c-4b1e-c57d-a93505c86441"
      },
      "execution_count": null,
      "outputs": [
        {
          "output_type": "stream",
          "name": "stdout",
          "text": [
            "Drive already mounted at /gdrive; to attempt to forcibly remount, call drive.mount(\"/gdrive\", force_remount=True).\n",
            "/gdrive\n"
          ]
        }
      ]
    },
    {
      "cell_type": "code",
      "source": [
        "import os\n",
        "import zipfile\n",
        "\n",
        "local_zip = zip_path\n",
        "zip_ref   = zipfile.ZipFile(local_zip,'r')\n",
        "zip_ref.extractall('/tmp')\n",
        "zip_ref.close()"
      ],
      "metadata": {
        "id": "NW8GLJngbrOw"
      },
      "execution_count": null,
      "outputs": []
    },
    {
      "cell_type": "code",
      "source": [
        "base_dir = '/tmp/PetImages'\n",
        "train_dir = os.path.join(base_dir, 'train')\n",
        "validation_dir = os.path.join(base_dir, 'validation')\n",
        "test_dir = os.path.join(base_dir, 'test')\n",
        "\n",
        "train_cats_dir = os.path.join(train_dir, 'Cat')\n",
        "train_dogs_dir = os.path.join(train_dir, 'Dog')\n",
        "\n",
        "validation_cats_dir = os.path.join(validation_dir, 'Cat')\n",
        "validation_dogs_dir = os.path.join(validation_dir, 'Dog')\n",
        "\n",
        "test_cats_dir = os.path.join(test_dir, 'Cat')\n",
        "test_dogs_dir = os.path.join(test_dir, 'Dog')\n"
      ],
      "metadata": {
        "id": "HsWHLrL7efsx"
      },
      "execution_count": null,
      "outputs": []
    },
    {
      "cell_type": "code",
      "source": [
        "train_cat_fnames = os.listdir(train_cats_dir)\n",
        "print(train_cat_fnames[:5])"
      ],
      "metadata": {
        "colab": {
          "base_uri": "https://localhost:8080/",
          "height": 159
        },
        "id": "15DD84_bgbG1",
        "outputId": "4a25cae4-5f29-4605-c2d1-c0220c3ecf5a"
      },
      "execution_count": null,
      "outputs": [
        {
          "output_type": "error",
          "ename": "FileNotFoundError",
          "evalue": "[Errno 2] No such file or directory: '/tmp/PetImages/train/Cat'",
          "traceback": [
            "\u001b[0;31m---------------------------------------------------------------------------\u001b[0m",
            "\u001b[0;31mFileNotFoundError\u001b[0m                         Traceback (most recent call last)",
            "\u001b[0;32m<ipython-input-16-52222cc0f21a>\u001b[0m in \u001b[0;36m<cell line: 1>\u001b[0;34m()\u001b[0m\n\u001b[0;32m----> 1\u001b[0;31m \u001b[0mtrain_cat_fnames\u001b[0m \u001b[0;34m=\u001b[0m \u001b[0mos\u001b[0m\u001b[0;34m.\u001b[0m\u001b[0mlistdir\u001b[0m\u001b[0;34m(\u001b[0m\u001b[0mtrain_cats_dir\u001b[0m\u001b[0;34m)\u001b[0m\u001b[0;34m\u001b[0m\u001b[0;34m\u001b[0m\u001b[0m\n\u001b[0m\u001b[1;32m      2\u001b[0m \u001b[0mprint\u001b[0m\u001b[0;34m(\u001b[0m\u001b[0mtrain_cat_fnames\u001b[0m\u001b[0;34m[\u001b[0m\u001b[0;34m:\u001b[0m\u001b[0;36m5\u001b[0m\u001b[0;34m]\u001b[0m\u001b[0;34m)\u001b[0m\u001b[0;34m\u001b[0m\u001b[0;34m\u001b[0m\u001b[0m\n",
            "\u001b[0;31mFileNotFoundError\u001b[0m: [Errno 2] No such file or directory: '/tmp/PetImages/train/Cat'"
          ]
        }
      ]
    },
    {
      "cell_type": "markdown",
      "source": [
        "COn el argumento `verbose` se informa por pantalla de la evolución del entrenamiento."
      ],
      "metadata": {
        "id": "7J9ZrxsBi_9B"
      }
    },
    {
      "cell_type": "markdown",
      "source": [
        "Para llegar a un buen modelo de red neuronal es el equilibrio entre la optimización y la generalización. La **optimización** se refeiere al proceso de ajustar un modeo para obtener el mejor rendimiento posible en los datos de entrenamiento, mientras que la **generalización** se refiere a lo bien que se desempeña el modelo entrenado en datos que nuca antes ha visto.\n",
        "\n",
        "Hay dos formas básicas de evitar el _overfitting_: obtener más datos y la regularizaición.\n",
        "Regularizar es el proceso de modular la cantidad de información que el modelo puede almacenar con el fin de mejorar la posibilidad de generalizar el modelo. La regularización se realiza principlamente con las siguientes técnicas:\n",
        "\n",
        "- Reducir el tamño del modelo\n",
        "- Añadir Dropout\n",
        "- Añadir regularizaciones L1 y/o L2\n",
        "\n",
        "**Regularización de Pesos:** Un modelo más simple es menos proclive a sufrir sobreajustes. Un modelo simple tiene menos entropía. La regularización penaliza un modelo por tener pesos grandes, y se realiza añadiendo a la función de pérdida de la red un coste asociado a tener grandes pesos. Hay dos parámetros populares:\n",
        "\n",
        "- Regularazión L1: El coste es proporcional al valor absoluto de los coeficientes de peso. Lasso Regression (Least Absolute Shrinkage and Selection Operator)\n",
        "\n",
        "$$\\lambda \\sum_{j=1}^{n} |\\beta_{j}|$$\n",
        "\n",
        "- Regularazión L2: El coste proporcional al cuadrado del alor de los coeficientes de peso. Ridge regression.\n",
        "\n",
        "$$\\lambda \\sum_{j=1}^{n} \\left(\\beta_{j}\\right)^{2}$$\n"
      ],
      "metadata": {
        "id": "g2R9C8aBl1I-"
      }
    }
  ],
  "metadata": {
    "colab": {
      "collapsed_sections": [
        "WG3X2xENWIXB"
      ],
      "provenance": [],
      "include_colab_link": true
    },
    "kernelspec": {
      "display_name": "Python 3",
      "name": "python3"
    },
    "language_info": {
      "codemirror_mode": {
        "name": "ipython",
        "version": 3
      },
      "file_extension": ".py",
      "mimetype": "text/x-python",
      "name": "python",
      "nbconvert_exporter": "python",
      "pygments_lexer": "ipython3",
      "version": "3.10.12"
    }
  },
  "nbformat": 4,
  "nbformat_minor": 0
}