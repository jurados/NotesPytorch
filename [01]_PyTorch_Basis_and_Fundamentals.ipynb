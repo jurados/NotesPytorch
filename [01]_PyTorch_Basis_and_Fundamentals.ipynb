{
  "nbformat": 4,
  "nbformat_minor": 0,
  "metadata": {
    "colab": {
      "provenance": [],
      "collapsed_sections": [
        "fKawROBXD1tC",
        "Grj2y9VYEPqe",
        "EyMl-kNFZizU",
        "gq-N-HSLb9Ko",
        "4EU4ARXydYtQ",
        "u3UnaZwqobf7",
        "f9WEgFwTrXxl",
        "hK546GigsYnJ",
        "8R5N7RYguAVa",
        "CZw-RwyZ1gzx",
        "xLEhh_Cn2FmY",
        "xYkIal2R2bat"
      ],
      "authorship_tag": "ABX9TyMLaNHykHgHmzrnuoi1ebIR",
      "include_colab_link": true
    },
    "kernelspec": {
      "name": "python3",
      "display_name": "Python 3"
    },
    "language_info": {
      "name": "python"
    }
  },
  "cells": [
    {
      "cell_type": "markdown",
      "metadata": {
        "id": "view-in-github",
        "colab_type": "text"
      },
      "source": [
        "<a href=\"https://colab.research.google.com/github/jurados/NotesPytorch/blob/main/%5B01%5D_PyTorch_Basics_Tensor_%26_Gradients.ipynb\" target=\"_parent\"><img src=\"https://colab.research.google.com/assets/colab-badge.svg\" alt=\"Open In Colab\"/></a>"
      ]
    },
    {
      "cell_type": "markdown",
      "source": [
        "https://www.youtube.com/watch?v=vo_fUOk-IKk&list=PLWKjhJtqVAbm3T2Eq1_KgloC7ogdXxdRa"
      ],
      "metadata": {
        "id": "cUmih5QLDsyV"
      }
    },
    {
      "cell_type": "markdown",
      "source": [
        "# 01 PyTorch Basics: Tensor & Gradients"
      ],
      "metadata": {
        "id": "fKawROBXD1tC"
      }
    },
    {
      "cell_type": "code",
      "source": [
        "import numpy as np\n",
        "\n",
        "import torch\n",
        "from tqdm.auto import tqdm"
      ],
      "metadata": {
        "id": "K5m_TFvWEhtk"
      },
      "execution_count": null,
      "outputs": []
    },
    {
      "cell_type": "markdown",
      "source": [
        "## 1.1 Tensor operations and gradients"
      ],
      "metadata": {
        "id": "Grj2y9VYEPqe"
      }
    },
    {
      "cell_type": "code",
      "execution_count": null,
      "metadata": {
        "colab": {
          "base_uri": "https://localhost:8080/"
        },
        "id": "L57P_qUfDmUI",
        "outputId": "21d2567b-a33c-4690-a252-7d7ed18056bd"
      },
      "outputs": [
        {
          "output_type": "execute_result",
          "data": {
            "text/plain": [
              "(tensor(3.), tensor(4., requires_grad=True), tensor(3., requires_grad=True))"
            ]
          },
          "metadata": {},
          "execution_count": 11
        }
      ],
      "source": [
        "# Create tensors\n",
        "x = torch.tensor(3.)\n",
        "w = torch.tensor(4., requires_grad=True)\n",
        "b = torch.tensor(3., requires_grad=True)\n",
        "x,w,b"
      ]
    },
    {
      "cell_type": "code",
      "source": [
        "# Arithmetic operations\n",
        "y = w*x+b\n",
        "y"
      ],
      "metadata": {
        "colab": {
          "base_uri": "https://localhost:8080/"
        },
        "id": "IRAzrQ0qEax3",
        "outputId": "ca7459cd-ba9d-41e0-c85d-34e9e1773286"
      },
      "execution_count": null,
      "outputs": [
        {
          "output_type": "execute_result",
          "data": {
            "text/plain": [
              "tensor(15., grad_fn=<AddBackward0>)"
            ]
          },
          "metadata": {},
          "execution_count": 12
        }
      ]
    },
    {
      "cell_type": "markdown",
      "source": [
        "What makes PyTorch special is we can automatically compute the derivate of `y`, the tensors that have `requires_grad` set to `True`(id est). To compute the derivates, we can call the `.backward` method on our results `y`."
      ],
      "metadata": {
        "id": "35o99flREuYb"
      }
    },
    {
      "cell_type": "code",
      "source": [
        "# Compute derivates\n",
        "y.backward()"
      ],
      "metadata": {
        "id": "0HtedR-EEqgn"
      },
      "execution_count": null,
      "outputs": []
    },
    {
      "cell_type": "markdown",
      "source": [
        "The derivates of `y`, the input tensors are stored in the `.grad` property of the respective tensors."
      ],
      "metadata": {
        "id": "c_2Yz5s8Te1k"
      }
    },
    {
      "cell_type": "code",
      "source": [
        "# Display gradients\n",
        "print('dy/dx:',x.grad)\n",
        "print('dy/dw:',w.grad)\n",
        "print('dy/db:',b.grad)"
      ],
      "metadata": {
        "colab": {
          "base_uri": "https://localhost:8080/"
        },
        "id": "G_53lFehTWK2",
        "outputId": "21096224-9d8a-4448-924e-c88a11fe8033"
      },
      "execution_count": null,
      "outputs": [
        {
          "output_type": "stream",
          "name": "stdout",
          "text": [
            "dy/dx: None\n",
            "dy/dw: tensor(3.)\n",
            "dy/db: tensor(1.)\n"
          ]
        }
      ]
    },
    {
      "cell_type": "code",
      "source": [],
      "metadata": {
        "id": "MWEguc_hT3Xz"
      },
      "execution_count": null,
      "outputs": []
    }
  ]
}
